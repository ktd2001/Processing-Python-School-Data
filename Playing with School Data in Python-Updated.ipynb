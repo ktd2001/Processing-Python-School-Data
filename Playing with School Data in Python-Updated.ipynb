{
 "cells": [
  {
   "cell_type": "markdown",
   "metadata": {},
   "source": [
    "Practice with Python processing "
   ]
  },
  {
   "cell_type": "code",
   "execution_count": 1,
   "metadata": {},
   "outputs": [
    {
     "data": {
      "text/html": [
       "<style>.container { width:100% !important; }</style>"
      ],
      "text/plain": [
       "<IPython.core.display.HTML object>"
      ]
     },
     "metadata": {},
     "output_type": "display_data"
    }
   ],
   "source": [
    "from IPython.core.display import display, HTML \n",
    "display(HTML(\"<style>.container { width:100% !important; }</style>\"))"
   ]
  },
  {
   "cell_type": "markdown",
   "metadata": {},
   "source": [
    "Locate data on my computer"
   ]
  },
  {
   "cell_type": "code",
   "execution_count": 2,
   "metadata": {
    "scrolled": true
   },
   "outputs": [
    {
     "name": "stdout",
     "output_type": "stream",
     "text": [
      "/home/ktd2001/.local/share/Trash/files/userssharedsdfschoolimprovement2010grants.csv\n",
      "/home/ktd2001/.local/share/Trash/info/userssharedsdfschoolimprovement2010grants.csv.trashinfo\n",
      "/home/ktd2001/Downloads/DSSA_5102_Data_Gathering_and_Warehousing/userssharedsdfschoolimprovement2010grants.csv\n"
     ]
    }
   ],
   "source": [
    "!locate 'userssharedsdfschoolimprovement2010grants.csv'"
   ]
  },
  {
   "cell_type": "markdown",
   "metadata": {},
   "source": [
    "Load the schood data"
   ]
  },
  {
   "cell_type": "code",
   "execution_count": 3,
   "metadata": {
    "scrolled": true
   },
   "outputs": [
    {
     "ename": "FileNotFoundError",
     "evalue": "[Errno 2] No such file or directory: '/home/ktd2001/Documents/DSSA_5102_Data_Gathering_and_Warehousing/userssharedsdfschoolimprovement2010grants.csv'",
     "output_type": "error",
     "traceback": [
      "\u001b[0;31m---------------------------------------------------------------------------\u001b[0m",
      "\u001b[0;31mFileNotFoundError\u001b[0m                         Traceback (most recent call last)",
      "\u001b[0;32m<ipython-input-3-c752f3a2e8cb>\u001b[0m in \u001b[0;36m<module>\u001b[0;34m()\u001b[0m\n\u001b[0;32m----> 1\u001b[0;31m \u001b[0;32mwith\u001b[0m \u001b[0mopen\u001b[0m\u001b[0;34m(\u001b[0m\u001b[0;34m'/home/ktd2001/Documents/DSSA_5102_Data_Gathering_and_Warehousing/userssharedsdfschoolimprovement2010grants.csv'\u001b[0m\u001b[0;34m,\u001b[0m \u001b[0;34m'r'\u001b[0m\u001b[0;34m)\u001b[0m \u001b[0;32mas\u001b[0m \u001b[0mf\u001b[0m\u001b[0;34m:\u001b[0m \u001b[0mdata\u001b[0m \u001b[0;34m=\u001b[0m \u001b[0mf\u001b[0m\u001b[0;34m.\u001b[0m\u001b[0mreadlines\u001b[0m\u001b[0;34m(\u001b[0m\u001b[0;34m)\u001b[0m\u001b[0;34m\u001b[0m\u001b[0;34m\u001b[0m\u001b[0m\n\u001b[0m",
      "\u001b[0;31mFileNotFoundError\u001b[0m: [Errno 2] No such file or directory: '/home/ktd2001/Documents/DSSA_5102_Data_Gathering_and_Warehousing/userssharedsdfschoolimprovement2010grants.csv'"
     ]
    }
   ],
   "source": [
    "with open('/home/ktd2001/Documents/DSSA_5102_Data_Gathering_and_Warehousing/userssharedsdfschoolimprovement2010grants.csv', 'r') as f: data = f.readlines()"
   ]
  },
  {
   "cell_type": "markdown",
   "metadata": {},
   "source": [
    "List and splice data"
   ]
  },
  {
   "cell_type": "code",
   "execution_count": 4,
   "metadata": {},
   "outputs": [
    {
     "ename": "NameError",
     "evalue": "name 'data' is not defined",
     "output_type": "error",
     "traceback": [
      "\u001b[0;31m---------------------------------------------------------------------------\u001b[0m",
      "\u001b[0;31mNameError\u001b[0m                                 Traceback (most recent call last)",
      "\u001b[0;32m<ipython-input-4-b5f01a7c0d9a>\u001b[0m in \u001b[0;36m<module>\u001b[0;34m()\u001b[0m\n\u001b[0;32m----> 1\u001b[0;31m \u001b[0mtype\u001b[0m\u001b[0;34m(\u001b[0m\u001b[0mdata\u001b[0m\u001b[0;34m)\u001b[0m\u001b[0;34m\u001b[0m\u001b[0;34m\u001b[0m\u001b[0m\n\u001b[0m",
      "\u001b[0;31mNameError\u001b[0m: name 'data' is not defined"
     ]
    }
   ],
   "source": [
    "type(data)"
   ]
  },
  {
   "cell_type": "code",
   "execution_count": 5,
   "metadata": {},
   "outputs": [
    {
     "data": {
      "text/plain": [
       "['School Name,City,State,District Name,2010/11/Award Amount,Model Selected,Location\\n',\n",
       " 'HOGARTH KINGEEKUK MEMORIAL SCHOOL,SAVOONGA,AK,BERING STRAIT SCHOOL DISTRICT,$471014.00,Transformation,\"200 MAIN ST\\n',\n",
       " 'SAVOONGA, AK 99769\\n',\n",
       " '(63.6687, -170.603)\"\\n',\n",
       " 'AKIACHAK SCHOOL,AKIACHAK,AK,YUPIIT SCHOOL DISTRICT,$520579.00,Transformation,\"AKIACHAK 51100\\n',\n",
       " 'AKIACHAK, AK 99551\\n',\n",
       " '(60.8911, -161.376)\"\\n',\n",
       " 'GAMBELL SCHOOL,GAMBELL,AK,BERING STRAIT SCHOOL DISTRICT,$449592.00,Transformation,\"169 MAIN ST\\n',\n",
       " 'GAMBELL, AK 99742\\n',\n",
       " '(63.7413, -171.689)\"\\n']"
      ]
     },
     "execution_count": 5,
     "metadata": {},
     "output_type": "execute_result"
    }
   ],
   "source": [
    "data[0:10]"
   ]
  },
  {
   "cell_type": "code",
   "execution_count": 6,
   "metadata": {},
   "outputs": [
    {
     "data": {
      "text/plain": [
       "831.0"
      ]
     },
     "execution_count": 6,
     "metadata": {},
     "output_type": "execute_result"
    }
   ],
   "source": [
    "(len(data)-1) / 3"
   ]
  },
  {
   "cell_type": "code",
   "execution_count": 7,
   "metadata": {},
   "outputs": [],
   "source": [
    "columns = data[0]"
   ]
  },
  {
   "cell_type": "code",
   "execution_count": 8,
   "metadata": {},
   "outputs": [
    {
     "data": {
      "text/plain": [
       "'School Name,City,State,District Name,2010/11/Award Amount,Model Selected,Location\\n'"
      ]
     },
     "execution_count": 8,
     "metadata": {},
     "output_type": "execute_result"
    }
   ],
   "source": [
    "columns"
   ]
  },
  {
   "cell_type": "code",
   "execution_count": 9,
   "metadata": {},
   "outputs": [
    {
     "data": {
      "text/plain": [
       "['HOGARTH KINGEEKUK MEMORIAL SCHOOL,SAVOONGA,AK,BERING STRAIT SCHOOL DISTRICT,$471014.00,Transformation,\"200 MAIN ST\\n',\n",
       " 'SAVOONGA, AK 99769\\n',\n",
       " '(63.6687, -170.603)\"\\n',\n",
       " 'AKIACHAK SCHOOL,AKIACHAK,AK,YUPIIT SCHOOL DISTRICT,$520579.00,Transformation,\"AKIACHAK 51100\\n',\n",
       " 'AKIACHAK, AK 99551\\n',\n",
       " '(60.8911, -161.376)\"\\n',\n",
       " 'GAMBELL SCHOOL,GAMBELL,AK,BERING STRAIT SCHOOL DISTRICT,$449592.00,Transformation,\"169 MAIN ST\\n',\n",
       " 'GAMBELL, AK 99742\\n',\n",
       " '(63.7413, -171.689)\"\\n',\n",
       " 'BURCHELL HIGH SCHOOL,WASILLA,AK,MATANUSKA-SUSITNA BOROUGH SCHOOL DISTRICT,$641184.00,Transformation,\"1775 WEST PARKS HWY\\n',\n",
       " 'WASILLA, AK 99654\\n',\n",
       " '(61.5794, -149.495)\"\\n',\n",
       " 'AKIAK SCHOOL,AKIAK,AK,YUPIIT SCHOOL DISTRICT,$399686.00,Transformation,\"AKIAK 5227\\n',\n",
       " 'AKIAK, AK 99552\\n',\n",
       " '(60.8879, -161.2)\"\\n',\n",
       " 'MIDVALLEY HIGH,WASILLA,AK,MATANUSKA-SUSITNA BOROUGH SCHOOL DISTRICT,$697703.00,Restart,\"7362 WEST PARKS HWY 725\\n',\n",
       " 'WASILLA, AK 99654\\n',\n",
       " '(61.5023, -149.796)\"\\n',\n",
       " 'TULUKSAK SCHOOL,TULUKSAK,AK,YUPIIT SCHOOL DISTRICT,$427658.00,Transformation,\"TULUKSAK 115\\n',\n",
       " 'TULUKSAK, AK 99679\\n',\n",
       " '(61.1001, -160.961)\"\\n']"
      ]
     },
     "execution_count": 9,
     "metadata": {},
     "output_type": "execute_result"
    }
   ],
   "source": [
    "data[1:22]"
   ]
  },
  {
   "cell_type": "code",
   "execution_count": 10,
   "metadata": {},
   "outputs": [
    {
     "data": {
      "text/plain": [
       "['HOGARTH KINGEEKUK MEMORIAL SCHOOL,SAVOONGA,AK,BERING STRAIT SCHOOL DISTRICT,$471014.00,Transformation,\"200 MAIN ST\\n',\n",
       " 'AKIACHAK SCHOOL,AKIACHAK,AK,YUPIIT SCHOOL DISTRICT,$520579.00,Transformation,\"AKIACHAK 51100\\n',\n",
       " 'GAMBELL SCHOOL,GAMBELL,AK,BERING STRAIT SCHOOL DISTRICT,$449592.00,Transformation,\"169 MAIN ST\\n',\n",
       " 'BURCHELL HIGH SCHOOL,WASILLA,AK,MATANUSKA-SUSITNA BOROUGH SCHOOL DISTRICT,$641184.00,Transformation,\"1775 WEST PARKS HWY\\n',\n",
       " 'AKIAK SCHOOL,AKIAK,AK,YUPIIT SCHOOL DISTRICT,$399686.00,Transformation,\"AKIAK 5227\\n',\n",
       " 'MIDVALLEY HIGH,WASILLA,AK,MATANUSKA-SUSITNA BOROUGH SCHOOL DISTRICT,$697703.00,Restart,\"7362 WEST PARKS HWY 725\\n',\n",
       " 'TULUKSAK SCHOOL,TULUKSAK,AK,YUPIIT SCHOOL DISTRICT,$427658.00,Transformation,\"TULUKSAK 115\\n']"
      ]
     },
     "execution_count": 10,
     "metadata": {},
     "output_type": "execute_result"
    }
   ],
   "source": [
    "data [1:22:3]"
   ]
  },
  {
   "cell_type": "code",
   "execution_count": 11,
   "metadata": {},
   "outputs": [
    {
     "data": {
      "text/plain": [
       "7"
      ]
     },
     "execution_count": 11,
     "metadata": {},
     "output_type": "execute_result"
    }
   ],
   "source": [
    "len(data[1:22:3])"
   ]
  },
  {
   "cell_type": "code",
   "execution_count": 12,
   "metadata": {},
   "outputs": [
    {
     "data": {
      "text/plain": [
       "['SAVOONGA, AK 99769\\n',\n",
       " 'AKIACHAK, AK 99551\\n',\n",
       " 'GAMBELL, AK 99742\\n',\n",
       " 'WASILLA, AK 99654\\n',\n",
       " 'AKIAK, AK 99552\\n',\n",
       " 'WASILLA, AK 99654\\n',\n",
       " 'TULUKSAK, AK 99679\\n']"
      ]
     },
     "execution_count": 12,
     "metadata": {},
     "output_type": "execute_result"
    }
   ],
   "source": [
    "data[2:22:3]"
   ]
  },
  {
   "cell_type": "code",
   "execution_count": 13,
   "metadata": {},
   "outputs": [
    {
     "data": {
      "text/plain": [
       "7"
      ]
     },
     "execution_count": 13,
     "metadata": {},
     "output_type": "execute_result"
    }
   ],
   "source": [
    "len(data[2:22:3])"
   ]
  },
  {
   "cell_type": "code",
   "execution_count": 14,
   "metadata": {},
   "outputs": [
    {
     "data": {
      "text/plain": [
       "['(63.6687, -170.603)\"\\n',\n",
       " '(60.8911, -161.376)\"\\n',\n",
       " '(63.7413, -171.689)\"\\n',\n",
       " '(61.5794, -149.495)\"\\n',\n",
       " '(60.8879, -161.2)\"\\n',\n",
       " '(61.5023, -149.796)\"\\n',\n",
       " '(61.1001, -160.961)\"\\n']"
      ]
     },
     "execution_count": 14,
     "metadata": {},
     "output_type": "execute_result"
    }
   ],
   "source": [
    "data[3:22:3]"
   ]
  },
  {
   "cell_type": "markdown",
   "metadata": {},
   "source": [
    "Used the zip function and concatenated data"
   ]
  },
  {
   "cell_type": "code",
   "execution_count": 15,
   "metadata": {},
   "outputs": [
    {
     "name": "stdout",
     "output_type": "stream",
     "text": [
      "TULUKSAK SCHOOL,TULUKSAK,AK,YUPIIT SCHOOL DISTRICT,$427658.00,Transformation,\"TULUKSAK 115TULUKSAK, AK 99679(61.1001, -160.961)\"\n"
     ]
    }
   ],
   "source": [
    "records = []\n",
    "\n",
    "for part_1, part_2, part_3 in zip(data[1:22:3], data[2:22:3], data[3:22:3]):record = (part_1 + part_2 + part_3).replace(\"\\n\",\"\")\n",
    "records.append(record)\n",
    "print(record)\n"
   ]
  },
  {
   "cell_type": "code",
   "execution_count": 16,
   "metadata": {},
   "outputs": [
    {
     "data": {
      "text/plain": [
       "1"
      ]
     },
     "execution_count": 16,
     "metadata": {},
     "output_type": "execute_result"
    }
   ],
   "source": [
    "len(records)"
   ]
  },
  {
   "cell_type": "code",
   "execution_count": 17,
   "metadata": {},
   "outputs": [
    {
     "data": {
      "text/plain": [
       "7"
      ]
     },
     "execution_count": 17,
     "metadata": {},
     "output_type": "execute_result"
    }
   ],
   "source": [
    "len( columns.strip().split(\",\") )"
   ]
  },
  {
   "cell_type": "code",
   "execution_count": 18,
   "metadata": {},
   "outputs": [
    {
     "data": {
      "text/plain": [
       "['School Name',\n",
       " 'City',\n",
       " 'State',\n",
       " 'District Name',\n",
       " '2010/11/Award Amount',\n",
       " 'Model Selected',\n",
       " 'Location']"
      ]
     },
     "execution_count": 18,
     "metadata": {},
     "output_type": "execute_result"
    }
   ],
   "source": [
    "columns.strip().split(\",\")"
   ]
  },
  {
   "cell_type": "markdown",
   "metadata": {},
   "source": [
    "Testing codes to make sure its behavioring correctly"
   ]
  },
  {
   "cell_type": "code",
   "execution_count": 19,
   "metadata": {},
   "outputs": [
    {
     "data": {
      "text/plain": [
       "{9}"
      ]
     },
     "execution_count": 19,
     "metadata": {},
     "output_type": "execute_result"
    }
   ],
   "source": [
    "number_of_fields = set()\n",
    "\n",
    "records = [ (x+y+z).replace(\"\\n\", \"\") for x, y, z in zip(data[1::3], data[2::3], data[3::3]) ]\n",
    "for record in records[0:10]:\n",
    "    number_of_fields.add(  \n",
    "        len( record.split(\",\") )\n",
    "    )\n",
    "number_of_fields"
   ]
  },
  {
   "cell_type": "raw",
   "metadata": {},
   "source": [
    "for record in records[0:10]:\n",
    "    print(record.split(\",\"))"
   ]
  },
  {
   "cell_type": "code",
   "execution_count": 20,
   "metadata": {},
   "outputs": [
    {
     "data": {
      "text/plain": [
       "'HOGARTH KINGEEKUK MEMORIAL SCHOOL,SAVOONGA,AK,BERING STRAIT SCHOOL DISTRICT,$471014.00,Transformation,\"200 MAIN STSAVOONGA, AK 99769(63.6687, -170.603)\"'"
      ]
     },
     "execution_count": 20,
     "metadata": {},
     "output_type": "execute_result"
    }
   ],
   "source": [
    "records[0]"
   ]
  },
  {
   "cell_type": "code",
   "execution_count": 21,
   "metadata": {},
   "outputs": [
    {
     "data": {
      "text/plain": [
       "['HOGARTH KINGEEKUK MEMORIAL SCHOOL,SAVOONGA,AK,BERING STRAIT SCHOOL DISTRICT,$471014.00,Transformation,\"200 MAIN STSAVOONGA, AK 99769(63.6687, -170.603)\"',\n",
       " 'AKIACHAK SCHOOL,AKIACHAK,AK,YUPIIT SCHOOL DISTRICT,$520579.00,Transformation,\"AKIACHAK 51100AKIACHAK, AK 99551(60.8911, -161.376)\"',\n",
       " 'GAMBELL SCHOOL,GAMBELL,AK,BERING STRAIT SCHOOL DISTRICT,$449592.00,Transformation,\"169 MAIN STGAMBELL, AK 99742(63.7413, -171.689)\"',\n",
       " 'BURCHELL HIGH SCHOOL,WASILLA,AK,MATANUSKA-SUSITNA BOROUGH SCHOOL DISTRICT,$641184.00,Transformation,\"1775 WEST PARKS HWYWASILLA, AK 99654(61.5794, -149.495)\"',\n",
       " 'AKIAK SCHOOL,AKIAK,AK,YUPIIT SCHOOL DISTRICT,$399686.00,Transformation,\"AKIAK 5227AKIAK, AK 99552(60.8879, -161.2)\"',\n",
       " 'MIDVALLEY HIGH,WASILLA,AK,MATANUSKA-SUSITNA BOROUGH SCHOOL DISTRICT,$697703.00,Restart,\"7362 WEST PARKS HWY 725WASILLA, AK 99654(61.5023, -149.796)\"',\n",
       " 'TULUKSAK SCHOOL,TULUKSAK,AK,YUPIIT SCHOOL DISTRICT,$427658.00,Transformation,\"TULUKSAK 115TULUKSAK, AK 99679(61.1001, -160.961)\"',\n",
       " 'CAPITOL HEIGHTS JR HIGH SCH,MONTGOMERY,AL,MONTGOMERY COUNTY,$110544.00,Transformation,\"116 FEDERAL DRMONTGOMERY, AL 36107(32.3821, -86.2724)\"',\n",
       " 'LOWNDES CO MIDDLE SCH,FORT DEPOSIT,AL,LOWNDES COUNTY,$12973.00,Transformation,\"510 MONTGOMERY STFORT DEPOSIT, AL 36032(31.9948, -86.5905)\"',\n",
       " 'CENTRAL MIDDLE SCH,ROCKFORD,AL,COOSA COUNTY,$199828.00,Transformation,\"ROUTE 2BOX 65ROCKFORD, AL 35136(32.8928, -86.1552)\"',\n",
       " 'BELLINGRATH JR HIGH SCH,MONTGOMERY,AL,MONTGOMERY COUNTY,$165903.00,Transformation,\"3488 SOUTH COUROUTE STMONTGOMERY, AL 36105(32.3447, -86.3082)\"',\n",
       " 'HAYNEVILLE MIDDLE SCH,HAYNEVILLE,AL,LOWNDES COUNTY,$121657.00,Transformation,\"101 LAFAYETTE STHAYNEVILLE, AL 36040(32.1834, -86.5808)\"',\n",
       " 'SOUTHLAWN MIDDLE SCH,MONTGOMERY,AL,MONTGOMERY COUNTY,$914557.00,Transformation,\"5533 MOBILE HWYMONTGOMERY, AL 36108(32.3064, -86.3998)\"',\n",
       " 'CONTINUOUS LEARNING CTR,MOBILE,AL,MOBILE COUNTY,$198953.00,Transformation,\"1870 PLACEEASANT AVEMOBILE, AL 36617(30.702, -88.0809)\"',\n",
       " 'JACKSON-STEELE ELEM SCH,HAYNEVILLE,AL,LOWNDES COUNTY,$118394.00,Transformation,\"570 FREEDOM RDHAYNEVILLE, AL 36040(32.304, -86.7132)\"',\n",
       " 'MCINTYRE MIDDLE SCH,MONTGOMERY,AL,MONTGOMERY COUNTY,$143238.00,Transformation,\"1220 HUGH STMONTGOMERY, AL 36108(32.3603, -86.3316)\"',\n",
       " 'JOHN ESSEX HIGH SCH,DEMOPOLIS,AL,MARENGO COUNTY,$151116.00,Transformation,\"70 HORNET DRDEMOPOLIS, AL 36732(32.4848, -87.8614)\"',\n",
       " 'CALHOUN HIGH SCH,LETOHATCHEE,AL,LOWNDES COUNTY,$163619.00,Transformation,\"8213 COUNTY RD 33LETOHATCHEE, AL 36047(32.1012, -86.586)\"',\n",
       " 'OSCEOLA MIDDLE SCHOOL,OSCEOLA,AR,OSCEOLA SCHOOL DISTRICT,$665000.00,Transformation,\"711 WEST LEEOSCEOLA, AR 72370(35.7002, -89.9771)\"',\n",
       " 'HALL HIGH SCHOOL,LITTLE ROCK,AR,LITTLE ROCK SCHOOL DISTRICT,$198728.00,Transformation,\"6700 H STLITTLE ROCK, AR 72205(34.7605, -92.3466)\"',\n",
       " 'ROSE CITY MIDDLE SCHOOL,NORTH LITTLE ROCK,AR,N. LITTLE ROCK SCHOOL DISTRICT,$991451.00,Transformation,\"5500 LYNCH DRNORTH LITTLE ROCK, AR 72117(34.7561, -92.1934)\"',\n",
       " 'TRUSTY ELEMENTARY SCHOOL,FORT SMITH,AR,FORT SMITH SCHOOL DISTRICT,$990135.00,Transformation,\"3300 HARRIS AVEFORT SMITH, AR 72904(35.412, -94.3956)\"',\n",
       " 'J.A. FAIR HIGH SCHOOL,LITTLE ROCK,AR,LITTLE ROCK SCHOOL DISTRICT,$197012.00,Transformation,\"13420 DAVID O DODD RDLITTLE ROCK, AR 72210(34.7062, -92.4113)\"',\n",
       " 'OSCEOLA HIGH SCHOOL,OSCEOLA,AR,OSCEOLA SCHOOL DISTRICT,$695000.00,Transformation,\"2800 WEST SEMMESOSCEOLA, AR 72370(35.7053, -90.0156)\"',\n",
       " 'CLOVERDALE MIDDLE SCHOOL,LITTLE ROCK,AR,LITTLE ROCK SCHOOL DISTRICT,$198783.00,Transformation,\"6300 HINKSON RDLITTLE ROCK, AR 72209(34.6738, -92.3476)\"',\n",
       " 'GADSDEN ELEMENTARY SCHOOL,GADSDEN,AZ,GADSDEN ELEMENTARY DISTRICT,$847003.00,Transformation,\"18745 SOUTH GADSDEN STGADSDEN, AZ 85336(32.5554, -114.784)\"',\n",
       " 'EAST VALLEY HIGH SCHOOL,MESA,AZ,LEGACY EDUCATION GROUP,$381512.00,Turnaround,\"7420 EAST MAIN STMESA, AZ 85207(33.4155, -111.671)\"',\n",
       " 'CRITTENTON YOUTH ACADEMY,PHOENIX,AZ,FLORENCE CRITTENTON SERVICES OF ARIZONA  INC.,$915959.00,Turnaround,\"715 WEST MARIPOSA STPHOENIX, AZ 85013(33.508, -112.083)\"',\n",
       " 'ALCHESAY HIGH SCHOOL,WHITERIVER,AZ,WHITERIVER UNIFIED DISTRICT,$812195.00,Transformation,\"200 FALCON WAYWHITERIVER, AZ 85941(33.8252, -109.976)\"',\n",
       " 'SAN CARLOS HIGH SCHOOL,SAN CARLOS,AZ,SAN CARLOS UNIFIED DISTRICT,$928654.00,Transformation,\"SAN CARLOS AVESAN CARLOS, AZ 85550(33.3514, -110.452)\"',\n",
       " 'PIMA PARTNERSHIP SCHOOL  THE,TUCSON,AZ,PIMA PREVENTION PARTNERSHIP DBA PIMA PARTNERSHIP SCHOOL  THE,$818238.00,Turnaround,\"1346 NORTH STONE AVETUCSON, AZ 85705(32.2393, -110.971)\"',\n",
       " 'LA PUERTA HIGH SCHOOL,PHOENIX,AZ,OMEGA SCHOOLS D.B.A. OMEGA ACADEMY  INC.,$634503.00,Turnaround,\"5757 WEST MCDOWELL RDPHOENIX, AZ 85035(33.466, -112.184)\"',\n",
       " 'PROJECT MORE HIGH SCHOOL,TUCSON,AZ,TUCSON UNIFIED DISTRICT,$836556.00,Transformation,\"440 SOUTH PARKTUCSON, AZ 85719(32.218, -110.957)\"',\n",
       " 'PEACH SPRINGS SCHOOL,PEACH SPRINGS,AZ,PEACH SPRINGS UNIFIED DISTRICT,$880050.00,Transformation,\"403 DIAMOND CREEK RDPEACH SPRINGS, AZ 86434(35.5352, -113.424)\"',\n",
       " 'WHITE CONE HIGH SCHOOL,WHITE CONE,AZ,CEDAR UNIFIED DISTRICT,$728696.00,Transformation,\"HWY 77 MILE POST 31.2WHITE CONE, AZ 86031(35.5605, -110.042)\"',\n",
       " 'JAMES SANDOVAL PREPARATORY HIGH SCHOOL,PHOENIX,AZ,JAMES SANDOVAL PREPARATORY HIGH SCHOOL,$696668.00,Transformation,\"3830 NORTH 67TH AVEPHOENIX, AZ 85033(33.4916, -112.203)\"',\n",
       " 'SEVEN MILE SCHOOL,WHITERIVER,AZ,WHITERIVER UNIFIED DISTRICT,$826589.00,Transformation,\"2005 FT. APACHEWHITERIVER, AZ 85941(33.8048, -109.996)\"',\n",
       " 'Rice Elementary School,San Carlos,AZ,San Carlos Unified District,$204246.00,Transformation,\"San Carlos AvenueSan Carlos, AZ 85550(33.3557, -110.452)\"',\n",
       " 'HOWENSTINE HIGH SCHOOL,TUCSON,AZ,TUCSON UNIFIED DISTRICT,$760314.00,Transformation,\"555 SOUTH TUCSON BLVDTUCSON, AZ 85716(32.2156, -110.935)\"',\n",
       " 'BABOQUIVARI HIGH SCHOOL,SELLS,AZ,INDIAN OASIS-BABOQUIVARI UNIFIED DISTRICT,$558022.00,Turnaround,\"111 WEST MAINSELLS, AZ 85634(32.0827, -112.072)\"',\n",
       " 'IMAGINE ELEMENTARY AT CAMELBACK,PHOENIX,AZ,IMAGINE CHARTER ELEMENTARY AT CAMELBACK  INC.,$696520.00,Turnaround,\"5050 NORTH 19TH AVEPHOENIX, AZ 85015(33.5111, -112.101)\"',\n",
       " 'MT TIPTON ELEMENTARY SCHOOL,DOLAN SPRINGS,AZ,KINGMAN UNIFIED SCHOOL DISTRICT,$565322.00,Transformation,\"16500 PIERCE FERRY RDDOLAN SPRINGS, AZ 86441(35.6811, -114.188)\"',\n",
       " 'CANYON DAY JUNIOR HIGH SCHOOL,WHITERIVER,AZ,WHITERIVER UNIFIED DISTRICT,$599344.00,Transformation,\"4621 SOUTH 9TH STWHITERIVER, AZ 85941(33.8932, -109.951)\"',\n",
       " 'SELIGMAN HIGH SCHOOL,SELIGMAN,AZ,SELIGMAN UNIFIED DISTRICT,$490954.00,Turnaround,\"500 NORTH MAIN STSELIGMAN, AZ 86337(35.3298, -112.874)\"',\n",
       " 'FREMONT MIDDLE,POMONA,CA,POMONA UNIFIED,$174245.00,Transformation,\"725 WEST FRANKLIN AVEPOMONA, CA 91766(34.0405, -117.757)\"',\n",
       " 'SIERRA INTERMEDIATE,SANTA ANA,CA,SANTA ANA UNIFIED,$181152.00,Transformation,\"2021 NORTH GRAND AVESANTA ANA, CA 92705(33.7636, -117.852)\"',\n",
       " 'LONGWOOD ELEMENTARY,HAYWARD,CA,HAYWARD UNIFIED,$162698.00,Turnaround,\"850 LONGWOOD AVEHAYWARD, CA 94541(37.6591, -122.11)\"',\n",
       " 'MCFARLAND HIGH,MCFARLAND,CA,MCFARLAND UNIFIED,$997852.00,Transformation,\"259 SHERWOOD AVEMCFARLAND, CA 93250(35.6744, -119.223)\"',\n",
       " 'PACIFIC HIGH,SAN BERNARDINO,CA,SAN BERNARDINO CITY UNIFIED,$2.00,Transformation,\"1020 PACIFIC STSAN BERNARDINO, CA 92404(34.1287, -117.266)\"',\n",
       " 'GREENFIELD ELEMENTARY,GREENFIELD,CA,GREENFIELD UNION ELEMENTARY,$743444.00,Transformation,\"490 EL CAMINO REALGREENFIELD, CA 93927(36.3266, -121.248)\"',\n",
       " 'TUMBLEWEED ELEMENTARY,PALMDALE,CA,PALMDALE ELEMENTARY,$179933.00,Turnaround,\"1100 EAST AVE R-4PALMDALE, CA 93550(34.569, -118.109)\"',\n",
       " 'HILLSIDE ELEMENTARY,SAN LEANDRO,CA,SAN LORENZO UNIFIED,$530980.00,Transformation,\"15980 MARCELLA STSAN LEANDRO, CA 94578(37.7018, -122.117)\"',\n",
       " 'FLORENCE GRIFFITH JOYNER ELEMENTARY,LOS ANGELES,CA,LOS ANGELES UNIFIED,$188694.00,Restart,\"1963 EAST 103RD STLOS ANGELES, CA 90002(33.9432, -118.237)\"',\n",
       " 'SAN GORGONIO HIGH,SAN BERNARDINO,CA,SAN BERNARDINO CITY UNIFIED,$2.00,Transformation,\"2299 EAST PACIFIC AVESAN BERNARDINO, CA 92404(34.1286, -117.237)\"',\n",
       " 'FONTANA A. B. MILLER HIGH,FONTANA,CA,FONTANA UNIFIED,$1795.00,Transformation,\"6821 OLEANDER AVEFONTANA, CA 92336(34.1301, -117.449)\"',\n",
       " 'ELMHURST COMMUNITY PREP,OAKLAND,CA,OAKLAND UNIFIED,$121793.00,Transformation,\"1800 98TH AVEOAKLAND, CA 94603(37.7464, -122.166)\"',\n",
       " 'PAUL REVERE ELEMENTARY,SAN FRANCISCO,CA,SAN FRANCISCO UNIFIED,$181577.00,Transformation,\"555 TOMPKINS AVESAN FRANCISCO, CA 94110(37.7371, -122.413)\"',\n",
       " 'SAMUEL GOMPERS MIDDLE,LOS ANGELES,CA,LOS ANGELES UNIFIED,$189201.00,Restart,\"234 EAST 112TH STLOS ANGELES, CA 90061(33.9328, -118.277)\"',\n",
       " 'DAVIDSON ELEMENTARY,SAN BERNARDINO,CA,SAN BERNARDINO CITY UNIFIED,$148577.00,Transformation,\"2844 DAVIDSON STSAN BERNARDINO, CA 92405(34.1436, -117.31)\"',\n",
       " 'PALM AVENUE ELEMENTARY,WASCO,CA,WASCO UNION ELEMENTARY,$148665.00,Transformation,\"1017 PALM AVEWASCO, CA 93280(35.5904, -119.349)\"',\n",
       " 'SHORE ACRES ELEMENTARY,BAY POINT,CA,MT. DIABLO UNIFIED,$12252.00,Transformation,\"351 MARINA RDBAY POINT, CA 94565(38.035, -121.97)\"',\n",
       " 'CESAR CHAVEZ ELEMENTARY,SAN FRANCISCO,CA,SAN FRANCISCO UNIFIED,$175737.00,Transformation,\"825 SHOTWELL STSAN FRANCISCO, CA 94110(37.7549, -122.415)\"',\n",
       " 'BUTTONWILLOW ELEMENTARY,BUTTONWILLOW,CA,BUTTONWILLOW UNION ELEMENTARY,$559268.00,Transformation,\"42600 HWY 58BUTTONWILLOW, CA 93206(35.4002, -119.476)\"',\n",
       " 'EDISON-RONALD MCNAIR INTERMEDIATE,EAST PALO ALTO,CA,RAVENSWOOD CITY ELEMENTARY,$135806.00,Turnaround,\"2033 PULGAS AVEEAST PALO ALTO, CA 94303(37.4618, -122.13)\"',\n",
       " 'CENTURY HIGH,SANTA ANA,CA,SANTA ANA UNIFIED,$197223.00,Transformation,\"1401 SOUTH GRAND AVESANTA ANA, CA 92705(33.7302, -117.85)\"',\n",
       " 'LAKESIDE ELEMENTARY,HANFORD,CA,LAKESIDE UNION ELEMENTARY,$913211.00,Transformation,\"9100 JERSEY AVEHANFORD, CA 93230(36.2405, -119.625)\"',\n",
       " 'KING/CHAVEZ ARTS ACADEMY,SAN DIEGO,CA,SAN DIEGO UNIFIED,$102906.00,Transformation,\"415 31ST STSAN DIEGO, CA 92102(32.7099, -117.126)\"',\n",
       " 'PHARIS F. FEDDE MIDDLE,HAWAIIAN GARDENS,CA,ABC UNIFIED,$1177.00,Transformation,\"21409 SOUTH ELAINE AVEHAWAIIAN GARDENS, CA 90716(33.835, -118.076)\"',\n",
       " 'SEASIDE HIGH,SEASIDE,CA,MONTEREY PENINSULA UNIFIED,$159471.00,Turnaround,\"2200 NOCHE BUENA STSEASIDE, CA 93955(36.6217, -121.838)\"',\n",
       " 'ELLA ELEMENTARY,OLIVEHURST,CA,MARYSVILLE JOINT UNIFIED,$180738.00,Turnaround,\"4850 OLIVEHURST AVEOLIVEHURST, CA 95961(39.0945, -121.552)\"',\n",
       " 'WILSON ELEMENTARY,SAN BERNARDINO,CA,SAN BERNARDINO CITY UNIFIED,$925749.00,Turnaround,\"2894 BELLE STSAN BERNARDINO, CA 92404(34.144, -117.28)\"',\n",
       " 'YOSEMITE MIDDLE,FRESNO,CA,FRESNO UNIFIED,$173752.00,Turnaround,\"1292 NORTH NINTH STFRESNO, CA 93703(36.7594, -119.759)\"',\n",
       " 'T. S. MACQUIDDY ELEMENTARY,WATSONVILLE,CA,PAJARO VALLEY UNIFIED,$577030.00,Transformation,\"330 MARTINELLI STWATSONVILLE, CA 95076(36.9272, -121.752)\"',\n",
       " 'ENCINA PREPARATORY HIGH,SACRAMENTO,CA,SAN JUAN UNIFIED,$102743.00,Turnaround,\"1400 BELL STSACRAMENTO, CA 95825(38.5915, -121.41)\"',\n",
       " 'EDWIN MARKHAM MIDDLE,LOS ANGELES,CA,LOS ANGELES UNIFIED,$185886.00,Restart,\"1650 EAST 104TH STLOS ANGELES, CA 90002(33.9415, -118.245)\"',\n",
       " 'RIO VISTA ELEMENTARY,SAN BERNARDINO,CA,SAN BERNARDINO CITY UNIFIED,$142575.00,Transformation,\"1451 CALIFORNIA STSAN BERNARDINO, CA 92411(34.1258, -117.331)\"',\n",
       " 'FELICITA ELEMENTARY,ESCONDIDO,CA,ESCONDIDO UNION,$171031.00,Turnaround,\"737 WEST 13TH AVEESCONDIDO, CA 92027(33.1065, -117.082)\"',\n",
       " 'UNITED FOR SUCCESS ACADEMY,OAKLAND,CA,OAKLAND UNIFIED,$128129.00,Transformation,\"2101 35TH AVEOAKLAND, CA 94601(37.7843, -122.217)\"',\n",
       " 'MISSION HIGH,SAN FRANCISCO,CA,SAN FRANCISCO UNIFIED,$201467.00,Transformation,\"3750 18TH STSAN FRANCISCO, CA 94114(37.7614, -122.427)\"',\n",
       " 'GARDENA SENIOR HIGH,GARDENA,CA,LOS ANGELES UNIFIED,$167368.00,Transformation,\"1301 WEST 182ND STGARDENA, CA 90248(33.8673, -118.296)\"',\n",
       " 'BARTON ELEMENTARY,SAN BERNARDINO,CA,SAN BERNARDINO CITY UNIFIED,$2.00,Turnaround,\"2214 PUMALO STSAN BERNARDINO, CA 92404(34.1386, -117.238)\"',\n",
       " 'ROSE FERRERO ELEMENTARY,SOLEDAD,CA,SOLEDAD UNIFIED,$157616.00,Turnaround,\"400 ENTRADA DRSOLEDAD, CA 93960(36.4378, -121.325)\"',\n",
       " 'GEORGE WASHINGTON CARVER ELEMENTARY,SAN FRANCISCO,CA,SAN FRANCISCO UNIFIED,$158151.00,Turnaround,\"1360 OAKDALE AVESAN FRANCISCO, CA 94124(37.7324, -122.386)\"',\n",
       " 'EASTSIDE HIGH,LANCASTER,CA,ANTELOPE VALLEY UNION HIGH,$1695.00,Transformation,\"3200 EAST AVE J-8LANCASTER, CA 93535(34.6825, -118.073)\"',\n",
       " 'GLENBROOK MIDDLE,CONCORD,CA,MT. DIABLO UNIFIED,$584002.00,Transformation,\"2351 OLIVERA RDCONCORD, CA 94520(37.9955, -122.036)\"',\n",
       " 'COSTANO ELEMENTARY,EAST PALO ALTO,CA,RAVENSWOOD CITY ELEMENTARY,$135806.00,Turnaround,\"2695 FORDHAM STEAST PALO ALTO, CA 94303(37.4781, -122.139)\"',\n",
       " 'WILLARD INTERMEDIATE,SANTA ANA,CA,SANTA ANA UNIFIED,$181152.00,Transformation,\"1342 NORTH ROSSSANTA ANA, CA 92706(33.7568, -117.874)\"',\n",
       " 'PESCADERO ELEMENTARY AND MIDDLE,PESCADERO,CA,LA HONDA-PESCADERO UNIFIED,$629711.00,Transformation,\"620 NORTH STPESCADERO, CA 94060(37.2565, -122.378)\"',\n",
       " 'BURBANK ELEMENTARY,SAN DIEGO,CA,SAN DIEGO UNIFIED,$116423.00,Transformation,\"2146 JULIAN AVESAN DIEGO, CA 92113(32.7009, -117.138)\"',\n",
       " 'HIGHLANDS ACADEMY OF ARTS AND DESIGN,NORTH HIGHLANDS,CA,TWIN RIVERS UNIFIED,$184555.00,Transformation,\"6601 GUTHRIE WAYNORTH HIGHLANDS, CA 95660(38.6877, -121.358)\"',\n",
       " 'MARTIN LUTHER KING,SEASIDE,CA,MONTEREY PENINSULA UNIFIED,$126595.00,Turnaround,\"1713 BRDWAYSEASIDE, CA 93955(36.6089, -121.827)\"',\n",
       " 'BURBANK ELEMENTARY,HAYWARD,CA,HAYWARD UNIFIED,$158712.00,Transformation,\"353 B STHAYWARD, CA 94541(37.6679, -122.094)\"',\n",
       " 'EMERSON MIDDLE,POMONA,CA,POMONA UNIFIED,$152096.00,Transformation,\"635 LINCOLN AVEPOMONA, CA 91767(34.0704, -117.741)\"',\n",
       " 'SANTA ANA HIGH,SANTA ANA,CA,SANTA ANA UNIFIED,$197223.00,Transformation,\"520 WEST WALNUTSANTA ANA, CA 92701(33.744, -117.875)\"',\n",
       " 'MAYWOOD ACADEMY HIGH,MAYWOOD,CA,LOS ANGELES UNIFIED,$187692.00,Transformation,\"6125 PINE AVEMAYWOOD, CA 90270(33.9832, -118.189)\"',\n",
       " 'SHANDIN HILLS MIDDLE,SAN BERNARDINO,CA,SAN BERNARDINO CITY UNIFIED,$2.00,Turnaround,\"4301 LITTLE MOUNTAIN DRSAN BERNARDINO, CA 92407(34.166, -117.317)\"',\n",
       " 'WEBSTER ELEMENTARY,FRESNO,CA,FRESNO UNIFIED,$17325.00,Turnaround,\"2600 EAST TYLERFRESNO, CA 93701(36.7555, -119.78)\"',\n",
       " 'HALL DISTRICT ELEMENTARY,WATSONVILLE,CA,PAJARO VALLEY UNIFIED,$630428.00,Transformation,\"300 SILL RDWATSONVILLE, CA 95076(36.8656, -121.722)\"',\n",
       " 'EVERETT MIDDLE,SAN FRANCISCO,CA,SAN FRANCISCO UNIFIED,$140557.00,Turnaround,\"450 CHURCH STSAN FRANCISCO, CA 94114(37.7636, -122.43)\"',\n",
       " 'THOMAS JEFFERSON SENIOR HIGH,LOS ANGELES,CA,LOS ANGELES UNIFIED,$180068.00,Transformation,\"1319 EAST 41ST STLOS ANGELES, CA 90011(34.0092, -118.252)\"',\n",
       " 'MARSHALL ELEMENTARY,SAN BERNARDINO,CA,SAN BERNARDINO CITY UNIFIED,$194293.00,Turnaround,\"3288 NORTH G STSAN BERNARDINO, CA 92405(34.1511, -117.299)\"',\n",
       " 'SAN JUAN,SAN JUAN BAUTISTA,CA,AROMAS/SAN JUAN UNIFIED,$173426.00,Transformation,\"100 NYLAND DRSAN JUAN BAUTISTA, CA 95045(36.8414, -121.534)\"',\n",
       " 'WEST SHORES HIGH,SALTON CITY,CA,COACHELLA VALLEY UNIFIED,$126036.00,Turnaround,\"2381 SHORE HAWK AVESALTON CITY, CA 92275(33.3011, -115.956)\"',\n",
       " 'EXPLORE MIDDLE,OAKLAND,CA,OAKLAND UNIFIED,$49045.00,Closure,\"3550 64TH AVEOAKLAND, CA 94605(37.7757, -122.177)\"',\n",
       " 'JOHN MUIR ELEMENTARY,SAN FRANCISCO,CA,SAN FRANCISCO UNIFIED,$148146.00,Turnaround,\"380 WEBSTER STSAN FRANCISCO, CA 94117(37.7738, -122.429)\"',\n",
       " 'LINCOLN ELEMENTARY,RICHMOND,CA,WEST CONTRA COSTA UNIFIED,$122138.00,Turnaround,\"29 SIXTH STRICHMOND, CA 94801(37.9319, -122.365)\"',\n",
       " 'SEMITROPIC ELEMENTARY,WASCO,CA,SEMITROPIC ELEMENTARY,$133333.00,Transformation,\"25300 HWY 46WASCO, CA 93280(35.601, -119.511)\"',\n",
       " 'GEORGE WASHINGTON CARVER MIDDLE,LOS ANGELES,CA,LOS ANGELES UNIFIED,$174824.00,Restart,\"4410 MCKINLEY AVELOS ANGELES, CA 90011(34.0031, -118.26)\"',\n",
       " 'BRYANT ELEMENTARY,SAN FRANCISCO,CA,SAN FRANCISCO UNIFIED,$155171.00,Turnaround,\"1050 YORK STSAN FRANCISCO, CA 94110(37.7552, -122.409)\"',\n",
       " 'LITTLEROCK HIGH,LITTLEROCK,CA,ANTELOPE VALLEY UNION HIGH,$17292.00,Transformation,\"10833 EAST AVE RLITTLEROCK, CA 93543(34.5727, -117.936)\"',\n",
       " 'BEL AIR ELEMENTARY,BAY POINT,CA,MT. DIABLO UNIFIED,$144166.00,Transformation,\"663 CANAL RDBAY POINT, CA 94565(38.0205, -121.939)\"',\n",
       " 'POMONA SENIOR HIGH,POMONA,CA,POMONA UNIFIED,$189832.00,Transformation,\"475 BANGOR STPOMONA, CA 91767(34.0843, -117.742)\"',\n",
       " 'VALLEY HIGH,SANTA ANA,CA,SANTA ANA UNIFIED,$197223.00,Transformation,\"1801 SOUTH GREENVILLE STSANTA ANA, CA 92704(33.723, -117.898)\"',\n",
       " 'TENNYSON HIGH,HAYWARD,CA,HAYWARD UNIFIED,$179529.00,Transformation,\"27035 WHITMAN RDHAYWARD, CA 94544(37.6418, -122.068)\"',\n",
       " 'HIGHLAND ELEMENTARY,SEASIDE,CA,MONTEREY PENINSULA UNIFIED,$126595.00,Turnaround,\"1650 SONOMA AVESEASIDE, CA 93955(36.6059, -121.829)\"',\n",
       " 'ARROYO VALLEY HIGH,SAN BERNARDINO,CA,SAN BERNARDINO CITY UNIFIED,$19.00,Transformation,\"1881 WEST BASELINE STSAN BERNARDINO, CA 92411(34.1213, -117.337)\"',\n",
       " 'VISTA VERDE MIDDLE,GREENFIELD,CA,GREENFIELD UNION ELEMENTARY,$806917.00,Transformation,\"1199 ELM AVEGREENFIELD, CA 93927(36.3152, -121.245)\"',\n",
       " 'CACTUS MIDDLE,PALMDALE,CA,PALMDALE ELEMENTARY,$184271.00,Turnaround,\"38060 20TH ST EASTPALMDALE, CA 93550(34.5738, -118.094)\"',\n",
       " 'SADDLEBACK HIGH,SANTA ANA,CA,SANTA ANA UNIFIED,$197223.00,Transformation,\"2801 SOUTH FLOWERSANTA ANA, CA 92707(33.7091, -117.877)\"',\n",
       " 'ROBERT LOUIS STEVENSON MIDDLE,LOS ANGELES,CA,LOS ANGELES UNIFIED,$189229.00,Restart,\"725 SOUTH INDIANA STLOS ANGELES, CA 90023(34.026, -118.192)\"',\n",
       " 'SERRANO MIDDLE,HIGHLAND,CA,SAN BERNARDINO CITY UNIFIED,$179747.00,Turnaround,\"3131 PIEDMONT DRHIGHLAND, CA 92346(34.1455, -117.219)\"',\n",
       " 'CARVER ACADEMY,FRESNO,CA,FRESNO UNIFIED,$105245.00,Turnaround,\"2463 MARTIN LUTHER KING BLVDFRESNO, CA 93706(36.7117, -119.799)\"',\n",
       " 'CALABASAS ELEMENTARY,WATSONVILLE,CA,PAJARO VALLEY UNIFIED,$631759.00,Transformation,\"202 CALABASAS RDWATSONVILLE, CA 95076(36.9444, -121.793)\"',\n",
       " 'JOHN O\\'CONNELL ALTERNATIVE HIGH,SAN FRANCISCO,CA,SAN FRANCISCO UNIFIED,$163043.00,Transformation,\"2355 FOLSOM STSAN FRANCISCO, CA 94110(37.7596, -122.415)\"',\n",
       " 'HILLCREST DRIVE ELEMENTARY,LOS ANGELES,CA,LOS ANGELES UNIFIED,$189181.00,Transformation,\"4041 HILLCREST DRLOS ANGELES, CA 90008(34.013, -118.348)\"',\n",
       " 'HUNT ELEMENTARY,SAN BERNARDINO,CA,SAN BERNARDINO CITY UNIFIED,$140097.00,Turnaround,\"1342 PUMALO STSAN BERNARDINO, CA 92404(34.1386, -117.256)\"',\n",
       " 'RIVERSIDE COUNTY COMMUNITY,RIVERSIDE,CA,RIVERSIDE COUNTY OFFICE OF EDUCATION,$141497.00,Transformation,\"3939 13TH STRIVERSIDE, CA 92502(33.9785, -117.381)\"',\n",
       " 'CHUALAR ELEMENTARY,CHUALAR,CA,CHUALAR UNION ELEMENTARY,$233414.00,Transformation,\"24285 LINCOLN STCHUALAR, CA 93925(36.5712, -121.516)\"',\n",
       " 'RIO VISTA ELEMENTARY,BAY POINT,CA,MT. DIABLO UNIFIED,$443230.00,Transformation,\"611 PACIFICA AVEBAY POINT, CA 94565(38.0333, -121.975)\"',\n",
       " 'HORACE MANN MIDDLE,SAN FRANCISCO,CA,SAN FRANCISCO UNIFIED,$125599.00,Transformation,\"3351 23RD STSAN FRANCISCO, CA 94110(37.7537, -122.42)\"',\n",
       " 'STANFORD NEW SCHOOL,MENLO PARK,CA,RAVENSWOOD CITY ELEMENTARY,$105585.00,Transformation,\"475 POPE STMENLO PARK, CA 94025(37.4605, -122.156)\"',\n",
       " 'CESAR ESTRADA CHAVEZ DUAL LANGUAGE IMMERSION CHART,SANTA BARBARA,CA,SANTA BARBARA ELEMENTARY,$388816.00,Transformation,\"1102 EAST YANONALI STSANTA BARBARA, CA 93103(34.4257, -119.679)\"',\n",
       " 'JEFFERSON ELEMENTARY,LINDSAY,CA,LINDSAY UNIFIED,$108247.00,Turnaround,\"333 NORTH WESTWOOD AVELINDSAY, CA 93247(36.2038, -119.1)\"',\n",
       " '\"BROWN, JR., (WILLIE L.) ELEMENTARY\",SAN FRANCISCO,CA,SAN FRANCISCO UNIFIED,$50000.00,Closure,\"2055 SILVER AVESAN FRANCISCO, CA 94124(37.7361, -122.399)\"',\n",
       " 'NORTE VISTA HIGH,RIVERSIDE,CA,ALVORD UNIFIED,$187562.00,Turnaround,\"6585 CREST AVERIVERSIDE, CA 92503(33.95, -117.473)\"',\n",
       " 'MARCH MOUNTAIN HIGH,MORENO VALLEY,CA,MORENO VALLEY UNIFIED,$481154.00,Transformation,\"24551 DRACAEA AVEMORENO VALLEY, CA 92553(33.9282, -117.234)\"',\n",
       " 'NORTH HIGH SCHOOL,DENVER,CO,SCHOOL DISTRICT NO. 1 IN THE COUNTY OF DENVER AND STATE OF C,$924081.00,Transformation,\"2960 NORTH SPEER BLVDDENVER, CO 80211(39.7602, -105.02)\"',\n",
       " 'HASKIN ELEMENTARY SCHOOL,CENTER,CO,\"CENTER CONSOLIDATED SCHOOL DISTRICT NO. 26 JT., OF THE COUNT\",$539797.00,Transformation,\"550 SOUTH SYLVESTER AVECENTER, CO 81125(37.7512, -106.115)\"',\n",
       " 'RONCALLI MIDDLE SCHOOL,PUEBLO,CO,\"PUEBLO, SCHOOL DISTRICT NO. 60, IN THE COUNTY OF PUEBLO AND\",$674025.00,Transformation,\"4202 HWY 78PUEBLO, CO 81005(38.2328, -104.666)\"',\n",
       " 'CENTRAL HIGH SCHOOL,PUEBLO,CO,\"PUEBLO, SCHOOL DISTRICT NO. 60, IN THE COUNTY OF PUEBLO AND\",$852911.00,Transformation,\"216 EAST ORMAN AVEPUEBLO, CO 81004(38.2536, -104.626)\"',\n",
       " 'MONTBELLO HIGH SCHOOL,DENVER,CO,SCHOOL DISTRICT NO. 1 IN THE COUNTY OF DENVER AND STATE OF C,$100778.00,Transformation,\"5000 CROWN BLVDDENVER, CO 80239(39.7854, -104.826)\"',\n",
       " 'LAKE MIDDLE SCHOOL,DENVER,CO,SCHOOL DISTRICT NO. 1 IN THE COUNTY OF DENVER AND STATE OF C,$619609.00,Restart,\"1820 LOWELL BLVDDENVER, CO 80204(39.7464, -105.035)\"',\n",
       " 'HANSON ELEMENTARY SCHOOL,COMMERCE CITY,CO,SCHOOL DISTRICT N. 14 IN THE COUNTY OF ADAMS & STATE OF COLO,$641451.00,Transformation,\"7133 EAST 73RD AVECOMMERCE CITY, CO 80022(39.8291, -104.905)\"',\n",
       " 'LEMUEL PITTS MIDDLE SCHOOL,PUEBLO,CO,\"PUEBLO, SCHOOL DISTRICT NO. 60, IN THE COUNTY OF PUEBLO AND\",$622865.00,Turnaround,\"29 LEHIGH AVEPUEBLO, CO 81005(38.241, -104.658)\"',\n",
       " 'CLIFTON ELEMENTARY SCHOOL,CLIFTON,CO,MESA COUNTY VALLEY SCHOOL DISTRICT NO. 51,$821295.00,Transformation,\"3276 F RDCLIFTON, CO 81520(39.0918, -108.447)\"',\n",
       " 'RISHEL MIDDLE SCHOOL,DENVER,CO,SCHOOL DISTRICT NO. 1 IN THE COUNTY OF DENVER AND STATE OF C,$13729.00,Closure,\"451 SOUTH TEJON STDENVER, CO 80223(39.7084, -105.012)\"',\n",
       " 'GREENLEE K-8 SCHOOL,DENVER,CO,SCHOOL DISTRICT NO. 1 IN THE COUNTY OF DENVER AND STATE OF C,$671148.00,Turnaround,\"1150 LIPAN STDENVER, CO 80204(39.7344, -105.001)\"',\n",
       " 'FORT LOGAN ELEMENTARY SCHOOL,ENGLEWOOD,CO,SHERIDAN SCHOOL DISTRICT NO. 2,$728445.00,Turnaround,\"3700 SOUTH KNOX COUROUTEENGLEWOOD, CO 80150(39.649, -105.031)\"',\n",
       " 'JAMES H RISLEY MIDDLE SCHOOL,PUEBLO,CO,\"PUEBLO, SCHOOL DISTRICT NO. 60, IN THE COUNTY OF PUEBLO AND\",$606822.00,Turnaround,\"925 MONUMENT AVEPUEBLO, CO 81001(38.276, -104.587)\"',\n",
       " 'SKYLAND COMMUNITY HIGH SCHOOL,DENVER,CO,SCHOOL DISTRICT NO. 1 IN THE COUNTY OF DENVER AND STATE OF C,$31935.00,Closure,\"3240 HUMBOLDT STDENVER, CO 80205(39.7632, -104.969)\"',\n",
       " 'PHILIPS ELEMENTARY SCHOOL,DENVER,CO,SCHOOL DISTRICT NO. 1 IN THE COUNTY OF DENVER AND STATE OF C,$32491.00,Closure,\"6550 EAST 21ST AVEDENVER, CO 80207(39.7486, -104.911)\"',\n",
       " 'GILPIN K-8 SCHOOL,DENVER,CO,SCHOOL DISTRICT NO. 1 IN THE COUNTY OF DENVER AND STATE OF C,$374767.00,Turnaround,\"2949 CALIFORNIA STDENVER, CO 80205(39.7579, -104.977)\"',\n",
       " 'YOUTH & FAMILY ACADEMY CHARTER,PUEBLO,CO,\"PUEBLO, SCHOOL DISTRICT NO. 60, IN THE COUNTY OF PUEBLO AND\",$481016.00,Transformation,\"1920 VALLEY DRPUEBLO, CO 81008(38.311, -104.631)\"',\n",
       " 'FREED MIDDLE SCHOOL,PUEBLO,CO,\"PUEBLO, SCHOOL DISTRICT NO. 60, IN THE COUNTY OF PUEBLO AND\",$595238.00,Turnaround,\"715 WEST 20TH STPUEBLO, CO 81003(38.2859, -104.617)\"',\n",
       " 'NOEL MIDDLE SCHOOL,DENVER,CO,SCHOOL DISTRICT NO. 1 IN THE COUNTY OF DENVER AND STATE OF C,$825829.00,Transformation,\"5290 KITTRIDGE STDENVER, CO 80239(39.7889, -104.802)\"',\n",
       " 'BURNS SCHOOL,HARTFORD,CT,HARTFORD SCHOOL DISTRICT,$430568.00,Turnaround,\"195 PUTNAM STHARTFORD, CT 6106(41.7612, -72.6912)\"',\n",
       " 'BARNUM SCHOOL,BRIDGEPORT,CT,BRIDGEPORT SCHOOL DISTRICT,$500000.00,Transformation,\"529 NOBLE AVEBRIDGEPORT, CT 6608(41.1888, -73.1844)\"',\n",
       " 'KATHERINE BRENNAN SCHOOL,NEW HAVEN,CT,NEW HAVEN SCHOOL DISTRICT,$590000.00,Turnaround,\"200 WILMOT RDNEW HAVEN, CT 6515(41.3439, -72.958)\"',\n",
       " 'DR. RAMON E. BETANCES SCHOOL,HARTFORD,CT,HARTFORD SCHOOL DISTRICT,$400000.00,Turnaround,\"42 CHARTER OAK AVEHARTFORD, CT 6106(41.7594, -72.6723)\"',\n",
       " 'STAMFORD ACADEMY,STAMFORD,CT,STAMFORD ACADEMY,$400000.00,Transformation,\"229 NORTH STSTAMFORD, CT 6092(41.0593, -73.5365)\"',\n",
       " 'JAMES HILLHOUSE HIGH SCHOOL,NEW HAVEN,CT,NEW HAVEN SCHOOL DISTRICT,$700000.00,Transformation,\"480 SHERMAN PARKWAYNEW HAVEN, CT 6511(41.3217, -72.939)\"',\n",
       " 'MILNER SCHOOL,HARTFORD,CT,HARTFORD SCHOOL DISTRICT,$430569.00,Turnaround,\"104 VINE STHARTFORD, CT 6112(41.7825, -72.6879)\"',\n",
       " 'HARDING HIGH SCHOOL,BRIDGEPORT,CT,BRIDGEPORT SCHOOL DISTRICT,$800000.00,Restart,\"1734 CENTRAL AVEBRIDGEPORT, CT 6610(41.1922, -73.1673)\"',\n",
       " 'NATCHAUG SCHOOL,WILLIMANTIC,CT,WINDHAM SCHOOL DISTRICT,$700000.00,Transformation,\"123 JACKSON STWILLIMANTIC, CT 6226(41.7139, -72.2068)\"',\n",
       " 'HILL CENTRAL MUSIC ACADEMY,NEW HAVEN,CT,NEW HAVEN SCHOOL DISTRICT,$590000.00,Turnaround,\"140 DEWITT STNEW HAVEN, CT 6519(41.2955, -72.9355)\"',\n",
       " 'SAND SCHOOL,HARTFORD,CT,HARTFORD SCHOOL DISTRICT,$400000.00,Turnaround,\"1750 MAIN STHARTFORD, CT 6120(41.7786, -72.6762)\"',\n",
       " 'BASSICK HIGH SCHOOL,BRIDGEPORT,CT,BRIDGEPORT SCHOOL DISTRICT,$700000.00,Transformation,\"1181 FAIRFIELD AVEBRIDGEPORT, CT 6605(41.1738, -73.2073)\"',\n",
       " 'WILBUR CROSS HIGH SCHOOL,NEW HAVEN,CT,NEW HAVEN SCHOOL DISTRICT,$700000.00,Transformation,\"181 MITCHELL DRNEW HAVEN, CT 6511(41.3241, -72.9086)\"',\n",
       " 'SMALLEY ACADEMY,NEW BRITAIN,CT,NEW BRITAIN SCHOOL DISTRICT,$700000.00,Transformation,\"175 WEST STNEW BRITAIN, CT 6051(41.6765, -72.7712)\"',\n",
       " 'ANACOSTIA SHS,DISTRICT OF COLUMBIA,DC,DISTRICT OF COLUMBIA PUBLIC SCHOOLS,$517340.00,Restart,\"1601 16TH ST SEDISTRICT OF COLUMBIA, DC 20020(38.8707, -76.9823)\"',\n",
       " 'BROWNE EC,DISTRICT OF COLUMBIA,DC,DISTRICT OF COLUMBIA PUBLIC SCHOOLS,$445400.00,Transformation,\"850 26TH ST NEDISTRICT OF COLUMBIA, DC 20002(38.9019, -76.9702)\"',\n",
       " 'DUNBAR SHS,DISTRICT OF COLUMBIA,DC,DISTRICT OF COLUMBIA PUBLIC SCHOOLS,$517340.00,Restart,\"1301 NEW JERSEY AVE NWDISTRICT OF COLUMBIA, DC 20001(38.9079, -77.0131)\"',\n",
       " 'HAMILTON CENTER SPEC ED AT HAMILTON SCHOOL,DISTRICT OF COLUMBIA,DC,DISTRICT OF COLUMBIA PUBLIC SCHOOLS,$330050.00,Turnaround,\"1401 BRENTWOOD RD NEDISTRICT OF COLUMBIA, DC 20002(38.9097, -76.9958)\"',\n",
       " 'SPINGARN SHS,DISTRICT OF COLUMBIA,DC,DISTRICT OF COLUMBIA PUBLIC SCHOOLS,$619950.00,Transformation,\"2500 BENNING RD NEDISTRICT OF COLUMBIA, DC 20002(38.898, -76.9712)\"',\n",
       " 'EASTERN SHS,DISTRICT OF COLUMBIA,DC,DISTRICT OF COLUMBIA PUBLIC SCHOOLS,$189350.00,Turnaround,\"1700 EAST CAPITOL ST NEDISTRICT OF COLUMBIA, DC 20003(38.8898, -76.9807)\"',\n",
       " 'LUKE C. MOORE ACADEMY SHS,DISTRICT OF COLUMBIA,DC,DISTRICT OF COLUMBIA PUBLIC SCHOOLS,$552658.00,Turnaround,\"1001 MONROE ST NEDISTRICT OF COLUMBIA, DC 20017(38.9322, -76.9922)\"',\n",
       " 'PROSPECT LC,DISTRICT OF COLUMBIA,DC,DISTRICT OF COLUMBIA PUBLIC SCHOOLS,$180700.00,Transformation,\"920 F ST NEDISTRICT OF COLUMBIA, DC 20002(38.8976, -76.9932)\"',\n",
       " 'OPTIONS PCS,DISTRICT OF COLUMBIA,DC,OPTIONS PCS,$541226.00,Turnaround,\"1375 EAST ST NEDISTRICT OF COLUMBIA, DC 20002(38.8959, -76.9866)\"',\n",
       " 'KENILWORTH ES,DISTRICT OF COLUMBIA,DC,DISTRICT OF COLUMBIA PUBLIC SCHOOLS,$305325.00,Restart,\"1300 44TH ST NEDISTRICT OF COLUMBIA, DC 20019(38.9072, -76.9403)\"',\n",
       " 'SEAFORD SENIOR HIGH SCHOOL,SEAFORD,DE,SEAFORD SCHOOL DISTRICT,$630295.00,Transformation,\"399 NORTH MARKET STSEAFORD, DE 19973(38.6527, -75.6149)\"',\n",
       " 'MOUNT PLEASANT HIGH SCHOOL,WILMINGTON,DE,BRANDYWINE SCHOOL DISTRICT,$672921.00,Transformation,\"5201 WASHINGTON ST EXTENSIWILMINGTON, DE 19809(39.7724, -75.5041)\"',\n",
       " 'LITTLE RIVER ELEMENTARY SCHOOL,MIAMI,FL,DADE,$394739.00,Transformation,\"514 NW 77TH STMIAMI, FL 33150(25.8445, -80.2055)\"',\n",
       " 'HARDEE SENIOR HIGH SCHOOL,WAUCHULA,FL,HARDEE,$733198.00,Transformation,\"830 ALTMAN RDWAUCHULA, FL 33873(27.5277, -81.8359)\"',\n",
       " 'MIAMI SOUTHRIDGE SENIOR HIGH,MIAMI,FL,DADE,$115447.00,Turnaround,\"19355 SW 114TH AVEMIAMI, FL 33157(25.5862, -80.3751)\"',\n",
       " 'POINCIANA HIGH SCHOOL,KISSIMMEE,FL,OSCEOLA,$660025.00,Transformation,\"2300 SOUTH POINCIANA BLVDKISSIMMEE, FL 34758(28.2315, -81.4873)\"',\n",
       " 'EAST GADSDEN HIGH SCHOOL,HAVANA,FL,GADSDEN,$737977.00,Transformation,\"27001 BLUE STAR HWYHAVANA, FL 32333(30.55, -84.4882)\"',\n",
       " 'COLUMBIA HIGH SCHOOL,LAKE CITY,FL,COLUMBIA,$759293.00,Transformation,\"469 SE FIGHTING TIGER DRLAKE CITY, FL 32025(30.1474, -82.6363)\"',\n",
       " 'MIAMI JACKSON SENIOR HIGH SCHOOL,MIAMI,FL,DADE,$816787.00,Transformation,\"1751 NW 36TH STMIAMI, FL 33142(25.8104, -80.2251)\"',\n",
       " 'MEMORIAL MIDDLE SCHOOL,ORLANDO,FL,ORANGE,$652558.00,Transformation,\"2220 WEST 29TH STORLANDO, FL 32805(28.5113, -81.4073)\"',\n",
       " 'LARKDALE ELEMENTARY SCHOOL,FORT LAUDERDALE,FL,BROWARD,$713746.00,Transformation,\"3250 NW 12TH PLACEFORT LAUDERDALE, FL 33311(26.1407, -80.1897)\"',\n",
       " 'EDWARD H. WHITE HIGH SCHOOL,JACKSONVILLE,FL,DUVAL,$759293.00,Transformation,\"1700 OLD MIDDLEBURG RD NORTHJACKSONVILLE, FL 32210(30.2901, -81.7659)\"',\n",
       " 'ST. JOHNS TECHNICAL HIGH SCHOOL,ST AUGUSTINE,FL,ST. JOHNS,$728868.00,Transformation,\"2980 COLLINS AVEST AUGUSTINE, FL 32084(29.9217, -81.3467)\"',\n",
       " 'HOMESTEAD SENIOR HIGH SCHOOL,HOMESTEAD,FL,DADE,$845263.00,Transformation,\"2351 SE 12TH AVEHOMESTEAD, FL 33034(25.4507, -80.4589)\"',\n",
       " 'LEESBURG HIGH SCHOOL,LEESBURG,FL,LAKE,$734298.00,Transformation,\"1401 YELLOW JACKET WAYLEESBURG, FL 34748(28.774, -81.8762)\"',\n",
       " 'CHARLES W. DUVAL ELEMENTARY SCHOOL,GAINESVILLE,FL,ALACHUA,$759293.00,Transformation,\"2106 NE 8TH AVEGAINESVILLE, FL 32641(29.6593, -82.2974)\"',\n",
       " 'SMART POPE LIVINGSTON ELEMENTARY,JACKSONVILLE,FL,DUVAL,$500000.00,Transformation,\"1128 BARBER STJACKSONVILLE, FL 32209(30.3393, -81.6886)\"',\n",
       " 'DIXIE M. HOLLINS HIGH SCHOOL,ST PETERSBURG,FL,PINELLAS,$500000.00,Transformation,\"4940 62ND ST NORTHST PETERSBURG, FL 33709(27.8157, -82.7225)\"',\n",
       " 'DR. HENRY W. MACK/WEST LITTLE RIVER ELEMENTARY SCH,MIAMI,FL,DADE,$258108.00,Transformation,\"2450 NW 84TH STMIAMI, FL 33147(25.8503, -80.2378)\"',\n",
       " 'CENTRAL HIGH SCHOOL,BROOKSVILLE,FL,HERNANDO,$737052.00,Transformation,\"14075 KEN AUSTIN PKWYBROOKSVILLE, FL 34613(28.5647, -82.4956)\"',\n",
       " 'NORTH SHORE K-8,JACKSONVILLE,FL,DUVAL,$711587.00,Turnaround,\"5701 SILVER PLACEAZAJACKSONVILLE, FL 32208(30.3747, -81.6536)\"',\n",
       " 'GLADES CENTRAL HIGH SCHOOL,BELLE GLADE,FL,PALM BEACH,$666136.00,Transformation,\"1001 SW AVE MBELLE GLADE, FL 33430(26.6677, -80.6855)\"',\n",
       " 'NORTH MIAMI SENIOR HIGH SCHOOL,NORTH MIAMI,FL,DADE,$108015.00,Transformation,\"800 NE 137TH STNORTH MIAMI, FL 33161(25.9006, -80.1828)\"',\n",
       " 'GATEWAY HIGH SCHOOL,KISSIMMEE,FL,OSCEOLA,$660025.00,Transformation,\"93 PANTHER PAWS TRAILKISSIMMEE, FL 34744(28.293, -81.3593)\"',\n",
       " 'EDEN PARK ELEMENTARY SCHOOL,IMMOKALEE,FL,COLLIER,$617334.00,Transformation,\"3650 WESTCLOX STIMMOKALEE, FL 34142(26.4401, -81.4581)\"',\n",
       " 'WEST GADSDEN HIGH SCHOOL,GREENSBORO,FL,GADSDEN,$737977.00,Transformation,\"200 PROVIDENCE RDGREENSBORO, FL 32330(30.5482, -84.6803)\"',\n",
       " 'MIAMI EDISON SENIOR HIGH SCHOOL,MIAMI,FL,DADE,$618351.00,Turnaround,\"6161 NW 5TH COUROUTEMIAMI, FL 33127(25.8322, -80.2054)\"',\n",
       " 'MADISON COUNTY HIGH SCHOOL,MADISON,FL,MADISON,$515138.00,Transformation,\"2649 WEST US HWY 90MADISON, FL 32340(30.4796, -83.4461)\"',\n",
       " 'SUNLAND PARK ELEMENTARY SCHOOL,FORT LAUDERDALE,FL,BROWARD,$713746.00,Transformation,\"919 NW 13TH TERRACEFORT LAUDERDALE, FL 33311(26.1358, -80.1596)\"',\n",
       " 'NATHAN B. FORREST HIGH SCHOOL,JACKSONVILLE,FL,DUVAL,$759293.00,Transformation,\"5530 FIRESTONE RDJACKSONVILLE, FL 32244(30.2469, -81.7645)\"',\n",
       " 'OSCAR J. POPE ELEMENTARY SCHOOL,LAKELAND,FL,POLK,$736088.00,Transformation,\"2730 MAINE AVELAKELAND, FL 33801(28.0114, -81.905)\"',\n",
       " 'NORTH MIAMI MIDDLE SCHOOL,NORTH MIAMI,FL,DADE,$440823.00,Transformation,\"700 NE 137TH STNORTH MIAMI, FL 33161(25.9012, -80.1849)\"',\n",
       " 'JEFFERSON COUNTY MIDDLE/HIGH SCHOOL,MONTICELLO,FL,JEFFERSON,$647552.00,Transformation,\"50 DAVID RDMONTICELLO, FL 32344(30.5416, -83.8728)\"',\n",
       " 'LONG BRANCH ELEMENTARY SCHOOL,JACKSONVILLE,FL,DUVAL,$500000.00,Turnaround,\"3723 FRANKLIN STJACKSONVILLE, FL 32206(30.3613, -81.6392)\"',\n",
       " 'BOCA CIEGA HIGH SCHOOL,GULFPORT,FL,PINELLAS,$500000.00,Transformation,\"924 58TH ST SOUTHGULFPORT, FL 33707(27.7609, -82.71)\"',\n",
       " 'PINE VILLA ELEMENTARY SCHOOL,MIAMI,FL,DADE,$267620.00,Transformation,\"21799 SW 117TH COUROUTEMIAMI, FL 33170(25.5644, -80.3814)\"',\n",
       " 'HERNANDO HIGH SCHOOL,BROOKSVILLE,FL,HERNANDO,$737052.00,Transformation,\"700 BELL AVEBROOKSVILLE, FL 34601(28.5628, -82.383)\"',\n",
       " 'ANDREW JACKSON HIGH SCHOOL,JACKSONVILLE,FL,DUVAL,$636816.00,Turnaround,\"3816 NORTH MAIN STJACKSONVILLE, FL 32206(30.3619, -81.6535)\"',\n",
       " 'LAKE WORTH HIGH SCHOOL,LAKE WORTH,FL,PALM BEACH,$10496.00,Transformation,\"1701 LAKE WORTH RDLAKE WORTH, FL 33460(26.6146, -80.0666)\"',\n",
       " 'HOLMES ELEMENTARY SCHOOL,MIAMI,FL,DADE,$276644.00,Transformation,\"1175 NW 67 STMIAMI, FL 33150(25.8358, -80.2163)\"',\n",
       " 'HAMILTON COUNTY HIGH SCHOOL,JASPER,FL,HAMILTON,$698427.00,Transformation,\"5683 US HWY 129 SOUTHJASPER, FL 32052(30.4755, -82.9301)\"',\n",
       " 'OAK RIDGE HIGH SCHOOL,ORLANDO,FL,ORANGE,$652965.00,Transformation,\"6000 SOUTH WINEGARD RDORLANDO, FL 32809(28.4702, -81.386)\"',\n",
       " 'MIAMI NORTHWESTERN SENIOR HIGH,MIAMI,FL,DADE,$796553.00,Turnaround,\"1100 NW 71ST STMIAMI, FL 33150(25.8394, -80.215)\"',\n",
       " 'IMMOKALEE HIGH SCHOOL,IMMOKALEE,FL,COLLIER,$567148.00,Transformation,\"701 WEST IMMOKALEE DRIMMOKALEE, FL 34142(26.4244, -81.4236)\"',\n",
       " 'WARRINGTON MIDDLE SCHOOL,PENSACOLA,FL,ESCAMBIA,$759293.00,Turnaround,\"450 SOUTH OLD CORRY FIELD RDPENSACOLA, FL 32507(30.4025, -87.274)\"',\n",
       " 'MIAMI CENTRAL SENIOR HIGH SCHOOL,MIAMI,FL,DADE,$784700.00,Turnaround,\"1781 NW 95TH STMIAMI, FL 33147(25.8612, -80.2275)\"',\n",
       " 'WILLISTON HIGH SCHOOL,WILLISTON,FL,LEVY,$651787.00,Transformation,\"427 WEST NOBLE AVEWILLISTON, FL 32696(29.3865, -82.4525)\"',\n",
       " 'MARJORIE KINNAN RAWLINGS ELEMENTARY SCHOOL,GAINESVILLE,FL,ALACHUA,$627776.00,Transformation,\"3500 NE 15TH STGAINESVILLE, FL 32609(29.6848, -82.3058)\"',\n",
       " 'WILLIAM M. RAINES HIGH SCHOOL,JACKSONVILLE,FL,DUVAL,$676989.00,Turnaround,\"3663 RAINES AVEJACKSONVILLE, FL 32209(30.3812, -81.7111)\"',\n",
       " 'LAKEWOOD HIGH SCHOOL,ST PETERSBURG,FL,PINELLAS,$500000.00,Transformation,\"1400 54TH AVE SOUTHST PETERSBURG, FL 33705(27.7176, -82.6525)\"',\n",
       " 'MIAMI EDISON MIDDLE SCHOOL,MIAMI,FL,DADE,$407497.00,Turnaround,\"6101 NW 2ND AVEMIAMI, FL 33127(25.8317, -80.1998)\"',\n",
       " 'MIDDLETON HIGH SCHOOL,TAMPA,FL,HILLSBOROUGH,$759293.00,Transformation,\"4801 NORTH 22ND STTAMPA, FL 33610(27.9888, -82.4347)\"',\n",
       " 'JEAN RIBAULT HIGH SCHOOL,JACKSONVILLE,FL,DUVAL,$713451.00,Turnaround,\"3701 WINTON DRJACKSONVILLE, FL 32208(30.3895, -81.707)\"',\n",
       " 'RIDGEWOOD HIGH SCHOOL,NEW PORT RICHEY,FL,PASCO,$759293.00,Transformation,\"7650 ORCHID LAKE RDNEW PORT RICHEY, FL 34653(28.2733, -82.6886)\"',\n",
       " 'NORTH COUNTY ELEMENTARY SCHOOL,MIAMI GARDENS,FL,DADE,$251911.00,Turnaround,\"3250 NW 207TH STMIAMI GARDENS, FL 33056(25.9634, -80.2551)\"',\n",
       " 'CLEWISTON HIGH SCHOOL,CLEWISTON,FL,HENDRY,$759293.00,Transformation,\"1501 SOUTH FRANCISCO STCLEWISTON, FL 33440(26.741, -80.9224)\"',\n",
       " 'BOOKER T. WASHINGTON SENIOR HIGH,MIAMI,FL,DADE,$644329.00,Turnaround,\"1200 NW 6TH AVEMIAMI, FL 33136(25.7865, -80.2048)\"',\n",
       " 'CELEBRATION HIGH SCHOOL,CELEBRATION,FL,OSCEOLA,$660025.00,Transformation,\"1807 CELEBRATION BLVDCELEBRATION, FL 34747(28.304, -81.5639)\"',\n",
       " 'FREDERICK R. DOUGLASS ELEMENTARY,MIAMI,FL,DADE,$344819.00,Turnaround,\"314 NW 12TH STMIAMI, FL 33136(25.7854, -80.2007)\"',\n",
       " 'CENTRAL HAMILTON ELEMENTARY SCHOOL,JASPER,FL,HAMILTON,$518789.00,Transformation,\"553 CHAN BRIDGE DRJASPER, FL 32052(30.5282, -82.9598)\"',\n",
       " 'EVANS HIGH SCHOOL,ORLANDO,FL,ORANGE,$652792.00,Transformation,\"4949 SILVER STAR RDORLANDO, FL 32808(28.5808, -81.4494)\"',\n",
       " 'MIAMI NORLAND SENIOR HIGH SCHOOL,MIAMI,FL,DADE,$742472.00,Turnaround,\"1050 NW 195TH STMIAMI, FL 33169(25.953, -80.2193)\"',\n",
       " 'COCONUT CREEK HIGH SCHOOL,COCONUT CREEK,FL,BROWARD,$713746.00,Transformation,\"1400 NW 44TH AVECOCONUT CREEK, FL 33066(26.2455, -80.1821)\"',\n",
       " 'A. PHILIP RANDOLPH ACADEMIES,JACKSONVILLE,FL,DUVAL,$697645.00,Transformation,\"1157 GOLFAIR BLVDJACKSONVILLE, FL 32209(30.3665, -81.6726)\"',\n",
       " 'MIAMI CAROL CITY SENIOR HIGH,OPA-LOCKA,FL,DADE,$997322.00,Transformation,\"3422 NW 187TH STOPA-LOCKA, FL 33056(25.9426, -80.2571)\"',\n",
       " 'AMOS P. GODBY HIGH SCHOOL,TALLAHASSEE,FL,LEON,$628602.00,Transformation,\"1717 WEST THARPE STTALLAHASSEE, FL 32303(30.4636, -84.3146)\"',\n",
       " 'HAWTHORNE MIDDLE/HIGH SCHOOL,HAWTHORNE,FL,ALACHUA,$635832.00,Transformation,\"21403 SE 69TH AVEHAWTHORNE, FL 32640(29.5905, -82.0974)\"',\n",
       " 'NORTHWESTERN MIDDLE SCHOOL,JACKSONVILLE,FL,DUVAL,$500000.00,Transformation,\"2100 WEST 45TH STJACKSONVILLE, FL 32209(30.3716, -81.6954)\"',\n",
       " 'GIBBS HIGH SCHOOL,ST PETERSBURG,FL,PINELLAS,$500000.00,Transformation,\"850 34TH ST SOUTHST PETERSBURG, FL 33711(27.7616, -82.6783)\"',\n",
       " 'CHARLES R. DREW MIDDLE SCHOOL,MIAMI,FL,DADE,$369914.00,Turnaround,\"1801 NW 60TH STMIAMI, FL 33142(25.8298, -80.2289)\"',\n",
       " 'FRANKLIN MIDDLE MAGNET SCHOOL,TAMPA,FL,HILLSBOROUGH,$759293.00,Transformation,\"3915 EAST 21ST AVETAMPA, FL 33605(27.9695, -82.4162)\"',\n",
       " 'PAXON MIDDLE SCHOOL,JACKSONVILLE,FL,DUVAL,$633527.00,Turnaround,\"3276 NORMAN EAST THAGARD BLVDJACKSONVILLE, FL 32254(30.342, -81.726)\"',\n",
       " 'ROSENWALD ELEMENTARY SCHOOL,SOUTH BAY,FL,PALM BEACH,$506738.00,Transformation,\"1321 WEST DR MARTIN LUTHER KINSOUTH BAY, FL 33493(26.6641, -80.7241)\"',\n",
       " 'BURKE COUNTY HIGH SCHOOL,WAYNESBORO,GA,BURKE COUNTY,$115158.00,Transformation,\"1057 BURKE VETERANS PKWYWAYNESBORO, GA 30830(33.0766, -81.9905)\"',\n",
       " 'WILLIAM S. HUTCHINGS CAREER CENTER,MACON,GA,BIBB COUNTY,$955121.00,Transformation,\"2004 RIVERSIDE DRMACON, GA 31204(32.8562, -83.6453)\"',\n",
       " 'LANEY HIGH SCHOOL,AUGUSTA,GA,RICHMOND COUNTY,$115976.00,Turnaround,\"1339 LNY WALKER BLVDAUGUSTA, GA 30901(33.4669, -81.9825)\"',\n",
       " 'CRIM HIGH SCHOOL,ATLANTA,GA,ATLANTA PUBLIC SCHOOLS,$11667.00,Transformation,\"256 CLIFTON ST SEATLANTA, GA 30317(33.7456, -84.3308)\"',\n",
       " 'PEACH COUNTY HIGH SCHOOL,FORT VALLEY,GA,PEACH COUNTY,$185136.00,Transformation,\"900 CAMPUS DRFORT VALLEY, GA 31030(32.5675, -83.9055)\"',\n",
       " 'GRIFFIN HIGH SCHOOL,GRIFFIN,GA,SPALDING COUNTY,$144427.00,Transformation,\"1617 WEST POPLACEAR STGRIFFIN, GA 30224(33.2441, -84.2919)\"',\n",
       " 'DADE COUNTY HIGH SCHOOL,TRENTON,GA,DADE COUNTY,$942738.00,Transformation,\"300 TRADITION LNTRENTON, GA 30752(34.8607, -85.5079)\"',\n",
       " 'GLENN HILLS HIGH SCHOOL,AUGUSTA,GA,RICHMOND COUNTY,$107896.00,Transformation,\"2840 GLENN HILLS DRAUGUSTA, GA 30906(33.4291, -82.0625)\"',\n",
       " 'DOUGLASS HIGH SCHOOL,ATLANTA,GA,ATLANTA PUBLIC SCHOOLS,$788579.00,Transformation,\"225 HAMILTON EAST HOLMES DRATLANTA, GA 30318(33.7608, -84.4696)\"',\n",
       " 'JORDAN VOCATIONAL HIGH SCHOOL,COLUMBUS,GA,MUSCOGEE COUNTY,$146453.00,Transformation,\"3200 HOWARD AVECOLUMBUS, GA 31904(32.4936, -84.9716)\"',\n",
       " 'DOOLY COUNTY HIGH SCHOOL,VIENNA,GA,DOOLY COUNTY,$139306.00,Transformation,\"712 NORTH 3RD STVIENNA, GA 31092(32.1018, -83.7986)\"',\n",
       " 'BEACH HIGH SCHOOL,SAVANNAH,GA,CHATHAM COUNTY,$122676.00,Turnaround,\"3001 HOPKINS STSAVANNAH, GA 31405(32.0536, -81.1177)\"',\n",
       " 'RIDGELAND HIGH SCHOOL,ROSSVILLE,GA,WALKER COUNTY,$147015.00,Transformation,\"2478 HAPPY VALLEY RDROSSVILLE, GA 30741(34.949, -85.3125)\"',\n",
       " 'SOUTHWEST HIGH SCHOOL,MACON,GA,BIBB COUNTY,$119812.00,Transformation,\"1730 CANTERBURY RDMACON, GA 31206(32.8092, -83.6751)\"',\n",
       " 'JOSEY HIGH SCHOOL,AUGUSTA,GA,RICHMOND COUNTY,$102187.00,Transformation,\"1701 15TH STAUGUSTA, GA 30901(33.4555, -81.9988)\"',\n",
       " 'GEORGIA SCHOOL FOR THE DEAF,CAVE SPRING,GA,STATE SCHOOLS,$101486.00,Transformation,\"232 PERRY FARM RD SWCAVE SPRING, GA 30124(34.1001, -85.3458)\"',\n",
       " 'SPENCER HIGH SCHOOL,COLUMBUS,GA,MUSCOGEE COUNTY,$164154.00,Transformation,\"4340 VICTORY DRCOLUMBUS, GA 31903(32.4062, -84.9376)\"',\n",
       " 'MCNAIR HIGH SCHOOL,ATLANTA,GA,DEKALB COUNTY,$868746.00,Transformation,\"1804 BOULDERCREST RD SEATLANTA, GA 30316(33.7043, -84.3248)\"',\n",
       " 'TEMPLE HIGH SCHOOL,TEMPLE,GA,CARROLL COUNTY,$105401.00,Transformation,\"589 SAGE STTEMPLE, GA 30179(33.7434, -85.0358)\"',\n",
       " 'RUTLAND HIGH SCHOOL,MACON,GA,BIBB COUNTY,$125013.00,Transformation,\"6250 SKIPPER RDMACON, GA 31216(32.7386, -83.7156)\"',\n",
       " 'STEWART-QUITMAN HIGH SCHOOL,LUMPKIN,GA,STEWART COUNTY,$688641.00,Transformation,\"OLD EUFAULA HWYLUMPKIN, GA 31815(32.0174, -84.8533)\"',\n",
       " 'NORTHEAST HIGH SCHOOL,MACON,GA,BIBB COUNTY,$112362.00,Transformation,\"1646 UPPER RIVER RDMACON, GA 31211(32.8668, -83.6201)\"',\n",
       " 'HAWKINSVILLE HIGH SCHOOL,HAWKINSVILLE,GA,PULASKI COUNTY,$902342.00,Transformation,\"1 RED DEVIL DRHAWKINSVILLE, GA 31036(32.288, -83.4918)\"',\n",
       " 'ATLANTA AREA SCHOOL FOR THE DEAF,CLARKSTON,GA,STATE SCHOOLS,$663957.00,Transformation,\"890 NORTH INDIAN CREEK DRCLARKSTON, GA 30021(33.8029, -84.2398)\"',\n",
       " 'HENRY COUNTY HIGH SCHOOL,MCDONOUGH,GA,HENRY COUNTY,$140653.00,Transformation,\"401 TOMLINSON STMCDONOUGH, GA 30253(33.4502, -84.1275)\"',\n",
       " 'CLARKSTON HIGH SCHOOL,CLARKSTON,GA,DEKALB COUNTY,$876027.00,Transformation,\"618 NORTH INDIAN CREEK DRCLARKSTON, GA 30021(33.7934, -84.2384)\"',\n",
       " 'WEEKS MIDDLE SCHOOL,DES MOINES,IA,DES MOINES INDEPENDENT COMM SCHOOL DISTRICT,$18.00,Transformation,\"901 EAST PARK AVEDES MOINES, IA 50315(41.554, -93.6005)\"',\n",
       " 'NORTH HIGH SCHOOL,DES MOINES,IA,DES MOINES INDEPENDENT COMM SCHOOL DISTRICT,$2.00,Transformation,\"501 HOLCOMB AVEDES MOINES, IA 50313(41.6179, -93.6219)\"',\n",
       " 'LINCOLN ELEMENTARY SCHOOL,WATERLOO,IA,WATERLOO COMM SCHOOL DISTRICT,,Transformation,\"302 CEDAR BENDWATERLOO, IA 50703(42.5186, -92.3647)\"',\n",
       " 'HOYT MIDDLE SCHOOL,DES MOINES,IA,DES MOINES INDEPENDENT COMM SCHOOL DISTRICT,$18.00,Transformation,\"2700 EAST 42ND STDES MOINES, IA 50317(41.6206, -93.5335)\"',\n",
       " 'JACK M LOGAN MIDDLE SCHOOL,WATERLOO,IA,WATERLOO COMM SCHOOL DISTRICT,$761197.00,Transformation,\"1515 LOGAN AVEWATERLOO, IA 50703(42.5215, -92.3378)\"',\n",
       " 'EDMUNDS FINE ARTS ACADEMY,DES MOINES,IA,DES MOINES INDEPENDENT COMM SCHOOL DISTRICT,,Transformation,\"1601 CROCKER STDES MOINES, IA 50314(41.5943, -93.639)\"',\n",
       " 'MURTAUGH MIDDLE SCHOOL,MURTAUGH,ID,MURTAUGH JOINT DISTRICT,$209893.00,Transformation,\"500 WEST BOYDMURTAUGH, ID 83344(42.4923, -114.159)\"',\n",
       " 'FORT HALL ELEMENTARY SCHOOL,POCATELLO,ID,BLACKFOOT DISTRICT,,Transformation,\"B STPOCATELLO, ID 83202(42.906, -112.582)\"',\n",
       " 'MELBA MIDDLE SCHOOL,MELBA,ID,MELBA JOINT DISTRICT,,Transformation,\"560 BRDWAYMELBA, ID 83641(43.3785, -116.531)\"',\n",
       " 'LAKESIDE ELEMENTARY SCHOOL,WORLEY,ID,PLUMMER-WORLEY JOINT DISTRICT,,Transformation,\"S 29900 FIRST AVEWORLEY, ID 83876(47.4, -116.916)\"',\n",
       " 'SNAKE RIVER JR HIGH SCHOOL,BLACKFOOT,ID,SNAKE RIVER DISTRICT,,Transformation,\"918 WEST HWY 39BLACKFOOT, ID 83221(43.197, -112.478)\"',\n",
       " 'JEFFERSON MIDDLE SCHOOL,CALDWELL,ID,CALDWELL DISTRICT,$286787.00,Transformation,\"3311 SOUTH 10TH AVECALDWELL, ID 83605(43.6407, -116.693)\"',\n",
       " 'THORNWOOD HIGH SCHOOL,SOUTH HOLLAND,IL,THORNTON TWP HSD 205,$170473.00,Transformation,\"17101 SOUTH PARK AVESOUTH HOLLAND, IL 60473(41.5845, -87.6073)\"',\n",
       " 'MANUAL HIGH SCHOOL,PEORIA,IL,PEORIA SD 150,$122159.00,Turnaround,\"811 SOUTH GRISWOLD STPEORIA, IL 61605(40.6804, -89.6327)\"',\n",
       " 'MARSHALL METROPOLITAN HIGH SCHOOL,CHICAGO,IL,CITY OF CHICAGO SD 299,$195114.00,Turnaround,\"3250 WEST ADAMS STCHICAGO, IL 60624(41.8784, -87.7073)\"',\n",
       " 'EGYPTIAN SR HIGH SCHOOL,TAMMS,IL,EGYPTIAN CUSD 5,$11848.00,Transformation,\"20023 DISWOOD RDTAMMS, IL 62988(37.2278, -89.3244)\"',\n",
       " 'HARPER HIGH SCHOOL,CHICAGO,IL,CITY OF CHICAGO SD 299,$198187.00,Turnaround,\"6520 SOUTH WOOD STCHICAGO, IL 60636(41.7753, -87.6689)\"',\n",
       " 'THORNTON TOWNSHIP HIGH SCHOOL,HARVEY,IL,THORNTON TWP HSD 205,$170473.00,Transformation,\"15001 BRDWAYHARVEY, IL 60426(41.6171, -87.6445)\"',\n",
       " 'DEPUE HIGH SCHOOL,DEPUE,IL,DEPUE USD 103,$793604.00,Transformation,\"PO BOX 800DEPUE, IL 61322(41.3241, -89.3066)\"',\n",
       " 'FENGER ACADEMY HIGH SCHOOL,CHICAGO,IL,CITY OF CHICAGO SD 299,$185042.00,Turnaround,\"11220 SOUTH WALLACE STCHICAGO, IL 60628(41.6902, -87.6375)\"',\n",
       " 'THORNRIDGE HIGH SCHOOL,DOLTON,IL,THORNTON TWP HSD 205,$170473.00,Transformation,\"15000 COTTAGE GROVEDOLTON, IL 60419(41.6191, -87.6003)\"',\n",
       " 'PHILLIPS ACADEMY HIGH SCHOOL,CHICAGO,IL,CITY OF CHICAGO SD 299,$179737.00,Restart,\"244 EAST PERSHING RDCHICAGO, IL 60653(41.8238, -87.6201)\"',\n",
       " 'BENDIX SCHOOL,SOUTH BEND,IN,SOUTH BEND COMMUNITY SCH CORP,$113677.00,Transformation,\"3206 SUGAR MAPLACEE CTSOUTH BEND, IN 46628(41.7184, -86.2928)\"',\n",
       " 'GLENWOOD MIDDLE SCHOOL,EVANSVILLE,IN,EVANSVILLE-VANDERBURGH SCH CORP,$199941.00,Transformation,\"901 SWEETSER AVEEVANSVILLE, IN 47713(37.9498, -87.5519)\"',\n",
       " 'GEORGE WASHINGTON COMMUNITY,INDIANAPOLIS,IN,INDIANAPOLIS PUBLIC SCHOOLS,$198496.00,Turnaround,\"2215 WEST WASHINGTON STINDIANAPOLIS, IN 46222(39.7651, -86.1998)\"',\n",
       " 'INDIANAPOLIS METROPOLITAN HIGH SCH,INDIANAPOLIS,IN,INDIANAPOLIS METROPOLITAN HIGH SCH,$735737.00,Transformation,\"1635 WEST MICHIGAN STINDIANAPOLIS, IN 46222(39.7738, -86.1907)\"',\n",
       " 'JOHN MARSHALL COMMUNITY HIGH SCH,INDIANAPOLIS,IN,INDIANAPOLIS PUBLIC SCHOOLS,$191676.00,Turnaround,\"10101 EAST 38TH STINDIANAPOLIS, IN 46236(39.8263, -85.9886)\"',\n",
       " 'THE CHALLENGE FOUNDATION ACADEMY,INDIANAPOLIS,IN,CHALLENGE FOUNDATION ACADEMY,$552282.00,Transformation,\"3980 MEADOWS DRINDIANAPOLIS, IN 46205(39.8283, -86.1125)\"',\n",
       " 'HAMMOND HIGH SCHOOL,HAMMOND,IN,SCHOOL CITY OF HAMMOND,$199958.00,Turnaround,\"5926 CALUMET AVEHAMMOND, IN 46320(41.6056, -87.5098)\"',\n",
       " 'EMERSON ELEM,KANSAS CITY,KS,KANSAS CITY,$108003.00,Turnaround,\"1429 SOUTH 29THKANSAS CITY, KS 66106(39.0746, -94.6625)\"',\n",
       " 'HIGHLAND PARK HIGH,TOPEKA,KS,TOPEKA PUBLIC SCHOOLS,$197018.00,Transformation,\"2424 SE CALIFORNIA AVETOPEKA, KS 66605(39.0238, -95.6513)\"',\n",
       " 'SOUTH EAST HIGH,CHEROKEE,KS,CHEROKEE,$764280.00,Transformation,\"126 WEST 400 HWYCHEROKEE, KS 66724(37.3393, -94.8272)\"',\n",
       " 'LIBERAL  SOUTH MIDDLE,LIBERAL,KS,LIBERAL,$180378.00,Transformation,\"950 SOUTH GRANT AVELIBERAL, KS 67901(37.0245, -100.926)\"',\n",
       " 'NORTHWEST MIDDLE,KANSAS CITY,KS,KANSAS CITY,$18984.00,Transformation,\"2400 NORTH 18TH STKANSAS CITY, KS 66104(39.1327, -94.6503)\"',\n",
       " 'CURTIS MIDDLE SCHOOL,WICHITA,KS,WICHITA,$1997.00,Transformation,\"1031 SOUTH EDGEMOORWICHITA, KS 67218(37.668, -97.2713)\"',\n",
       " 'WESTERN MIDDLE SCHOOL,LOUISVILLE,KY,JEFFERSON COUNTY,$429176.00,Turnaround,\"2201 WEST MAIN STLOUISVILLE, KY 40212(38.2599, -85.7864)\"',\n",
       " 'VALLEY TRADITIONAL HIGH SCHOOL,LOUISVILLE,KY,JEFFERSON COUNTY,$588932.00,Turnaround,\"10200 DIXIE HWYLOUISVILLE, KY 40272(38.1076, -85.8668)\"',\n",
       " 'METCALFE COUNTY HIGH SCHOOL,EDMONTON,KY,METCALFE COUNTY,$433993.00,Transformation,\"208 RANDOLPH STEDMONTON, KY 42129(36.9822, -85.628)\"',\n",
       " 'SHAWNEE HIGH SCHOOL MAGNET CAREER ACADEM,LOUISVILLE,KY,JEFFERSON COUNTY,$437283.00,Turnaround,\"4018 WEST MARKET STLOUISVILLE, KY 40212(38.2623, -85.8151)\"',\n",
       " 'FERN CREEK TRADITIONAL HIGH SCHOOL,LOUISVILLE,KY,JEFFERSON COUNTY,$559459.00,Turnaround,\"9115 FERN CREEK RDLOUISVILLE, KY 40291(38.1536, -85.5926)\"',\n",
       " 'LESLIE COUNTY HIGH SCHOOL,HYDEN,KY,LESLIE COUNTY,$498795.00,Transformation,\"25 EAGLE LNHYDEN, KY 41749(37.1461, -83.3816)\"',\n",
       " 'ROBERT FROST MIDDLE SCHOOL,VALLEY STATION,KY,JEFFERSON COUNTY,$437283.00,Turnaround,\"13700 SANDRAY BLVDVALLEY STATION, KY 40272(38.0598, -85.8978)\"',\n",
       " 'CAVERNA HIGH SCHOOL,HORSE CAVE,KY,CAVERNA INDEPENDENT,$395523.00,Transformation,\"2276 SOUTH DIXIE STHORSE CAVE, KY 42749(37.1633, -85.9202)\"',\n",
       " 'LAWRENCE COUNTY HIGH SCHOOL,LOUISA,KY,LAWRENCE COUNTY,$808211.00,Transformation,\"100 BULLDOG LNLOUISA, KY 41230(38.0951, -82.6058)\"',\n",
       " 'WESTERN MST MAGNET HIGH SCHOOL,LOUISVILLE,KY,JEFFERSON COUNTY,$437283.00,Turnaround,\"2501 ROCKFORD LNLOUISVILLE, KY 40216(38.1765, -85.8433)\"',\n",
       " 'SARAH TOWLES REED SENIOR HIGH SCHOOL,NEW ORLEANS,LA,RECOVERY SCHOOL DISTRICT-LDE,,Transformation,\"5316 MICHOUD BLVDNEW ORLEANS, LA 70129(30.0405, -89.9304)\"',\n",
       " 'ASSUMPTION HIGH SCHOOL,NAPOLEONVILLE,LA,ASSUMPTION PARISH,,Transformation,\"4880 HWY 308NAPOLEONVILLE, LA 70390(29.9416, -91.0224)\"',\n",
       " 'CHELSEA HIGH,CHELSEA,MA,CHELSEA,$748937.00,Transformation,\"299 EVERETT AVECHELSEA, MA 2150(42.4004, -71.0401)\"',\n",
       " 'THE ENGLISH HIGH,BOSTON,MA,BOSTON,$927362.00,Transformation,\"144 MCBRIDE STBOSTON, MA 2130(42.3064, -71.1094)\"',\n",
       " 'ELIHU GREENWOOD,HYDE PARK,MA,BOSTON,$427239.00,Transformation,\"612 METROPOLITAN AVEHYDE PARK, MA 2136(42.2652, -71.1178)\"',\n",
       " 'ORCHARD GARDENS,ROXBURY,MA,BOSTON,$110786.00,Turnaround,\"906 ALBANY STROXBURY, MA 2119(42.3303, -71.0775)\"',\n",
       " 'PAUL A DEVER,DORCHESTER,MA,BOSTON,$863413.00,Turnaround,\"325 MT VERNON STDORCHESTER, MA 2125(42.3174, -71.0434)\"',\n",
       " 'DEARBORN,ROXBURY,MA,BOSTON,$420721.00,Transformation,\"35 GREENVILLE STROXBURY, MA 2119(42.3264, -71.0808)\"',\n",
       " 'HARBOR SCHOOL,BOSTON,MA,BOSTON,$586623.00,Turnaround,\"11 CHARLES STBOSTON, MA 2122(42.3009, -71.062)\"',\n",
       " 'JOHN P HOLLAND,DORCHESTER,MA,BOSTON,$918500.00,Transformation,\"85 OLNEY STDORCHESTER, MA 2121(42.2816, -71.08)\"',\n",
       " 'BLACKSTONE,BOSTON,MA,BOSTON,$743593.00,Turnaround,\"380 SHAWMUT AVEBOSTON, MA 2118(42.3407, -71.0725)\"',\n",
       " 'M MARCUS KILEY MIDDLE,SPRINGFIELD,MA,SPRINGFIELD,$767986.00,Transformation,\"180 COOLEY STSPRINGFIELD, MA 1128(42.0984, -72.5008)\"',\n",
       " 'WILLIAM MONROE TROTTER,DORCHESTER,MA,BOSTON,$518312.00,Turnaround,\"135 HUMBOLDT AVEDORCHESTER, MA 2121(42.3158, -71.0876)\"',\n",
       " 'JOHN F KENNEDY,JAMAICA PLAIN,MA,BOSTON,$407794.00,Transformation,\"7 BOLSTER STJAMAICA PLAIN, MA 2130(42.3218, -71.1064)\"',\n",
       " 'THURGOOD MARSHALL MIDDLE SCHOOL,TEMPLE HILLS,MD,PRINCE GEORGE\\'S COUNTY PUBLIC SCHOOLS,$773922.00,Turnaround,\"4909 BRINKLEY RDTEMPLE HILLS, MD 20748(38.802, -76.923)\"',\n",
       " 'WILLIAM C. MARCH MIDDLE,BALTIMORE,MD,BALTIMORE CITY PUBLIC SCHOOLS,$956457.00,Restart,\"1919 NORTH BRDWAY STBALTIMORE, MD 21213(39.3128, -76.5951)\"',\n",
       " 'CHINQUAPIN MIDDLE,BALTIMORE,MD,BALTIMORE CITY PUBLIC SCHOOLS,$465091.00,Restart,\"900 WOODBOURNE AVEBALTIMORE, MD 21212(39.3546, -76.5999)\"',\n",
       " 'BENJAMIN STODDERT MIDDLE,TEMPLE HILLS,MD,PRINCE GEORGE\\'S COUNTY PUBLIC SCHOOLS,$773922.00,Turnaround,\"2501 OLSON STTEMPLE HILLS, MD 20748(38.8303, -76.9482)\"',\n",
       " 'AUGUSTA FELLS SAVAGE INSTITUTE OF VISUAL ARTS,BALTIMORE,MD,BALTIMORE CITY PUBLIC SCHOOLS,$128848.00,Turnaround,\"1500 HARLEM AVEBALTIMORE, MD 21217(39.2969, -76.6402)\"',\n",
       " 'CALVERTON,BALTIMORE,MD,BALTIMORE CITY PUBLIC SCHOOLS,$177759.00,Restart,\"1100 WHITMORE AVEBALTIMORE, MD 21216(39.3003, -76.6584)\"',\n",
       " 'G. JAMES GHOLSON MIDDLE,LANDOVER,MD,PRINCE GEORGE\\'S COUNTY PUBLIC SCHOOLS,$831888.00,Turnaround,\"900 NALLEY RDLANDOVER, MD 20785(38.9034, -76.874)\"',\n",
       " 'GARRISON MIDDLE,BALTIMORE,MD,BALTIMORE CITY PUBLIC SCHOOLS,$120707.00,Restart,\"3910 BARRINGTON RDBALTIMORE, MD 21207(39.3316, -76.6845)\"',\n",
       " 'BOOKER T. WASHINGTON MIDDLE,BALTIMORE,MD,BALTIMORE CITY PUBLIC SCHOOLS,$928355.00,Turnaround,\"1301 MCCULLOH STBALTIMORE, MD 21217(39.3026, -76.6278)\"',\n",
       " 'DREW FREEMAN MIDDLE,SUITLAND,MD,PRINCE GEORGE\\'S COUNTY PUBLIC SCHOOLS,$773922.00,Turnaround,\"2600 BROOKS DRSUITLAND, MD 20746(38.8552, -76.9203)\"',\n",
       " 'COMMODORE JOHN ROGERS ELEMENTARY,BALTIMORE,MD,BALTIMORE CITY PUBLIC SCHOOLS,$102706.00,Restart,\"100 NORTH CHESTER STBALTIMORE, MD 21231(39.2935, -76.5877)\"',\n",
       " 'GOVERNOR JAMES B LONGLEY ELEM SCH,LEWISTON,ME,LEWISTON SCHOOL DEPARTMENT,,Turnaround,\"145 BIRCH STLEWISTON, ME 4240(44.0943, -70.2075)\"',\n",
       " 'LAKE REGION HIGH SCHOOL,NAPLES,ME,MSAD 61,,Transformation,\"1877 ROOSEVELT TRAILNAPLES, ME 4055(43.9965, -70.6573)\"',\n",
       " 'LIVERMORE FALLS HIGH SCHOOL,LIVERMORE FALLS,ME,MSAD 36,,Transformation,\"25 CEDAR STLIVERMORE FALLS, ME 4254(44.4697, -70.1824)\"',\n",
       " 'SUMNER MEMORIAL HIGH SCHOOL,SULLIVAN,ME,FLANDERS BAY CSD,,Transformation,\"2456 US HWY 1SULLIVAN, ME 4664(44.5202, -68.1972)\"',\n",
       " 'RIVERTON SCHOOL,PORTLAND,ME,PORTLAND PUBLIC SCHOOLS,,Transformation,\"1600 FOREST AVEPORTLAND, ME 4101(43.6972, -70.3075)\"',\n",
       " 'CARRABEC HIGH SCHOOL,NORTH ANSON,ME,MSAD 74,,Transformation,\"160 NORTH MAIN STNORTH ANSON, ME 4958(44.8595, -69.8949)\"',\n",
       " 'LESSENGER ELEMENTARY-MIDDLE SCHOOL,DETROIT,MI,DETROIT CITY SCHOOL DISTRICT,$148488.00,Turnaround,\"8401 TRINITY STDETROIT, MI 48228(42.3538, -83.2468)\"',\n",
       " 'E.A. JOHNSON MEMORIAL H.S.,MOUNT MORRIS,MI,MT. MORRIS CONSOLIDATED SCHOOLS,$679699.00,Transformation,\"8041 NEFF RDMOUNT MORRIS, MI 48458(43.1195, -83.7142)\"',\n",
       " 'BUCHANAN HIGH SCHOOL,BUCHANAN,MI,BUCHANAN COMMUNITY SCHOOLS,$121632.00,Transformation,\"401 WEST CHICAGO STBUCHANAN, MI 49107(41.825, -86.3671)\"',\n",
       " 'WESTWOOD MIDDLE SCHOOL,GRAND RAPIDS,MI,GRAND RAPIDS PUBLIC SCHOOLS,$171133.00,Turnaround,\"1525 MOUNT MERCY DR NWGRAND RAPIDS, MI 49504(42.9734, -85.7065)\"',\n",
       " 'ALGER MIDDLE SCHOOL,GRAND RAPIDS,MI,GRAND RAPIDS PUBLIC SCHOOLS,$171133.00,Turnaround,\"921 ALGER ST SEGRAND RAPIDS, MI 49507(42.9201, -85.644)\"',\n",
       " 'WALDRON MIDDLE SCHOOL,WALDRON,MI,WALDRON AREA SCHOOLS,$273500.00,Transformation,\"13380 WALDRON RDWALDRON, MI 49288(41.7359, -84.419)\"',\n",
       " 'WHITE ELEMENTARY SCHOOL,HAMTRAMCK,MI,DETROIT CITY SCHOOL DISTRICT,$122853.00,Transformation,\"5161 CHARLES STHAMTRAMCK, MI 48212(42.4117, -83.05)\"',\n",
       " 'ARTHUR HILL HIGH SCHOOL,SAGINAW,MI,SAGINAW CITY SCHOOL DISTRICT,$164933.00,Transformation,\"3115 MACKINAW STSAGINAW, MI 48602(43.4301, -83.99)\"',\n",
       " 'MT. CLEMENS HIGH SCHOOL,MOUNT CLEMENS,MI,MT. CLEMENS COMMUNITY SCHOOL DISTRICT,$751945.00,Transformation,\"155 CASS AVEMOUNT CLEMENS, MI 48043(42.5958, -82.883)\"',\n",
       " 'ADRIAN HIGH SCHOOL,ADRIAN,MI,ADRIAN CITY SCHOOL DISTRICT,$948838.00,Transformation,\"785 RIVERSIDE AVEADRIAN, MI 49221(41.9127, -84.0487)\"',\n",
       " 'UNION HIGH SCHOOL,GRAND RAPIDS,MI,GRAND RAPIDS PUBLIC SCHOOLS,$190709.00,Transformation,\"1800 TREMONT BLVD NWGRAND RAPIDS, MI 49504(42.975, -85.7123)\"',\n",
       " 'LEE HIGH SCHOOL,WYOMING,MI,GODFREY-LEE PUBLIC SCHOOLS,$894861.00,Transformation,\"1335 LEE ST SWWYOMING, MI 49509(42.931, -85.6998)\"',\n",
       " 'LINCOLN HIGH SCHOOL,WARREN,MI,VAN DYKE PUBLIC SCHOOLS,$416177.00,Transformation,\"22900 FEDERAL AVEWARREN, MI 48089(42.4614, -83.0205)\"',\n",
       " 'SOUTHWESTERN HIGH SCHOOL,DETROIT,MI,DETROIT CITY SCHOOL DISTRICT,$135109.00,Turnaround,\"6921 WEST FOROUTE STDETROIT, MI 48209(42.3032, -83.109)\"',\n",
       " 'ROMULUS MIDDLE SCHOOL,ROMULUS,MI,ROMULUS COMMUNITY SCHOOLS,$199852.00,Transformation,\"37300 WICK RDROMULUS, MI 48174(42.2376, -83.4049)\"',\n",
       " 'FARWELL MIDDLE SCHOOL,DETROIT,MI,DETROIT CITY SCHOOL DISTRICT,$602552.00,Turnaround,\"19955 FENELON STDETROIT, MI 48234(42.4417, -83.0538)\"',\n",
       " 'INKSTER HIGH SCHOOL,INKSTER,MI,SCHOOL DISTRICT OF THE CITY OF INKSTER,$16228.00,Turnaround,\"3250 MIDDLEBELT RDINKSTER, MI 48141(42.2859, -83.3292)\"',\n",
       " 'WESTON PREPARATORY ACADEMY,DETROIT,MI,WESTON PREPARATORY ACADEMY,$704180.00,Transformation,\"22930 CHIPPEWA STDETROIT, MI 48219(42.4386, -83.2708)\"',\n",
       " 'OTTAWA HILLS HIGH SCHOOL,GRAND RAPIDS,MI,GRAND RAPIDS PUBLIC SCHOOLS,$190709.00,Transformation,\"2055 ROSEWOOD AVE SEGRAND RAPIDS, MI 49506(42.926, -85.6264)\"',\n",
       " 'FITZGERALD SENIOR HIGH SCHOOL,WARREN,MI,FITZGERALD PUBLIC SCHOOLS,$447461.00,Transformation,\"23200 RYAN RDWARREN, MI 48091(42.4654, -83.0623)\"',\n",
       " 'SPRINGPORT HIGH SCHOOL,SPRINGPORT,MI,SPRINGPORT PUBLIC SCHOOLS,$774100.00,Transformation,\"300 WEST MAIN STSPRINGPORT, MI 49284(42.3783, -84.7048)\"',\n",
       " 'NOLAN ELEMENTARY SCHOOL,HIGHLAND PARK,MI,DETROIT CITY SCHOOL DISTRICT,$121554.00,Transformation,\"1150 EAST LANTZ STHIGHLAND PARK, MI 48203(42.4374, -83.0922)\"',\n",
       " 'OAK PARK HIGH SCHOOL,OAK PARK,MI,OAK PARK CITY SCHOOL DISTRICT,$196658.00,Turnaround,\"13701 OAK PARK BLVDOAK PARK, MI 48237(42.4645, -83.1848)\"',\n",
       " 'BUENA VISTA HIGH SCHOOL,SAGINAW,MI,BUENA VISTA SCHOOL DISTRICT,$815637.00,Transformation,\"3945 EAST HOLLAND RDSAGINAW, MI 48601(43.4146, -83.8812)\"',\n",
       " 'GRANT HIGH SCHOOL,GRANT,MI,GRANT PUBLIC SCHOOL DISTRICT,$552326.00,Transformation,\"331 EAST STATE RDGRANT, MI 49327(43.3365, -85.8046)\"',\n",
       " 'GERALD R. FORD MIDDLE SCHOOL,GRAND RAPIDS,MI,GRAND RAPIDS PUBLIC SCHOOLS,$144344.00,Turnaround,\"851 MADISON AVE SEGRAND RAPIDS, MI 49507(42.9474, -85.6591)\"',\n",
       " 'PHOENIX ELEMENTARY,DETROIT,MI,DETROIT CITY SCHOOL DISTRICT,$811102.00,Turnaround,\"7735 LN STDETROIT, MI 48209(42.3073, -83.1219)\"',\n",
       " 'THOMPSON MIDDLE SCHOOL,SAGINAW,MI,SAGINAW CITY SCHOOL DISTRICT,$125917.00,Transformation,\"224 NORTH ELM STSAGINAW, MI 48602(43.4161, -83.9827)\"',\n",
       " 'WELLSTONE INTERNATIONAL HIGH,MINNEAPOLIS,MN,MINNEAPOLIS PUBLIC SCHOOL DIST.,$528276.00,Transformation,\"1006 WEST LAKE STMINNEAPOLIS, MN 55408(44.9492, -93.2923)\"',\n",
       " 'EDISON SENIOR HIGH,MINNEAPOLIS,MN,MINNEAPOLIS PUBLIC SCHOOL DIST.,$878276.00,Turnaround,\"700 22ND AVE NEMINNEAPOLIS, MN 55418(45.0094, -93.2517)\"',\n",
       " 'CASS LAKE-BENA SECONDARY,CASS LAKE,MN,CASS LAKE-BENA PUBLIC SCHOOLS,$529518.00,Transformation,\"15308 STATE 371 NWCASS LAKE, MN 56633(47.3574, -94.6203)\"',\n",
       " 'MAXFIELD MAGNET ELEMENTARY,ST. PAUL,MN,ST. PAUL PUBLIC SCHOOL DISTRICT,$600000.00,Transformation,\"380 NORTH VICTORIA STST. PAUL, MN 55104(44.9524, -93.135)\"',\n",
       " 'NORTH VIEW IB WORLD SCHOOL,BROOKLYN PARK,MN,OSSEO PUBLIC SCHOOL DISTRICT,$850000.00,Transformation,\"5869 69TH AVE NORTHBROOKLYN PARK, MN 55429(45.0783, -93.3539)\"',\n",
       " 'BETHUNE ELEMENTARY,MINNEAPOLIS,MN,MINNEAPOLIS PUBLIC SCHOOL DIST.,$528276.00,Transformation,\"919 EMERSON AVE NORTHMINNEAPOLIS, MN 55411(44.9873, -93.2942)\"',\n",
       " 'BROOKLYN CENTER SECONDARY,BROOKLYN CENTER,MN,BROOKLYN CENTER SCHOOL DISTRICT,$700000.00,Transformation,\"6500 HUMBOLDT AVE NORTHBROOKLYN CENTER, MN 55430(45.0747, -93.2971)\"',\n",
       " 'HUMBOLDT SENIOR HIGH,ST. PAUL,MN,ST. PAUL PUBLIC SCHOOL DISTRICT,$850000.00,Turnaround,\"30 EAST BAKER STST. PAUL, MN 55107(44.9261, -93.0862)\"',\n",
       " 'OGILVIE SECONDARY,OGILVIE,MN,OGILVIE PUBLIC SCHOOL DISTRICT,$561111.00,Transformation,\"333 SCHOOL DROGILVIE, MN 56358(45.8267, -93.425)\"',\n",
       " 'BROADWAY ARTS & TECHNOLOGY,MINNEAPOLIS,MN,MINNEAPOLIS PUBLIC SCHOOL DIST.,$403276.00,Transformation,\"1250 WEST BRDWAYMINNEAPOLIS, MN 55411(44.9997, -93.2967)\"',\n",
       " 'ISLE SECONDARY,ISLE,MN,ISLE PUBLIC SCHOOL DISTRICT,$500000.00,Transformation,\"730 5TH AVE SOUTHISLE, MN 56342(46.1338, -93.4734)\"',\n",
       " 'BRAHAM AREA SECONDARY,BRAHAM,MN,BRAHAM PUBLIC SCHOOL DISTRICT,$658042.00,Transformation,\"531 ELMHURST AVE SOUTHBRAHAM, MN 55006(45.7203, -93.1786)\"',\n",
       " 'RED LAKE SENIOR HIGH,RED LAKE,MN,RED LAKE PUBLIC SCHOOL DISTRICT,$561543.00,Transformation,\"HWY 1RED LAKE, MN 56671(47.8689, -95.0778)\"',\n",
       " 'HMONG INTERNATIONAL ACADEMY,MINNEAPOLIS,MN,MINNEAPOLIS PUBLIC SCHOOL DIST.,$528276.00,Transformation,\"3333 PENN AVE NORTHMINNEAPOLIS, MN 55412(45.0156, -93.3083)\"',\n",
       " 'LUCY LANEY @ CLEVELAND PARK ELEM.,MINNEAPOLIS,MN,MINNEAPOLIS PUBLIC SCHOOL DIST.,$728276.00,Turnaround,\"3333 PENN AVE NORTHMINNEAPOLIS, MN 55412(45.0156, -93.3083)\"',\n",
       " 'EAST CENTRAL SENIOR SECONDARY,FINLAYSON,MN,EAST CENTRAL SCHOOL DISTRICT,$500237.00,Transformation,\"61085 STATE HWY 23FINLAYSON, MN 55735(46.1218, -92.8717)\"',\n",
       " 'WAUBUN SECONDARY,WAUBUN,MN,WAUBUN PUBLIC SCHOOL DISTRICT,$700000.00,Transformation,\"1013 3RD STWAUBUN, MN 56589(47.1849, -95.939)\"',\n",
       " 'NEW VISIONS CHARTER SCHOOL,MINNEAPOLIS,MN,NEW VISIONS CHARTER SCHOOL,$556636.00,Transformation,\"1800 SECOND ST NEMINNEAPOLIS, MN 55418(45.0064, -93.2662)\"',\n",
       " 'PONEMAH ELEMENTARY,PONEMAH,MN,RED LAKE PUBLIC SCHOOL DISTRICT,$471654.00,Transformation,\"25039 ABINOJII DRPONEMAH, MN 56666(48.0322, -94.8344)\"',\n",
       " 'NORMANDY MIDDLE,ST LOUIS,MO,NORMANDY,$425300.00,Transformation,\"7855 NATURAL BRIDGE RDST LOUIS, MO 63121(38.7074, -90.3077)\"',\n",
       " 'COLUMBIA ELEM. COMM. ED. CTR.,ST LOUIS,MO,ST. LOUIS CITY,$356608.00,Turnaround,\"3120 ST LOUIS AVEST LOUIS, MO 63106(38.6537, -90.2189)\"',\n",
       " 'CENTRAL HIGH,KANSAS CITY,MO,KANSAS CITY 33,$806900.00,Transformation,\"3221 INDIANAKANSAS CITY, MO 64128(39.0669, -94.5435)\"',\n",
       " 'MANN ELEM.,ST LOUIS,MO,ST. LOUIS CITY,$380419.00,Turnaround,\"4047 JUNIATA STST LOUIS, MO 63116(38.6019, -90.2539)\"',\n",
       " 'EAST MIDDLE,ST LOUIS,MO,HAZELWOOD,$172251.00,Turnaround,\"1865 DUNN RDST LOUIS, MO 63138(38.7746, -90.2345)\"',\n",
       " 'HAMILTON ELEM. COMMUNITY ED.,ST LOUIS,MO,ST. LOUIS CITY,$363928.00,Turnaround,\"4160 NORTH KINGSHWYST LOUIS, MO 63115(38.6808, -90.2474)\"',\n",
       " 'CARUTHERSVILLE MIDDLE,CARUTHERSVILLE,MO,CARUTHERSVILLE 18,$379564.00,Transformation,\"1705 WARD AVECARUTHERSVILLE, MO 63830(36.1803, -89.664)\"',\n",
       " 'R. G. CENTRAL MIDDLE,ST LOUIS,MO,RIVERVIEW GARDENS,$199415.00,Turnaround,\"9800 PATRICIA BARKALOW DRST LOUIS, MO 63137(38.7454, -90.2367)\"',\n",
       " 'GENESIS SCHOOL INC.,KANSAS CITY,MO,GENESIS SCHOOL INC.,$250120.00,Turnaround,\"3800 EAST 44TH STKANSAS CITY, MO 64130(39.046, -94.5402)\"',\n",
       " 'WALBRIDGE ELEM. COMMUNITY ED.,ST LOUIS,MO,ST. LOUIS CITY,$377942.00,Turnaround,\"5000 DAVISON AVEST LOUIS, MO 63120(38.6937, -90.2508)\"',\n",
       " 'JENNINGS JR. HIGH,JENNINGS,MO,JENNINGS,$364226.00,Transformation,\"8831 COZENSJENNINGS, MO 63136(38.7282, -90.2581)\"',\n",
       " 'LANGSTON MIDDLE,ST LOUIS,MO,ST. LOUIS CITY,$436579.00,Transformation,\"5511 WABADA AVEST LOUIS, MO 63112(38.6731, -90.2717)\"',\n",
       " 'HAYTI HIGH,HAYTI,MO,HAYTI R-II,$10302.00,Transformation,\"400 NORTH FOURTH STHAYTI, MO 63851(36.2358, -89.748)\"',\n",
       " 'FANNING MIDDLE COMMUNITY ED.,ST LOUIS,MO,ST. LOUIS CITY,$444175.00,Transformation,\"3417 GRACE AVEST LOUIS, MO 63116(38.5957, -90.2447)\"',\n",
       " 'CONSTRUCTION CAREERS CENTER,ST LOUIS,MO,CONSTRUCTION CAREERS CENTER,$533168.00,Transformation,\"1224 GRATTANST LOUIS, MO 63104(38.6177, -90.2084)\"',\n",
       " 'RIVERVIEW GARDENS SR. HIGH,ST LOUIS,MO,RIVERVIEW GARDENS,$512669.00,Turnaround,\"1218 SHEPLACEEYST LOUIS, MO 63137(38.7554, -90.2137)\"',\n",
       " 'B. BANNEKER ACADEMY,KANSAS CITY,MO,B. BANNEKER ACADEMY,$912903.00,Turnaround,\"8310 HOLMES RDKANSAS CITY, MO 64131(38.9766, -94.5811)\"',\n",
       " 'VAN HORN HS AT EAST,KANSAS CITY,MO,KANSAS CITY 33,$806900.00,Transformation,\"1924 VAN BRUNT BLVDKANSAS CITY, MO 64127(39.0877, -94.5201)\"',\n",
       " 'VASHON HIGH,ST LOUIS,MO,ST. LOUIS CITY,$399827.00,Turnaround,\"3035 CASS AVEST LOUIS, MO 63106(38.6468, -90.2209)\"',\n",
       " 'SMITH-HALE JR. HIGH,KANSAS CITY,MO,HICKMAN MILLS C-1,$169925.00,Transformation,\"8925 LONGVIEW RDKANSAS CITY, MO 64134(38.9155, -94.4854)\"',\n",
       " 'L\\'OUVERTURE MIDDLE,ST LOUIS,MO,ST. LOUIS CITY,$441804.00,Transformation,\"3021 HICKORY STST LOUIS, MO 63104(38.6226, -90.2277)\"',\n",
       " 'MCCLUER SOUTH-BERKELEY HIGH,FERGUSON,MO,FERGUSON-FLORISSANT R-II,$407822.00,Transformation,\"201 BROTHERTON LNFERGUSON, MO 63135(38.732, -90.3038)\"',\n",
       " 'ASHLAND ELEM. AND BR.,ST LOUIS,MO,ST. LOUIS CITY,$353737.00,Turnaround,\"3921 NORTH NEWSTEADST LOUIS, MO 63115(38.671, -90.2355)\"',\n",
       " 'ALTA VISTA CHARTER SCH.,KANSAS CITY,MO,ALTA VISTA CHARTER SCH.,$256538.00,Transformation,\"1722 HOLLY STKANSAS CITY, MO 64108(39.0925, -94.5981)\"',\n",
       " 'NORMANDY HIGH,ST LOUIS,MO,NORMANDY,$402089.00,Transformation,\"6701 ST CHARLES ROCK RDST LOUIS, MO 63133(38.6832, -90.2962)\"',\n",
       " 'NORTHEAST HIGH,KANSAS CITY,MO,KANSAS CITY 33,$806900.00,Transformation,\"415 SOUTH VAN BRUNTKANSAS CITY, MO 64124(39.1088, -94.5259)\"',\n",
       " 'SIGEL ELEM. COMM. ED. CTR.,ST LOUIS,MO,ST. LOUIS CITY,$382436.00,Turnaround,\"2050 ALLEN AVEST LOUIS, MO 63104(38.6105, -90.2166)\"',\n",
       " 'ERVIN JR. HIGH,KANSAS CITY,MO,HICKMAN MILLS C-1,$46872.00,Closure,\"10530 GREENWOOD RDKANSAS CITY, MO 64134(38.9326, -94.4869)\"',\n",
       " 'JEFFERSON ELEM.,ST LOUIS,MO,ST. LOUIS CITY,$340193.00,Transformation,\"1301 HOGAN STST LOUIS, MO 63106(38.6411, -90.2025)\"',\n",
       " 'BERKELEY MIDDLE,BERKELEY,MO,FERGUSON-FLORISSANT R-II,$307826.00,Transformation,\"8300 FROST AVEBERKELEY, MO 63134(38.7606, -90.3262)\"',\n",
       " 'WESTVIEW MIDDLE,ST LOUIS,MO,RIVERVIEW GARDENS,$199415.00,Turnaround,\"1950 NEMNICHST LOUIS, MO 63136(38.7425, -90.2619)\"',\n",
       " 'URBAN COM. LEADERSHIP ACADEMY,KANSAS CITY,MO,URBAN COM. LEADERSHIP ACADEMY,$966394.00,Turnaround,\"1524 PASEO BLVDKANSAS CITY, MO 64108(39.0941, -94.5648)\"',\n",
       " 'LEFLORE COUNTY HIGH SCHOOL,ITTA BENA,MS,LEFLORE CO SCHOOL DIST,$175.00,Transformation,\"401 LAKESIDE DRITTA BENA, MS 38941(33.4896, -90.322)\"',\n",
       " 'HAZLEHURST HIGH SCHOOL,HAZLEHURST,MS,HAZLEHURST CITY SCHOOL DISTRICT,$12061.00,Transformation,\"101 SOUTH HALEY STHAZLEHURST, MS 39083(31.8602, -90.3924)\"',\n",
       " 'WINGFIELD HIGH SCHOOL,JACKSON,MS,JACKSON PUBLIC SCHOOL DIST,$174731.00,Transformation,\"1985 SCANLON DRJACKSON, MS 39204(32.2829, -90.2435)\"',\n",
       " 'W A HIGGINS MIDDLE SCHOOL,CLARKSDALE,MS,CLARKSDALE MUNICIPAL SCHOOL DIST,$125.00,Transformation,\"1749 CHESNUT STCLARKSDALE, MS 38614(34.194, -90.5557)\"',\n",
       " 'GENTRY HIGH SCHOOL,INDIANOLA,MS,INDIANOLA SCHOOL DIST,$129091.00,Transformation,\"801 B.B. KINGINDIANOLA, MS 38751(33.4426, -90.6428)\"',\n",
       " 'PORT GIBSON HIGH SCHOOL,PORT GIBSON,MS,CLAIBORNE CO SCHOOL DIST,$175.00,Transformation,\"159 OLD HWY 18 1PORT GIBSON, MS 39150(31.9575, -90.9819)\"',\n",
       " 'NORTH PANOLA HIGH SCHOOL,SARDIS,MS,NORTH PANOLA SCHOOLS,$790586.00,Transformation,\"500 HWY 51 NORTHSARDIS, MS 38666(34.4308, -89.925)\"',\n",
       " 'HAZLEHURST MIDDLE SCHOOL,HAZLEHURST,MS,HAZLEHURST CITY SCHOOL DISTRICT,$143209.00,Transformation,\"112 SCHOOL DRHAZLEHURST, MS 39083(31.8515, -90.3882)\"',\n",
       " 'PLENTY COUPS HIGH SCHOOL,PRYOR,MT,PLENTY COUPS H S,$380711.00,Transformation,\"1 HIGH SCHOOL LNPRYOR, MT 59066(45.4297, -108.533)\"',\n",
       " 'PRYOR 7-8,PRYOR,MT,PRYOR ELEM,$134368.00,Transformation,\"1 HIGH SCHOOL LNPRYOR, MT 59066(45.4297, -108.533)\"',\n",
       " 'FRAZER HIGH SCHOOL,FRAZER,MT,FRAZER H S,$799203.00,Transformation,\"325 6TH STFRAZER, MT 59225(48.0599, -106.046)\"',\n",
       " 'PRYOR ELEM SCHOOL,PRYOR,MT,PRYOR ELEM,$380711.00,Transformation,\"612 AWAY KURWAKPRYOR, MT 59066(45.4305, -108.533)\"',\n",
       " 'LAME DEER HIGH SCHOOL,LAME DEER,MT,LAME DEER H S,$137653.00,Transformation,\"3 MI SOUTH OF LAME DEERLAME DEER, MT 59043(45.5689, -106.521)\"',\n",
       " 'LODGE GRASS HIGH SCHOOL,LODGE GRASS,MT,LODGE GRASS H S,$129044.00,Transformation,\"124 NORTH ST GEORGELODGE GRASS, MT 59050(45.3174, -107.37)\"',\n",
       " 'KENNEDY LEARNING,WINSTON SALEM,NC,FORSYTH COUNTY SCHOOLS,$504908.00,Transformation,\"1000 NORTH HIGHLAND AVEWINSTON SALEM, NC 27101(36.1055, -80.2332)\"',\n",
       " 'BURKE ALTERNATIVE SCHOOL,MORGANTON,NC,BURKE COUNTY SCHOOLS,$316901.00,Transformation,\"510 COLLEGE STMORGANTON, NC 28655(35.7404, -81.6855)\"',\n",
       " 'LUMBERTON SENIOR HIGH,LUMBERTON,NC,ROBESON COUNTY SCHOOLS,$1726.00,Transformation,\"3901 FAYETTEVILLE RDLUMBERTON, NC 28358(34.6455, -79.0001)\"',\n",
       " 'SOUTH CENTRAL HIGH,WINTERVILLE,NC,PITT COUNTY SCHOOLS,$946400.00,Transformation,\"570 WEST FORLINES RDWINTERVILLE, NC 28590(35.5394, -77.4282)\"',\n",
       " 'WEST MECKLENBURG HIGH,CHARLOTTE,NC,CHARLOTTE-MECKLENBURG SCHOOLS,$879391.00,Transformation,\"7400 TUCKASEEGEE RDCHARLOTTE, NC 28214(35.2473, -80.9529)\"',\n",
       " 'OAK HILL ELEMENTARY,HIGH POINT,NC,GUILFORD COUNTY SCHOOLS,$954735.00,Turnaround,\"320 WRIGHTENBERRY STHIGH POINT, NC 27260(35.9357, -80.0259)\"',\n",
       " 'BUNCOMBE COMMUNITY-EAST,SWANNANOA,NC,BUNCOMBE COUNTY SCHOOLS,$11651.00,Turnaround,\"235 OLD US 70SWANNANOA, NC 28778(35.6024, -82.4037)\"',\n",
       " 'FAIRMONT HIGH,FAIRMONT,NC,ROBESON COUNTY SCHOOLS,$903372.00,Transformation,\"5419 OLD STAGE RDFAIRMONT, NC 28340(34.4801, -79.0962)\"',\n",
       " 'NORTH PITT HIGH,BETHEL,NC,PITT COUNTY SCHOOLS,$728000.00,Transformation,\"5659 NC 11 NORTHBETHEL, NC 27812(35.692, -77.3663)\"',\n",
       " 'CATAWBA VALLEY HIGH,HICKORY,NC,HICKORY CITY SCHOOLS,$109594.00,Turnaround,\"409 8TH AVE NEHICKORY, NC 28601(35.7427, -81.3299)\"',\n",
       " 'WARLICK SCHOOL,GASTONIA,NC,GASTON COUNTY SCHOOLS,$766415.00,Turnaround,\"1316 SPENCER MOUNTAIN RDGASTONIA, NC 28054(35.2815, -81.1333)\"',\n",
       " 'DURHAM\\'S PERFORMANCE LEARNING,DURHAM,NC,DURHAM PUBLIC SCHOOLS,$883395.00,Transformation,\"1058 WEST CLUB BLVDDURHAM, NC 27701(36.0179, -78.9117)\"',\n",
       " 'GOLDSBORO HIGH,GOLDSBORO,NC,WAYNE COUNTY PUBLIC SCHOOLS,$962048.00,Transformation,\"901 EAST BEECH STGOLDSBORO, NC 27530(35.386, -77.9812)\"',\n",
       " 'BRUNSWICK LEARNING CENTER,SOUTHPORT,NC,BRUNSWICK COUNTY SCHOOLS,$665360.00,Transformation,\"705 NORTH LORD STSOUTHPORT, NC 28461(33.9253, -78.0227)\"',\n",
       " 'W L GREENE ALTERNATIVE,NASHVILLE,NC,NASH-ROCKY MOUNT SCHOOLS,$421116.00,Transformation,\"323 EAST 6TH STNASHVILLE, NC 27856(35.9655, -77.9657)\"',\n",
       " 'FARMVILLE CENTRAL HIGH,FARMVILLE,NC,PITT COUNTY SCHOOLS,$618800.00,Transformation,\"900 EAST WILSON ST EXTFARMVILLE, NC 27828(35.5922, -77.5741)\"',\n",
       " 'SOUTHEAST HALIFAX HIGH,HALIFAX,NC,HALIFAX COUNTY SCHOOLS,$11709.00,Transformation,\"16683 HWY 125HALIFAX, NC 27839(36.2189, -77.5524)\"',\n",
       " 'PETREE ELEMENTARY,WINSTON-SALEM,NC,FORSYTH COUNTY SCHOOLS,$100491.00,Turnaround,\"3815 OLD GREENSBORO RDWINSTON-SALEM, NC 27101(36.1132, -80.191)\"',\n",
       " 'DAVIDSON COUNTY EXT DAY,LEXINGTON,NC,DAVIDSON COUNTY SCHOOLS,,Transformation,\"2065 EAST HOLLY GROVE RDLEXINGTON, NC 27292(35.8165, -80.1892)\"',\n",
       " 'HENDERSON INDEPENDENT HIGH,SALISBURY,NC,ROWAN-SALISBURY SCHOOLS,$816000.00,Turnaround,\"1215 NORTH MAIN STSALISBURY, NC 28144(35.677, -80.4574)\"',\n",
       " 'ANSON CHALLENGE ACADEMY,WADESBORO,NC,ANSON COUNTY SCHOOLS,$730689.00,Restart,\"HWY 742 SOUTHWADESBORO, NC 28170(34.9656, -80.0673)\"',\n",
       " 'E E WADDELL HIGH,CHARLOTTE,NC,CHARLOTTE-MECKLENBURG SCHOOLS,$693605.00,Transformation,\"7030 NATIONS FORD RDCHARLOTTE, NC 28217(35.1553, -80.9002)\"',\n",
       " 'WALKER-SPIVEY,FAYETTEVILLE,NC,CUMBERLAND COUNTY SCHOOLS,$630752.00,Transformation,\"500 FISHER STFAYETTEVILLE, NC 28301(35.0389, -78.8726)\"',\n",
       " 'ENFIELD MIDDLE,ENFIELD,NC,HALIFAX COUNTY SCHOOLS,$870080.00,Transformation,\"700 BRANCH STENFIELD, NC 27823(36.1843, -77.6755)\"',\n",
       " 'MANDAREE HIGH SCHOOL,MANDAREE,ND,MANDAREE 36,$418574.00,Transformation,\"1 WARRIOR CIRCLECLEMANDAREE, ND 58757(47.876, -102.696)\"',\n",
       " 'SANTEE ELEMENTARY SCHOOL,NIOBRARA,NE,SANTEE COMMUNITY SCHOOLS,$510953.00,Transformation,\"206 FRAZIER AVE EASTNIOBRARA, NE 68760(42.8394, -97.8506)\"',\n",
       " 'CRAWFORD ELEMENTARY SCHOOL,CRAWFORD,NE,CRAWFORD PUBLIC SCHOOLS,$429450.00,Transformation,\"908 5TH STCRAWFORD, NE 69339(42.6809, -103.408)\"',\n",
       " 'MINATARE ELEMENTARY SCHOOL,MINATARE,NE,MINATARE PUBLIC SCHOOLS,$474603.00,Transformation,\"805 7TH STMINATARE, NE 69356(41.8124, -103.499)\"',\n",
       " 'WINNEBAGO HIGH SCHOOL,WINNEBAGO,NE,WINNEBAGO PUBLIC SCHOOLS,$724045.00,Transformation,\"HWY 77AND75WINNEBAGO, NE 68071(42.2369, -96.4714)\"',\n",
       " 'MADISON ELEMENTARY SCHOOL,MADISON,NE,MADISON PUBLIC SCHOOLS,$465550.00,Transformation,\"MMADISON, NE 68748(40.5245, -97.4923)\"',\n",
       " 'SANTEE HIGH SCHOOL,NIOBRARA,NE,SANTEE COMMUNITY SCHOOLS,$542500.00,Transformation,\"206 FRAZIER AVE EASTNIOBRARA, NE 68760(42.8394, -97.8506)\"',\n",
       " 'ELLIOTT ELEMENTARY SCHOOL,LINCOLN,NE,LINCOLN PUBLIC SCHOOLS,$930978.00,Transformation,\"225 SOUTH 25TH STLINCOLN, NE 68510(40.8119, -96.6863)\"',\n",
       " 'PITTSFIELD HIGH SCHOOL,PITTSFIELD,NH,PITTSFIELD SCHOOL DISTRICT,$344358.00,Transformation,\"23 ONEIDA STPITTSFIELD, NH 3263(43.3029, -71.3181)\"',\n",
       " 'NUTE HIGH SCHOOL,MILTON,NH,MILTON SCHOOL DISTRICT,$421278.00,Transformation,\"22 ELM STMILTON, NH 3851(43.4084, -70.9878)\"',\n",
       " 'SOUTHSIDE MIDDLE SCHOOL,MANCHESTER,NH,MANCHESTER SCHOOL DISTRICT,$346179.00,Transformation,\"140 SOUTH JEWETT STMANCHESTER, NH 3103(42.9709, -71.438)\"',\n",
       " 'NUTE JUNIOR HIGH SCHOOL,MILTON,NH,MILTON SCHOOL DISTRICT,$337678.00,Transformation,\"22 ELM STMILTON, NH 3851(43.4084, -70.9878)\"',\n",
       " 'PARKER-VARNEY SCHOOL,MANCHESTER,NH,MANCHESTER SCHOOL DISTRICT,$444472.00,Transformation,\"223 JAMES POLLACK DRMANCHESTER, NH 3102(42.9746, -71.4856)\"',\n",
       " 'PITTSFIELD MIDDLE SCHOOL,PITTSFIELD,NH,PITTSFIELD SCHOOL DISTRICT,$344358.00,Transformation,\"23 ONEIDA STPITTSFIELD, NH 3263(43.3029, -71.3181)\"',\n",
       " 'GOSSLER PARK SCHOOL,MANCHESTER,NH,MANCHESTER SCHOOL DISTRICT,$423281.00,Transformation,\"99 SULLIVAN STMANCHESTER, NH 3102(42.9891, -71.4808)\"',\n",
       " 'ESSEX CTY VOC-WEST CALDW,WEST CALDWELL,NJ,ESSEX COUNTY VOCATIONAL S,$526481.00,Transformation,\"620 PASSAIC AVEWEST CALDWELL, NJ 7006(40.8529, -74.2937)\"',\n",
       " 'DAYTON ST,NEWARK,NJ,NEWARK,$166069.00,Transformation,\"226 DAYTON STNEWARK, NJ 7114(40.6953, -74.2029)\"',\n",
       " 'RENAISSANCE ACADEMY,NEWARK,NJ,NEWARK,$17529.00,Restart,\"200 WASHINGTON STNEWARK, NJ 7102(40.738, -74.174)\"',\n",
       " 'U S WIGGINS,CAMDEN,NJ,CAMDEN CITY,$108077.00,Transformation,\"5TH AND MT VERNON STSCAMDEN, NJ 8103(39.9327, -75.1211)\"',\n",
       " 'MALCOLM X SHABAZZ HIGH,NEWARK,NJ,NEWARK,$179302.00,Turnaround,\"80 JOHNSON AVENEWARK, NJ 7108(40.7193, -74.1914)\"',\n",
       " 'FRED W  MARTIN #41,JERSEY CITY,NJ,JERSEY CITY,$199968.00,Turnaround,\"59 WILKINSON AVEJERSEY CITY, NJ 7305(40.705, -74.078)\"',\n",
       " 'CRAMER,CAMDEN,NJ,CAMDEN CITY,$111495.00,Transformation,\"29TH AND MICKLE STSCAMDEN, NJ 8105(39.9453, -75.0819)\"',\n",
       " 'TRENTON CENTRAL HIGH,TRENTON,NJ,TRENTON,$159639.00,Transformation,\"400 CHAMBERS STTRENTON, NJ 8609(40.2204, -74.7413)\"',\n",
       " 'NEWARK VOCATIONAL H S,NEWARK,NJ,NEWARK,$136924.00,Transformation,\"301 WEST KINNEY STNEWARK, NJ 7103(40.7326, -74.1911)\"',\n",
       " 'HENRY SNYDER,JERSEY CITY,NJ,JERSEY CITY,$199315.00,Turnaround,\"239 BERGEN AVEJERSEY CITY, NJ 7305(40.7102, -74.0838)\"',\n",
       " 'ABRAHAM CLARK HIGH,ROSELLE,NJ,ROSELLE BOROUGH,$160469.00,Transformation,\"122 EAST 6TH AVEROSELLE, NJ 7203(40.6539, -74.262)\"',\n",
       " 'CENTRAL,NEWARK,NJ,NEWARK,$193035.00,Transformation,\"100 SUMMIT STNEWARK, NJ 7102(40.7417, -74.1782)\"',\n",
       " 'R. SARRACINO MIDDLE,SOCORRO,NM,SOCORRO CONSOLIDATED SCHOOLS,$975000.00,Transformation,\"1425 EL CAMINO REALSOCORRO, NM 87801(34.0832, -106.899)\"',\n",
       " 'LAGUNA-ACOMA HIGH,NEW LAGUNA,NM,GRANTS-CIBOLA COUNTY SCHOOLS,$15.00,Transformation,\"HWY 66NEW LAGUNA, NM 87038(35.0463, -107.413)\"',\n",
       " 'EL CAMINO REAL ACADEMY,ALBUQUERQUE,NM,ALBUQUERQUE PUBLIC SCHOOLS,$11.00,Transformation,\"3713 ISLETA BLVD SWALBUQUERQUE, NM 87105(35.0225, -106.683)\"',\n",
       " 'T\\'SIYA ELEMENTARY AND MIDDLE SCHOOL,ZIA PUEBLO,NM,T\\'SIYA ELEMENTARY AND MIDDLE SCHOOL,,Transformation,\"1000 BORREGO CANYON ROADZIA PUEBLO, NM 87053(35.507, -106.72)\"',\n",
       " 'CROWNPOINT HIGH,CROWNPOINT,NM,GALLUP-MCKINLEY CTY SCHOOLS,$2.00,Transformation,\"1 CHACO DRCROWNPOINT, NM 87313(35.6963, -108.152)\"',\n",
       " 'ERNIE PYLE MIDDLE,ALBUQUERQUE,NM,ALBUQUERQUE PUBLIC SCHOOLS,$2.00,Transformation,\"1820 VALDORA DR SWALBUQUERQUE, NM 87105(35.05, -106.681)\"',\n",
       " 'ALAMO NAVAJO SCHOOL,MAGDALENA,NM,ALAMO NAVAJO SCHOOL,,Transformation,\"PO BOX 907MAGDALENA, NM 87825(34.1167, -107.244)\"',\n",
       " 'RAMIREZ THOMAS ELEM,SANTA FE,NM,SANTA FE PUBLIC SCHOOLS,$125.00,Turnaround,\"610 ALTA VISTASANTA FE, NM 87505(35.6705, -105.953)\"',\n",
       " 'NEWCOMB HIGH,NEWCOMB,NM,CENTRAL CONSOLIDATED SCHOOLS,$15.00,Transformation,\"US HWY 491 SOUTHNEWCOMB, NM 87455(36.2872, -108.706)\"',\n",
       " 'DIBE YAZHI HABLTI\\'N O\\'LT\\'A INC,CROWNPOINT,NM,DIBE YAZHI HABLTI\\'N O\\'LT\\'A INC,,Transformation,\"PO BOX 679CROWNPOINT, NM 87313(35.6781, -108.151)\"',\n",
       " 'LYBROOK ELEMENTARY,CUBA,NM,JEMEZ MOUNTAIN PUBLIC SCHOOLS,$500000.00,Transformation,\"HCR 17 BOX 350CUBA, NM 87013(35.9969, -107.297)\"',\n",
       " 'NASCHITTI ELEMENTARY,SHEEP SPRINGS,NM,CENTRAL CONSOLIDATED SCHOOLS,$500000.00,Transformation,\"MSHEEP SPRINGS, NM 87364(36.1429, -108.707)\"',\n",
       " 'OJO ENCINO DAY SCHOOL,CUBA,NM,OJO ENCINO DAY SCHOOL,,Transformation,\"HCR 79 BOX 7CUBA, NM 87013(36.0222, -106.958)\"',\n",
       " 'ECHO LODER ELEMENTARY SCHOOL,RENO,NV,WASHOE COUNTY SCHOOL DISTRICT,$424326.00,Transformation,\"600 APPLACEE STRENO, NV 89502(39.503, -119.792)\"',\n",
       " 'RANCHO HIGH SCHOOL,NORTH LAS VEGAS,NV,CLARK COUNTY SCHOOL DISTRICT,$100202.00,Transformation,\"1900 SEARLES AVENORTH LAS VEGAS, NV 89101(36.1848, -115.123)\"',\n",
       " 'WILLIAM O\\'BRIEN MIDDLE SCHOOL,RENO,NV,WASHOE COUNTY SCHOOL DISTRICT,$494913.00,Transformation,\"10500 STEAD BLVDRENO, NV 89506(39.6216, -119.882)\"',\n",
       " 'KIT CARSON ELEMENTARY SCHOOL,LAS VEGAS,NV,CLARK COUNTY SCHOOL DISTRICT,$763905.00,Turnaround,\"1735 NORTH D STLAS VEGAS, NV 89106(36.193, -115.146)\"',\n",
       " 'GLENN DUNCAN ELEMENTARY SCHOOL,RENO,NV,WASHOE COUNTY SCHOOL DISTRICT,$505777.00,Turnaround,\"1200 MONTELLO STRENO, NV 89512(39.541, -119.795)\"',\n",
       " 'ARCHIE CLAYTON MIDDLE SCHOOL,RENO,NV,WASHOE COUNTY SCHOOL DISTRICT,$477071.00,Transformation,\"1295 WYOMING AVERENO, NV 89503(39.537, -119.846)\"',\n",
       " 'VETERANS MEMORIAL ELEMENTARY SCHOOL,RENO,NV,WASHOE COUNTY SCHOOL DISTRICT,$427337.00,Transformation,\"1200 LOCUST STRENO, NV 89502(39.5134, -119.799)\"',\n",
       " 'GEORGE L DILWORTH MIDDLE SCHOOL,SPARKS,NV,WASHOE COUNTY SCHOOL DISTRICT,$576840.00,Transformation,\"255 PRATER WAYSPARKS, NV 89431(39.5415, -119.746)\"',\n",
       " 'EAGLE VALLEY MIDDLE SCHOOL,CARSON CITY,NV,CARSON CITY SCHOOL DISTRICT,$654043.00,Transformation,\"4151 EAST 5TH STCARSON CITY, NV 89703(39.1608, -119.726)\"',\n",
       " 'SMITHRIDGE ELEMENTARY SCHOOL,RENO,NV,WASHOE COUNTY SCHOOL DISTRICT,$567154.00,Turnaround,\"4801 NEIL RDRENO, NV 89502(39.4798, -119.783)\"',\n",
       " 'SOUTH PARK HIGH SCHOOL,BUFFALO,NY,BUFFALO CITY SCHOOL DISTRICT,$2.00,Transformation,\"333 CLINTON STBUFFALO, NY 14204(42.8832, -78.8616)\"',\n",
       " 'WILLIAM E GRADY VOCATIONAL HIGH SCHOOL,BROOKLYN,NY,NEW YORK CITY GEOGRAPHIC DISTRICT #21,$136581.00,Transformation,\"25 BRIGHTON FOURTH RDBROOKLYN, NY 11235(40.5825, -73.9639)\"',\n",
       " 'LONG ISLAND CITY HIGH SCHOOL,LONG ISLAND CITY,NY,NEW YORK CITY GEOGRAPHIC DISTRICT #30,$18.00,Transformation,\"14-30 BRDWAYLONG ISLAND CITY, NY 11106(40.7662, -73.9335)\"',\n",
       " 'ROOSEVELT HIGH SCHOOL,YONKERS,NY,YONKERS CITY SCHOOL DISTRICT,$2.00,Transformation,\"631 TUCKAHOE RDYONKERS, NY 10710(40.9538, -73.845)\"',\n",
       " 'Robert Brown High School of Construction and Design,Rochester,NY,Rochester City School District,$178685.00,Turnaround,\"655 Colfax StRochester, NY 14606(43.1779, -77.6724)\"',\n",
       " 'BREAD & ROSES INTEGRATED ARTS HIGH SCHOOL,NEW YORK,NY,NEW YORK CITY GEOGRAPHIC DISTRICT # 5,$850510.00,Transformation,\"6 EDGECOMBE AVENEW YORK, NY 10030(40.8172, -73.9478)\"',\n",
       " 'DELAWARE ELEMENTARY SCHOOL,SYRACUSE,NY,SYRACUSE CITY SCHOOL DISTRICT,$2.00,Transformation,\"900 SOUTH GEDDES STSYRACUSE, NY 13204(43.0391, -76.1728)\"',\n",
       " 'INTERNATIONAL SCHOOL,BUFFALO,NY,BUFFALO CITY SCHOOL DISTRICT,$2.00,Transformation,\"425 SOUTH PARK AVEBUFFALO, NY 14213(42.8711, -78.8641)\"',\n",
       " 'FRANKLIN D ROOSEVELT HIGH SCHOOL,BROOKLYN,NY,NEW YORK CITY GEOGRAPHIC DISTRICT #20,$18.00,Transformation,\"5800 20TH AVEBROOKLYN, NY 11204(40.6205, -73.9817)\"',\n",
       " 'QUEENS VOCATIONAL AND TECHNICAL HIGH SCHOOL,LONG ISLAND CITY,NY,NEW YORK CITY GEOGRAPHIC DISTRICT #24,$130051.00,Transformation,\"37-02 47TH AVELONG ISLAND CITY, NY 11101(40.7422, -73.9283)\"',\n",
       " 'EMERSON MIDDLE SCHOOL,YONKERS,NY,YONKERS CITY SCHOOL DISTRICT,$2.00,Turnaround,\"160 BOLMER AVEYONKERS, NY 10703(40.9625, -73.8776)\"',\n",
       " 'Vanguard Collegiate High School,Rochester,NY,Rochester City School District,$122114.00,Turnaround,\"950 Norton StRochester, NY 14621(43.1886, -77.5981)\"',\n",
       " 'CHELSEA CAREER AND TECHNICAL EDUCATION HIGH SCHOOL,NEW YORK,NY,NEW YORK CITY GEOGRAPHIC DISTRICT # 2,$959246.00,Transformation,\"131 AVE-AMERICASNEW YORK, NY 10013(40.7213, -74.0087)\"',\n",
       " 'GLOBAL MEDIA ARTS HS AT FRANKLIN,ROCHESTER,NY,ROCHESTER CITY SCHOOL DISTRICT,$137761.00,Turnaround,\"950 NORTON STROCHESTER, NY 14621(43.1886, -77.5981)\"',\n",
       " '\"DR MARTIN LUTHER KING, JR MULTICULTURAL INSTITUTE\",BUFFALO,NY,BUFFALO CITY SCHOOL DISTRICT,$188422.00,Transformation,\"487 HIGH STBUFFALO, NY 14208(42.9001, -78.8504)\"',\n",
       " 'FLUSHING HIGH SCHOOL,FLUSHING,NY,NEW YORK CITY GEOGRAPHIC DISTRICT #25,$18.00,Transformation,\"35-01 UNION STFLUSHING, NY 11354(40.7653, -73.8278)\"',\n",
       " 'COBBLE HILL SCHOOL OF AMERICAN STUDIES,BROOKLYN,NY,NEW YORK CITY GEOGRAPHIC DISTRICT #15,$994888.00,Transformation,\"347 BALTIC STBROOKLYN, NY 11201(40.6846, -73.9911)\"',\n",
       " 'HUGHES ELEMENTARY SCHOOL,SYRACUSE,NY,SYRACUSE CITY SCHOOL DISTRICT,$2.00,Transformation,\"345 JAMESVILLE AVESYRACUSE, NY 13210(43.0224, -76.1338)\"',\n",
       " 'UNITY CENTER FOR URBAN TECHNOLOGIES,NEW YORK,NY,NEW YORK CITY GEOGRAPHIC DISTRICT # 2,$757113.00,Transformation,\"121 6TH AVENEW YORK, NY 10013(40.7241, -74.0053)\"',\n",
       " 'EAST HIGH SCHOOL,ROCHESTER,NY,ROCHESTER CITY SCHOOL DISTRICT,$19525.00,Transformation,\"1801 EAST MAIN STROCHESTER, NY 14609(43.1581, -77.5649)\"',\n",
       " 'BENNETT HIGH SCHOOL,BUFFALO,NY,BUFFALO CITY SCHOOL DISTRICT,$2.00,Transformation,\"2885 MAIN STBUFFALO, NY 14214(42.9448, -78.833)\"',\n",
       " 'AUTOMOTIVE HIGH SCHOOL,BROOKLYN,NY,NEW YORK CITY GEOGRAPHIC DISTRICT #14,$117372.00,Transformation,\"50 BEDFORD AVEBROOKLYN, NY 11222(40.7222, -73.9531)\"',\n",
       " 'Rochester STEM High School,Rochester,NY,Rochester City School District,$185579.00,Turnaround,\"655 Colfax StRochester, NY 14606(43.1779, -77.6724)\"',\n",
       " 'SCHOOL FOR GLOBAL STUDIES,BROOKLYN,NY,NEW YORK CITY GEOGRAPHIC DISTRICT #15,$890934.00,Transformation,\"284 BALTIC STBROOKLYN, NY 11201(40.6855, -73.9935)\"',\n",
       " 'GEORGE FOWLER HIGH SCHOOL,SYRACUSE,NY,SYRACUSE CITY SCHOOL DISTRICT,$2.00,Transformation,\"227 MAGNOLIA STSYRACUSE, NY 13204(43.044, -76.1743)\"',\n",
       " 'WOODLAND HILLS SCHOOL,CLEVELAND,OH,CLEVELAND MUNICIPAL,$723790.00,Turnaround,\"9201 CRANE AVECLEVELAND, OH 44105(41.4625, -81.6222)\"',\n",
       " 'CRITTENTON COMMUNITY SCHOOL,COLUMBUS,OH,CRITTENTON COMMUNITY SCHOOL,$246750.00,Transformation,\"1418 EAST BRD STCOLUMBUS, OH 43205(39.9666, -82.963)\"',\n",
       " 'EAST HIGH SCHOOL,YOUNGSTOWN,OH,YOUNGSTOWN CITY SCHOOLS,$805793.00,Transformation,\"474 BENNINGTON AVEYOUNGSTOWN, OH 44505(41.1041, -80.6196)\"',\n",
       " 'FRANKLIN D. ROOSEVELT,CLEVELAND,OH,CLEVELAND MUNICIPAL,$725800.00,Turnaround,\"800 LINN DRCLEVELAND, OH 44108(41.5357, -81.6099)\"',\n",
       " 'DUNBAR HIGH SCHOOL,DAYTON,OH,DAYTON CITY,$350537.00,Transformation,\"1400 ALBRITTON DRDAYTON, OH 45408(39.734, -84.2339)\"',\n",
       " 'GLENVILLE HIGH SCHOOL,CLEVELAND,OH,CLEVELAND MUNICIPAL,$691110.00,Turnaround,\"650 EAST 113TH STCLEVELAND, OH 44108(41.5401, -81.606)\"',\n",
       " 'WEST HIGH SCHOOL,COLUMBUS,OH,COLUMBUS CITY,$948140.00,Transformation,\"179 SOUTH POWELL AVECOLUMBUS, OH 43204(39.9519, -83.0758)\"',\n",
       " 'WOODWARD CAREER TECHNICAL HIGH SCHOOL,CINCINNATI,OH,CINCINNATI CITY,$2.00,Transformation,\"7005 READING RDCINCINNATI, OH 45237(39.1855, -84.465)\"',\n",
       " 'CHAMPION MIDDLE SCHOOL,COLUMBUS,OH,COLUMBUS CITY,$104115.00,Transformation,\"284 NORTH 22ND STCOLUMBUS, OH 43203(39.9718, -82.9708)\"',\n",
       " 'ROTHENBERG PREPARATORY ACADEMY,CINCINNATI,OH,CINCINNATI CITY,$949658.00,Transformation,\"2120 VINE STCINCINNATI, OH 45202(39.1198, -84.5173)\"',\n",
       " 'KEIFER ALTERNATIVE CENTER,SPRINGFIELD,OH,SPRINGFIELD CITY,$1657.00,Transformation,\"601 SELMA RDSPRINGFIELD, OH 45505(39.9139, -83.8001)\"',\n",
       " 'LINCOLN-WEST HIGH SCHOOL,CLEVELAND,OH,CLEVELAND MUNICIPAL,$109111.00,Turnaround,\"3202 WEST 30TH STCLEVELAND, OH 44109(41.4668, -81.7018)\"',\n",
       " 'BELMONT HIGH SCHOOL,DAYTON,OH,DAYTON CITY,$350537.00,Transformation,\"2323 MAPLACEEVIEW AVEDAYTON, OH 45420(39.7336, -84.1515)\"',\n",
       " 'EAST TECHNICAL HIGH SCHOOL,CLEVELAND,OH,CLEVELAND MUNICIPAL,$109111.00,Turnaround,\"2439 EAST 55TH STCLEVELAND, OH 44104(41.4917, -81.6516)\"',\n",
       " 'WEINLAND PARK ELEMENTARY SCHOOL,COLUMBUS,OH,COLUMBUS CITY,$825100.00,Transformation,\"211 EAST 7TH AVECOLUMBUS, OH 43201(39.9897, -83.0005)\"',\n",
       " 'VIRTUAL HIGH SCHOOL,CINCINNATI,OH,CINCINNATI CITY,$797726.00,Transformation,\"2651 BURNET AVECINCINNATI, OH 45219(39.1302, -84.5018)\"',\n",
       " 'BELLEFAIRE,UNIVERSITY HTS,OH,CLEVELAND HEIGHTS-UNIVERSITY HEIGHTS CITY,$712097.00,Transformation,\"22001 FAIRMOUNT BLVDUNIVERSITY HTS, OH 44118(41.4865, -81.5257)\"',\n",
       " 'GEORGE HAYS - JENNIE PORTER,CINCINNATI,OH,CINCINNATI CITY,$108635.00,Transformation,\"1030 CUTTER STCINCINNATI, OH 45203(39.1066, -84.525)\"',\n",
       " 'PATRICK HENRY SCHOOL,CLEVELAND,OH,CLEVELAND MUNICIPAL,$451750.00,Transformation,\"1000 LAKEVIEW RDCLEVELAND, OH 44108(41.5304, -81.6073)\"',\n",
       " 'PROGRESSIVE ACADEMY,LIMA,OH,LIMA CITY,$175685.00,Transformation,\"1 SPARTAN WAYLIMA, OH 45801(40.7413, -84.0977)\"',\n",
       " 'LUIS MUNOZ MARIN SCHOOL,CLEVELAND,OH,CLEVELAND MUNICIPAL,$451750.00,Transformation,\"1701 CASTLE AVECLEVELAND, OH 44113(41.4715, -81.695)\"',\n",
       " 'ALUM CREST HIGH SCHOOL,COLUMBUS,OH,COLUMBUS CITY,$774900.00,Transformation,\"2200 WINSLOW DRCOLUMBUS, OH 43207(39.9262, -82.9374)\"',\n",
       " 'COLLINWOOD HIGH SCHOOL,CLEVELAND,OH,CLEVELAND MUNICIPAL,$109111.00,Turnaround,\"15210 SAINT CLAIR AVECLEVELAND, OH 44110(41.5535, -81.5751)\"',\n",
       " 'SOUTHMOOR MIDDLE SCHOOL,COLUMBUS,OH,COLUMBUS CITY,$1264.00,Transformation,\"1201 MOLER RDCOLUMBUS, OH 43207(39.932, -82.9627)\"',\n",
       " 'WILLIAM H TAFT ELEMENTARY SCHOOL,CINCINNATI,OH,CINCINNATI CITY,$100268.00,Transformation,\"270 SOUTHERN AVECINCINNATI, OH 45219(39.1204, -84.5057)\"',\n",
       " 'MARTIN LUTHER KING JR CAREER CAMPUS,CLEVELAND,OH,CLEVELAND MUNICIPAL,$584250.00,Transformation,\"1651 EAST 71ST STCLEVELAND, OH 44103(41.5098, -81.6388)\"',\n",
       " 'SCHOLARTS PREPARATORY AND CAREER CENTER FOR CHILDR,COLUMBUS,OH,SCHOLARTS PREPARATORY AND CAREER CENTER FOR CHILDREN,$500000.00,Transformation,\"867 MT VERNON AVECOLUMBUS, OH 43203(39.9709, -82.9792)\"',\n",
       " 'ODYSSEY: SCHOOL OF POSSIBILITIES,YOUNGSTOWN,OH,YOUNGSTOWN CITY SCHOOLS,$913139.00,Transformation,\"1387 COMMONWEALTH AVEYOUNGSTOWN, OH 44505(41.1186, -80.6262)\"',\n",
       " 'MARY B MARTIN SCHOOL,CLEVELAND,OH,CLEVELAND MUNICIPAL,$723790.00,Turnaround,\"8200 BROOKLINE AVECLEVELAND, OH 44103(41.5085, -81.63)\"',\n",
       " 'MEADOWDALE HIGH SCHOOL,DAYTON,OH,DAYTON CITY,$350537.00,Transformation,\"4417 WILLIAMSON DRDAYTON, OH 45416(39.8113, -84.2503)\"',\n",
       " 'JOHN F KENNEDY HIGH SCHOOL,CLEVELAND,OH,CLEVELAND MUNICIPAL,$109111.00,Turnaround,\"17100 HARVARD AVECLEVELAND, OH 44128(41.4498, -81.5605)\"',\n",
       " 'WELCOME CENTER HIGH,COLUMBUS,OH,COLUMBUS CITY,$1036.00,Transformation,\"2001 HAMILTON AVECOLUMBUS, OH 43211(40.0067, -82.9795)\"',\n",
       " 'CARL & LOUIS STOKES CENTRAL ACADEMY,CLEVELAND,OH,CLEVELAND MUNICIPAL,$451750.00,Transformation,\"2225 EAST 40TH STCLEVELAND, OH 44103(41.4961, -81.6564)\"',\n",
       " 'LINDEN-MCKINLEY HIGH SCHOOL,COLUMBUS,OH,COLUMBUS CITY,$14775.00,Transformation,\"1320 DUXBERRY AVECOLUMBUS, OH 43211(40.0095, -82.9739)\"',\n",
       " 'SOUTH AVONDALE ELEMENTARY SCHOOL,CINCINNATI,OH,CINCINNATI CITY,$994001.00,Transformation,\"636 PROSPECT PLACECINCINNATI, OH 45229(39.1432, -84.493)\"',\n",
       " 'GILCREASE MS,TULSA,OK,TULSA,$158356.00,Transformation,\"5550 NORTH CINCINNATI AVETULSA, OK 74126(36.234, -95.9936)\"',\n",
       " 'CLINTON MS,TULSA,OK,TULSA,$113967.00,Transformation,\"2224 WEST 41ST STTULSA, OK 74107(36.1032, -96.0181)\"',\n",
       " 'F.D. MOON ACADEMY,OKLAHOMA CITY,OK,OKLAHOMA CITY,$152716.00,Transformation,\"1900 N.E. 13OKLAHOMA CITY, OK 73117(35.4736, -97.4619)\"',\n",
       " 'WILL ROGERS HS,TULSA,OK,TULSA,$117124.00,Transformation,\"3909 EAST 5TH PLACEACETULSA, OK 74112(36.1528, -95.9337)\"',\n",
       " 'CENTRAL HS,TULSA,OK,TULSA,$858523.00,Transformation,\"3101 WEST EDISONTULSA, OK 74127(36.1612, -96.0271)\"',\n",
       " 'CRUTCHO PUBLIC SCHOOL,OKLAHOMA CITY,OK,CRUTCHO,$973201.00,Transformation,\"2401 NORTH AIR DEPOT BLVDOKLAHOMA CITY, OK 73141(35.4932, -97.4064)\"',\n",
       " 'NATHAN HALE HS,TULSA,OK,TULSA,$103708.00,Transformation,\"6960 EAST 21 STTULSA, OK 74129(36.1334, -95.8985)\"',\n",
       " 'DOUGLASS MS,OKLAHOMA CITY,OK,OKLAHOMA CITY,$11395.00,Transformation,\"900 NORTH MARTIN LUTHER KING AOKLAHOMA CITY, OK 73117(35.4759, -97.4766)\"',\n",
       " 'EAST CENTRAL HS,TULSA,OK,TULSA,$107752.00,Transformation,\"12150 EAST 11TH STTULSA, OK 74128(36.1461, -95.8399)\"',\n",
       " 'U. S. GRANT HS,OKC,OK,OKLAHOMA CITY,$173743.00,Turnaround,\"5016 SOUTH PENNSYLVANIA AVEOKC, OK 73119(35.4157, -97.5479)\"',\n",
       " 'SPANISH-ENGLISH INTERNATIONAL SCHOOL,PORTLAND,OR,PORTLAND SD 1J,$766667.00,Transformation,\"6941 NORTH CENTRAL STPORTLAND, OR 97203(45.5899, -122.739)\"',\n",
       " 'ONTARIO HIGH SCHOOL,ONTARIO,OR,ONTARIO SD 8C,$11704.00,Transformation,\"1115 WEST IDAHO AVEONTARIO, OR 97914(44.0285, -116.978)\"',\n",
       " 'HALLMAN ELEMENTARY SCHOOL,SALEM,OR,SALEM-KEIZER SD 24J,$950000.00,Transformation,\"4000 DEERHAVEN DR NESALEM, OR 97303(44.9769, -122.995)\"',\n",
       " 'EAGLERIDGE HIGH SCHOOL,KLAMATH FALLS,OR,KLAMATH FALLS CITY SCHOOLS,$617966.00,Transformation,\"422 NORTH 9TH STKLAMATH FALLS, OR 97601(42.2285, -121.783)\"',\n",
       " 'MCKAY HIGH SCHOOL,SALEM,OR,SALEM-KEIZER SD 24J,$19015.00,Transformation,\"2440 LANCASTER DR NESALEM, OR 97305(44.9582, -122.984)\"',\n",
       " '\"ARTS, COMMUNICATION & TECHNOLOGY SCHOOL\",PORTLAND,OR,PORTLAND SD 1J,$766667.00,Transformation,\"6941 NORTH CENTRAL STPORTLAND, OR 97203(45.5899, -122.739)\"',\n",
       " 'MADRAS HIGH SCHOOL,MADRAS,OR,JEFFERSON COUNTY SD 509J,$118595.00,Transformation,\"390 SE 10TH STMADRAS, OR 97741(44.6318, -121.124)\"',\n",
       " 'ROBERTS HIGH SCHOOL,SALEM,OR,SALEM-KEIZER SD 24J,$616667.00,Transformation,\"3620 STATE ST SESALEM, OR 97301(44.9279, -122.988)\"',\n",
       " 'PURSUIT OF WELLNESS EDUCATION AT ROOSEVELT CAMPUS,PORTLAND,OR,PORTLAND SD 1J,$119072.00,Transformation,\"6941 NORTH CENTRAL STPORTLAND, OR 97203(45.5899, -122.739)\"',\n",
       " 'OREGON CITY SERVICE LEARNING ACADEMY,OREGON CITY,OR,OREGON CITY SD 62,$441740.00,Transformation,\"1306 12TH STOREGON CITY, OR 97045(45.3572, -122.597)\"',\n",
       " 'MARSHALL HIGH SCHOOL,BEND,OR,BEND-LAPINE ADMINISTRATIVE SD 1,$747268.00,Transformation,\"1291 NE 5THBEND, OR 97701(44.0628, -121.299)\"',\n",
       " 'EARLY COLLEGE HIGH SCHOOL,SALEM,OR,SALEM-KEIZER SD 24J,$616667.00,Transformation,\"4071 WINEMA PLACE BLDG 50SALEM, OR 97305(44.9734, -122.981)\"',\n",
       " 'SAYRE WILLIAM L MS,PHILADELPHIA,PA,PHILADELPHIA CITY SD,$737032.00,Transformation,\"5800 WALNUT STPHILADELPHIA, PA 19139(39.9584, -75.2375)\"',\n",
       " 'CENTRAL DAUPHIN EAST SHS,HARRISBURG,PA,CENTRAL DAUPHIN SD,$699963.00,Transformation,\"626 RUTHERFORD RDHARRISBURG, PA 17109(40.2845, -76.7987)\"',\n",
       " 'KING MARTIN LUTHER HS,PHILADELPHIA,PA,PHILADELPHIA CITY SD,$786964.00,Transformation,\"6100 STENTON AVEPHILADELPHIA, PA 19138(40.0577, -75.1622)\"',\n",
       " 'DOUGLAS STEPHEN A SCH,PHILADELPHIA,PA,PHILADELPHIA CITY SD,$319320.00,Restart,\"2700 EAST HUNTINGDON STPHILADELPHIA, PA 19125(39.9767, -75.1168)\"',\n",
       " 'PARK LANE EL SCH,DARBY,PA,WILLIAM PENN SD,$283200.00,Transformation,\"1300 PARK LNDARBY, PA 19023(39.9256, -75.2625)\"',\n",
       " 'FRANCIS D RAUB MS,ALLENTOWN,PA,ALLENTOWN CITY SD,$500000.00,Transformation,\"102 SOUTH SAINT CLOUD STALLENTOWN, PA 18104(40.5947, -75.4926)\"',\n",
       " 'LOCKE ALAIN SCH,PHILADELPHIA,PA,PHILADELPHIA CITY SD,$390938.00,Transformation,\"4550 HAVERFORD AVEPHILADELPHIA, PA 19139(39.9625, -75.2136)\"',\n",
       " 'ALCORN JAMES SCH,PHILADELPHIA,PA,PHILADELPHIA CITY SD,$338726.00,Transformation,\"3200 DICKINSON STPHILADELPHIA, PA 19146(39.9354, -75.1973)\"',\n",
       " 'STEELTON-HIGHSPIRE HS,STEELTON,PA,STEELTON-HIGHSPIRE SD,$280500.00,Turnaround,\"SWATARA AND REYNDERSSTEELTON, PA 17113(40.2378, -76.831)\"',\n",
       " 'PERSEUS HOUSE CS OF EXCELLENCE,ERIE,PA,PERSEUS HOUSE CS OF EXCELLENCE,$686000.00,Transformation,\"1511 PEACH STERIE, PA 16501(42.1204, -80.0809)\"',\n",
       " 'GERMANTOWN HS,PHILADELPHIA,PA,PHILADELPHIA CITY SD,$798792.00,Transformation,\"40 EAST HIGH STPHILADELPHIA, PA 19144(40.0401, -75.1769)\"',\n",
       " 'MOUNT UNION AREA SHS,MOUNT UNION,PA,MOUNT UNION AREA SD,$848867.00,Transformation,\"706 NORTH SHAVER STMOUNT UNION, PA 17066(40.3901, -77.8768)\"',\n",
       " 'ROONEY ARTHUR J MS,PITTSBURGH,PA,PITTSBURGH SD,$208773.00,Closure,\"3530 FLEMING AVEPITTSBURGH, PA 15212(40.4794, -80.0389)\"',\n",
       " 'ROXBOROUGH HS,PHILADELPHIA,PA,PHILADELPHIA CITY SD,$641440.00,Transformation,\"6498 RIDGE AVEPHILADELPHIA, PA 19128(40.0381, -75.2228)\"',\n",
       " 'HAND MS,LANCASTER,PA,LANCASTER SD,$551611.00,Turnaround,\"431 SOUTH ANN STLANCASTER, PA 17602(40.0321, -76.292)\"',\n",
       " 'LANGLEY HS,PITTSBURGH,PA,PITTSBURGH SD,$312714.00,Transformation,\"2940 SHERADEN BLVDPITTSBURGH, PA 15204(40.454, -80.054)\"',\n",
       " 'TREXLER MS,ALLENTOWN,PA,ALLENTOWN CITY SD,$250000.00,Transformation,\"851 NORTH 15TH STALLENTOWN, PA 18102(40.6096, -75.4936)\"',\n",
       " 'UNIVERSITY CITY HS,PHILADELPHIA,PA,PHILADELPHIA CITY SD,$923999.00,Turnaround,\"3601 FILBEROUTE STPHILADELPHIA, PA 19104(39.957, -75.1941)\"',\n",
       " 'SMEDLEY FRANKLIN SCH,PHILADELPHIA,PA,PHILADELPHIA CITY SD,$362773.00,Restart,\"1790 BRIDGE STPHILADELPHIA, PA 19124(40.0198, -75.0735)\"',\n",
       " 'PENN WOOD HS - GREEN AVE CAMPUS,LANSDOWNE,PA,WILLIAM PENN SD,$626150.00,Transformation,\"100 GREEN AVELANSDOWNE, PA 19050(39.9452, -75.271)\"',\n",
       " 'HARRISON-MORTON MS,ALLENTOWN,PA,ALLENTOWN CITY SD,$350000.00,Transformation,\"137 NORTH 2ND STALLENTOWN, PA 18101(40.6077, -75.4608)\"',\n",
       " 'WEST PHILADELPHIA HS,PHILADELPHIA,PA,PHILADELPHIA CITY SD,$671142.00,Transformation,\"4700 WALNUT STPHILADELPHIA, PA 19139(39.9557, -75.2157)\"',\n",
       " 'HARRITY WILLIAM F SCH,PHILADELPHIA,PA,PHILADELPHIA CITY SD,$980283.00,Restart,\"5601 CHRISTIAN STPHILADELPHIA, PA 19143(39.9485, -75.2355)\"',\n",
       " 'ACADEMY PARK HS,SHARON HILL,PA,SOUTHEAST DELCO SD,$958375.00,Transformation,\"300 CALCON HOOK RDSHARON HILL, PA 19079(39.9091, -75.2671)\"',\n",
       " 'WEST PHILA. ACHIEVEMENT CES,PHILADELPHIA,PA,WEST PHILA. ACHIEVEMENT CES,$318875.00,Transformation,\"111 NORTH 49TH STPHILADELPHIA, PA 19139(39.9611, -75.2194)\"',\n",
       " 'FRANKFORD HS,PHILADELPHIA,PA,PHILADELPHIA CITY SD,$792001.00,Transformation,\"5000 OXFORD AVEPHILADELPHIA, PA 19124(40.0225, -75.0845)\"',\n",
       " 'MCKEESPORT AREA SHS,MC KEESPORT,PA,MCKEESPORT AREA SD,$112.00,Transformation,\"1960 EDEN PARK BLVDMC KEESPORT, PA 15132(40.3438, -79.8297)\"',\n",
       " 'OLIVER HS,PITTSBURGH,PA,PITTSBURGH SD,$542588.00,Transformation,\"2323 BRIGHTON RDPITTSBURGH, PA 15212(40.4649, -80.0241)\"',\n",
       " 'VAUX ROBERTS HS,PHILADELPHIA,PA,PHILADELPHIA CITY SD,$466665.00,Turnaround,\"2300 WEST MASTER STPHILADELPHIA, PA 19121(39.9763, -75.1735)\"',\n",
       " 'CAREER TECHNOLOGY ACADEMY,HARRISBURG,PA,HARRISBURG CITY SD,$300000.00,Closure,\"2915 NORTH THIRD STHARRISBURG, PA 17110(40.292, -76.9004)\"',\n",
       " 'CLEMENTE ROBERTO MS,PHILADELPHIA,PA,PHILADELPHIA CITY SD,$333327.00,Turnaround,\"122 WEST ERIE AVEPHILADELPHIA, PA 19140(40.0074, -75.1283)\"',\n",
       " 'FELS SAMUEL HS,PHILADELPHIA,PA,PHILADELPHIA CITY SD,$974132.00,Transformation,\"901 DEVEREAUX AVEPHILADELPHIA, PA 19111(40.0417, -75.0883)\"',\n",
       " 'LOUIS E DIERUFF HS,ALLENTOWN,PA,ALLENTOWN CITY SD,$500000.00,Transformation,\"815 NORTH IRVING STALLENTOWN, PA 18109(40.6215, -75.4429)\"',\n",
       " 'ALLEN DR ETHEL SCH,PHILADELPHIA,PA,PHILADELPHIA CITY SD,$247020.00,Turnaround,\"3200 WEST LEHIGH AVEPHILADELPHIA, PA 19132(39.9977, -75.1836)\"',\n",
       " 'FELTONVILLE INTERMEDIATE SCHOOL,PHILADELPHIA,PA,PHILADELPHIA CITY SD,$244855.00,Transformation,\"4901 RISING SUN AVEPHILADELPHIA, PA 19120(40.0246, -75.1231)\"',\n",
       " 'PENN WOOD MS,DARBY,PA,WILLIAM PENN SD,$287500.00,Transformation,\"121 SUMMIT STDARBY, PA 19023(39.9201, -75.2577)\"',\n",
       " 'CENTRAL EL SCH,ALLENTOWN,PA,ALLENTOWN CITY SD,$650000.00,Transformation,\"829 WEST TURNER STALLENTOWN, PA 18102(40.6042, -75.476)\"',\n",
       " 'SOUTH PHILADELPHIA HS,PHILADELPHIA,PA,PHILADELPHIA CITY SD,$579958.00,Transformation,\"2101 SOUTH BRD STPHILADELPHIA, PA 19148(39.9244, -75.1697)\"',\n",
       " 'OLNEY HS WEST,PHILADELPHIA,PA,PHILADELPHIA CITY SD,$272245.00,Transformation,\"100 WEST DUNCANNON AVEPHILADELPHIA, PA 19120(40.0292, -75.1228)\"',\n",
       " 'BRASHEAR HS,PITTSBURGH,PA,PITTSBURGH SD,$267754.00,Transformation,\"590 CRANE AVEPITTSBURGH, PA 15216(40.4171, -80.021)\"',\n",
       " 'EDISON HS/FAREIRA SKILLS,PHILADELPHIA,PA,PHILADELPHIA CITY SD,$1.00,Transformation,\"151 WEST LUZERNE STPHILADELPHIA, PA 19140(40.0111, -75.1286)\"',\n",
       " 'MCCASKEY CAMPUS,LANCASTER,PA,LANCASTER SD,$616432.00,Transformation,\"445 NORTH RESERVOIR STLANCASTER, PA 17602(40.0481, -76.2874)\"',\n",
       " 'WESTINGHOUSE HS,PITTSBURGH,PA,PITTSBURGH SD,$606437.00,Transformation,\"1101 NORTH MURTLAND AVEPITTSBURGH, PA 15208(40.4604, -79.9005)\"',\n",
       " 'STETSON JOHN B MS,PHILADELPHIA,PA,PHILADELPHIA CITY SD,$888708.00,Restart,\"3200 B STPHILADELPHIA, PA 19134(39.9981, -75.1254)\"',\n",
       " 'DUQUESNE CONSOLIDATED SCH,DUQUESNE,PA,DUQUESNE CITY SD,$523313.00,Transformation,\"300 KENNEDAY AVEDUQUESNE, PA 15110(40.3716, -79.8478)\"',\n",
       " 'DAROFF SAMUEL SCH,PHILADELPHIA,PA,PHILADELPHIA CITY SD,$658247.00,Restart,\"5630 VINE STPHILADELPHIA, PA 19139(39.9657, -75.2326)\"',\n",
       " 'BLUFORD GUION EL SCH,PHILADELPHIA,PA,PHILADELPHIA CITY SD,$907129.00,Restart,\"5801 MEDIA STPHILADELPHIA, PA 19131(39.9748, -75.2366)\"',\n",
       " 'WILLIAM ALLEN HS,ALLENTOWN,PA,ALLENTOWN CITY SD,$350000.00,Transformation,\"126 NORTH 17TH STALLENTOWN, PA 18104(40.5943, -75.4915)\"',\n",
       " 'CLYMER GEORGE SCH,PHILADELPHIA,PA,PHILADELPHIA CITY SD,$392068.00,Transformation,\"1201 WEST RUSH STPHILADELPHIA, PA 19133(39.9956, -75.1504)\"',\n",
       " 'MANN WILLIAM B SCH,PHILADELPHIA,PA,PHILADELPHIA CITY SD,$794021.00,Restart,\"5376 WEST BERKS STPHILADELPHIA, PA 19131(39.986, -75.2314)\"',\n",
       " 'TURKEYFOOT VALLEY AREA JSHS,CONFLUENCE,PA,TURKEYFOOT VALLEY AREA SD,$286500.00,Transformation,\"172 TURKEYFOOT RDCONFLUENCE, PA 15424(39.7992, -79.3297)\"',\n",
       " 'PHILADELPHIA MONTESSORI CS,PHILADELPHIA,PA,PHILADELPHIA MONTESSORI CS,$305763.00,Transformation,\"2227 ISLAND RDPHILADELPHIA, PA 19142(39.9166, -75.2454)\"',\n",
       " 'GRATZ SIMON HS,PHILADELPHIA,PA,PHILADELPHIA CITY SD,$508486.00,Transformation,\"1798 WEST HUNTING PARK AVEPHILADELPHIA, PA 19140(40.0146, -75.1566)\"',\n",
       " 'PENN HILLS SHS,PITTSBURGH,PA,PENN HILLS SD,$109958.00,Transformation,\"12200 GARLAND DRPITTSBURGH, PA 15235(40.4683, -79.8191)\"',\n",
       " 'KING M L EL SCH,PITTSBURGH,PA,PITTSBURGH SD,$234233.00,Transformation,\"50 MONTGOMERY PLACEACEPITTSBURGH, PA 15212(40.4546, -80.0053)\"',\n",
       " 'LINCOLN HS,PHILADELPHIA,PA,PHILADELPHIA CITY SD,$14.00,Transformation,\"3201 RYAN AVEPHILADELPHIA, PA 19136(40.0403, -75.0433)\"',\n",
       " 'PERRY TRADITIONAL ACADEMY,PITTSBURGH,PA,PITTSBURGH SD,$320412.00,Transformation,\"3875 PERRYSVILLE AVEPITTSBURGH, PA 15214(40.489, -80.0179)\"',\n",
       " 'REYNOLDS MS,LANCASTER,PA,LANCASTER SD,$531891.00,Transformation,\"605 WEST WALNUT STLANCASTER, PA 17603(40.0416, -76.3182)\"',\n",
       " 'CHARLOTTE WOODS ELEMENTARY SCHOOL,PROVIDENCE,RI,PROVIDENCE,,,\"674 PRAIRIE AVEPROVIDENCE, RI 2905(41.7957, -71.4106)\"',\n",
       " '\"LILLIAN FEINSTEIN ELEMENTARY, SACKETT STREET\",PROVIDENCE,RI,PROVIDENCE,,,\"159 SACKETT STPROVIDENCE, RI 2907(41.794, -71.4193)\"',\n",
       " 'ROGER WILLIAMS MIDDLE SCHOOL,PROVIDENCE,RI,PROVIDENCE,,,\"278 THURBERS AVEPROVIDENCE, RI 2905(41.7984, -71.4109)\"',\n",
       " 'FEINSTEIN HIGH SCHOOL,PROVIDENCE,RI,PROVIDENCE,,,\"544 ELMWOOD AVEPROVIDENCE, RI 2907(41.7977, -71.4254)\"',\n",
       " 'WILLIAM B. COOLEY/HEALTH AND SCIENCE TECH. ACADEMY,PROVIDENCE,RI,PROVIDENCE,,,\"182 THURBERS AVEPROVIDENCE, RI 2905(41.7981, -71.4078)\"',\n",
       " 'CENTRAL FALLS SENIOR HIGH SCHOOL,CENTRAL FALLS,RI,CENTRAL FALLS,,,\"24 SUMMER STCENTRAL FALLS, RI 2863(41.8872, -71.3916)\"',\n",
       " 'RIDGELAND MIDDLE,RIDGELAND,SC,JASPER 01,$573338.00,Transformation,\"250 JAGUAR TRAILRIDGELAND, SC 29936(32.5084, -80.9382)\"',\n",
       " 'J V MARTIN JR HIGH,DILLON,SC,DILLON 02,$908486.00,Transformation,\"301 MARTIN LUTHER KING JR BLVDDILLON, SC 29536(34.4202, -79.3733)\"',\n",
       " 'DENMARK-OLAR MIDDLE,DENMARK,SC,BAMBERG 02,$571626.00,Transformation,\"45 GREEN STDENMARK, SC 29042(33.3022, -81.1443)\"',\n",
       " 'KINGSTREE JR HIGH,KINGSTREE,SC,WILLIAMSBURG 01,$639839.00,Transformation,\"710 THIRD AVEKINGSTREE, SC 29556(33.6735, -79.8286)\"',\n",
       " 'EAU CLAIRE HIGH,COLUMBIA,SC,RICHLAND 01,$717125.00,Transformation,\"4800 MONTICELLO RDCOLUMBIA, SC 29203(34.0476, -81.0433)\"',\n",
       " 'ESTILL HIGH,ESTILL,SC,HAMPTON 02,$502925.00,Transformation,\"1450 COLUMBIA HWYESTILL, SC 29918(32.7909, -81.2405)\"',\n",
       " 'MANNING JUNIOR HIGH,MANNING,SC,CLARENDON 02,$672451.00,Transformation,\"1101 WL HAMILTON RDMANNING, SC 29102(33.659, -80.2688)\"',\n",
       " 'DENMARK OLAR HIGH,DENMARK,SC,BAMBERG 02,$571626.00,Transformation,\"197 VIKING CIRCLECLEDENMARK, SC 29042(33.3276, -81.124)\"',\n",
       " 'WHITLOCK JR HIGH,SPARTANBURG,SC,SPARTANBURG 07,$254323.00,Closure,\"364 SUCCESSFUL WAYSPARTANBURG, SC 29303(34.9953, -81.9194)\"',\n",
       " 'WEST LEE ELEM,REMBERT,SC,LEE 01,$698507.00,Transformation,\"55 WEST LEE SCHOOL RDREMBERT, SC 29128(34.1555, -80.3577)\"',\n",
       " 'ESTILL MIDDLE,ESTILL,SC,HAMPTON 02,$503608.00,Transformation,\"555 3RD STESTILL, SC 29918(32.7537, -81.2312)\"',\n",
       " 'N CHARLESTON HIGH,NORTH CHARLESTON,SC,CHARLESTON 01,$756937.00,Transformation,\"1087 EAST MONTAGUE AVENORTH CHARLESTON, SC 29405(32.8803, -79.9785)\"',\n",
       " 'ALLENDALE-FAIRFAX MIDDLE,FAIRFAX,SC,ALLENDALE 01,$449430.00,Transformation,\"3305 ALLENDALE FAIRFAX HWYFAIRFAX, SC 29827(32.9821, -81.2705)\"',\n",
       " 'CARVER JR HIGH,SPARTANBURG,SC,SPARTANBURG 07,$126267.00,Transformation,\"467 SOUTH CHURCH STSPARTANBURG, SC 29306(34.9396, -81.9281)\"',\n",
       " 'HARDEEVILLE MIDDLE/HIGH,HARDEEVILLE,SC,JASPER 01,$579145.00,Transformation,\"150 HURRICANE ALLEYHARDEEVILLE, SC 29927(32.2868, -81.0806)\"',\n",
       " 'CAROLINA HIGH,GREENVILLE,SC,GREENVILLE 01,$905959.00,Transformation,\"2725 ANDERSON RDGREENVILLE, SC 29611(34.8137, -82.4428)\"',\n",
       " 'MORNINGSIDE MIDDLE,NORTH CHARLESTON,SC,CHARLESTON 01,$712019.00,Transformation,\"1999 SINGLEY LNNORTH CHARLESTON, SC 29405(32.8775, -80.0024)\"',\n",
       " 'FAIRFAX ELEM,FAIRFAX,SC,ALLENDALE 01,$411971.00,Transformation,\"734 14TH ST EASTFAIRFAX, SC 29827(32.9518, -81.2294)\"',\n",
       " 'C A JOHNSON PREPATORY ACAD,COLUMBIA,SC,RICHLAND 01,$717125.00,Transformation,\"2219 BARHAMVILLE RDCOLUMBIA, SC 29204(34.0244, -81.0192)\"',\n",
       " 'SITTING BULL SCHOOL,LITTLE EAGLE,SD,SITTING BULL SCHOOL,,Transformation,\"1 SCHOOL STREET, PO BOX 26LITTLE EAGLE, SD 58335(45.6847, -100.801)\"',\n",
       " 'FAMILY IMMERSION CENTER MIDDLE - 53,SIOUX FALLS,SD,SIOUX FALLS SCHOOL DISTRICT 49-5,$168131.00,Turnaround,\"201 NORTH WEST AVESIOUX FALLS, SD 57104(43.5486, -96.7468)\"',\n",
       " 'NEW UNDERWOOD HIGH SCHOOL - 01,NEW UNDERWOOD,SD,NEW UNDERWOOD SCHOOL DISTRICT 51-3,$362759.00,Transformation,\"300 EAST ASHNEW UNDERWOOD, SD 57761(44.0942, -102.834)\"',\n",
       " 'NORTHSIDE HIGH SCHOOL,MEMPHIS,TN,MEMPHIS CITY SCHOOL DISTRICT,$267249.00,Turnaround,\"1212 VOLLINTINEMEMPHIS, TN 38107(35.1654, -90.0167)\"',\n",
       " 'HAMILTON HIGH SCHOOL,MEMPHIS,TN,MEMPHIS CITY SCHOOL DISTRICT,$274487.00,Transformation,\"1363 PERSONMEMPHIS, TN 38106(35.1006, -90.0191)\"',\n",
       " 'HOWARD ACADEMY OF ACADEMICS TECHNOLOGY,CHATTANOOGA,TN,HAMILTON COUNTY SCHOOL DISTRCT,$629999.00,Turnaround,\"2500 SOUTH MARKET STCHATTANOOGA, TN 37408(35.0259, -85.3088)\"',\n",
       " 'TREZEVANT HIGH SCHOOL,MEMPHIS,TN,MEMPHIS CITY SCHOOL DISTRICT,$306934.00,Transformation,\"3350 TREZEVANTMEMPHIS, TN 38127(35.2166, -89.9786)\"',\n",
       " 'FRAYSER MIDDLE/ HIGH SCHOOL,MEMPHIS,TN,MEMPHIS CITY SCHOOL DISTRICT,$248250.00,Transformation,\"1530 DELLWOODMEMPHIS, TN 38127(35.2132, -90.0125)\"',\n",
       " 'HIXSON HIGH SCHOOL,HIXSON,TN,HAMILTON COUNTY SCHOOL DISTRCT,$620296.00,Transformation,\"5705 MIDDLE VALLEY RDHIXSON, TN 37343(35.1557, -85.2224)\"',\n",
       " 'SHEFFIELD HIGH SCHOOL,MEMPHIS,TN,MEMPHIS CITY SCHOOL DISTRICT,$376370.00,Turnaround,\"4315 SHEFFIELDMEMPHIS, TN 38118(35.0627, -89.9197)\"',\n",
       " 'MANASSAS HIGH SCHOOL,MEMPHIS,TN,MEMPHIS CITY SCHOOL DISTRICT,$269863.00,Turnaround,\"781 FIRESTONE BLVDMEMPHIS, TN 38107(35.1747, -90.0309)\"',\n",
       " 'MOUNT PLEASANT HIGH SCHOOL,MT PLEASANT,TN,MAURY COUNTY SCHOOL DISTRICT,$736026.00,Transformation,\"600 NORTH GREENWOOD AVEMT PLEASANT, TN 38474(35.5434, -87.2103)\"',\n",
       " 'RALEIGH EGYPT MIDDLE SCHOOL,MEMPHIS,TN,MEMPHIS CITY SCHOOL DISTRICT,$103092.00,Turnaround,\"4215 ALICE ANN DRMEMPHIS, TN 38128(35.2403, -89.9287)\"',\n",
       " 'KINGSBURY MIDDLE/HIGH SCHOOL,MEMPHIS,TN,MEMPHIS CITY SCHOOL DISTRICT,$259513.00,Transformation,\"1270 NORTH GRAHAMMEMPHIS, TN 38122(35.1665, -89.9243)\"',\n",
       " 'AUSTIN EAST HIGH/MAGNET SCHOOL,KNOXVILLE,TN,KNOX COUNTY SCHOOL DISTRICT,$905629.00,Turnaround,\"2800 M L KING JR AVEKNOXVILLE, TN 37914(35.9889, -83.8884)\"',\n",
       " 'SUNSET H S,EL PASO,TX,EL PASO ISD,,Transformation,\"6531 BOEING DREL PASO, TX 79925(31.7951, -106.398)\"',\n",
       " 'SOUTHWEST PREPARATORY SCHOOL-NORTHWEST,SAN ANTONIO,TX,SOUTHWEST PREPARATORY SCHOOL,,Transformation,\"6535 CULEBRA RDSAN ANTONIO, TX 78238(29.4511, -98.6183)\"',\n",
       " 'NORTH FOREST H S,HOUSTON,TX,NORTH FOREST ISD,,Transformation,\"7525 TIDWELL RDHOUSTON, TX 77016(29.8486, -95.2964)\"',\n",
       " 'FRANKLIN D ROOSEVELT HIGH SCHOOL,DALLAS,TX,DALLAS ISD,,Transformation,\"525 BONNIE VIEW RDDALLAS, TX 75203(32.7423, -96.7966)\"',\n",
       " 'JUAREZ-LINCOLN H S,LA JOYA,TX,LA JOYA ISD,,Transformation,\"801 NORTH COYOTE DRLA JOYA, TX 78560(26.2358, -98.4771)\"',\n",
       " 'JOHN H WOOD JR CS GRANBURY,GRANBURY,TX,JOHN H WOOD JR PUBLIC CHARTER DISTRICT,,Transformation,\"1300 CROSSLAND RDGRANBURY, TX 76048(32.4454, -97.8067)\"',\n",
       " 'REAGAN H S,AUSTIN,TX,AUSTIN ISD,,Transformation,\"7104 BERKMAN DRAUSTIN, TX 78752(30.324, -97.69)\"',\n",
       " 'SENTRY TECHNOLOGY PREP SCH,BROWNSVILLE,TX,ONE STOP MULTISERVICE CHARTER SCHOOL,,Transformation,\"508 EAST ELIZABETHBROWNSVILLE, TX 78520(25.9057, -97.5031)\"',\n",
       " 'LEE H S,HOUSTON,TX,HOUSTON ISD,,Transformation,\"6529 BEVERLY HILL LNHOUSTON, TX 77057(29.7305, -95.5)\"',\n",
       " 'GEORGE I SANCHEZ CHARTER H S SAN ANTONIO BRANCH,SAN ANTONIO,TX,GEORGE I SANCHEZ CHARTER HS SAN ANTONIO BRANCH,,Transformation,\"201 MEREDITH DRSAN ANTONIO, TX 78228(29.4658, -98.5432)\"',\n",
       " 'FLORESVILLE CHOICE PROGRAM,FLORESVILLE,TX,FLORESVILLE ISD,,Turnaround,\"501 10TH STFLORESVILLE, TX 78114(29.1497, -98.1623)\"',\n",
       " 'MID-VALLEY ACADEMY,MERCEDES,TX,MID-VALLEY ACADEMY,,Transformation,\"103 EAST 2ND STMERCEDES, TX 78570(26.15, -97.9095)\"',\n",
       " 'PROFIT MAGNET HIGH SCHOOL,VICTORIA,TX,VICTORIA ISD,,Transformation,\"104 PROFIT DRVICTORIA, TX 77901(28.8069, -96.9806)\"',\n",
       " 'SOUTHWEST PREPARATORY SOUTHEAST CAMPUS,SAN ANTONIO,TX,SOUTHWEST PREPARATORY SCHOOL,,Transformation,\"735 SOUTH WW WHITE RDSAN ANTONIO, TX 78220(29.419, -98.4056)\"',\n",
       " 'MERCEDES ACADEMIC ACADEMY,MERCEDES,TX,MERCEDES ISD,,Transformation,\"333 SOUTH OHIO STMERCEDES, TX 78570(26.1486, -97.9122)\"',\n",
       " 'STARR ACADEMY,BOYS RANCH,TX,BOYS RANCH ISD,,Transformation,\"164 RIVER RDBOYS RANCH, TX 79010(35.531, -102.251)\"',\n",
       " 'JOHN H WOOD JR CHARTER SCHOOL AT AFTON OAKS,SAN ANTONIO,TX,JOHN H WOOD JR PUBLIC CHARTER DISTRICT,,Transformation,\"620 EAST AFTON OAKS BLVDSAN ANTONIO, TX 78232(29.6067, -98.4827)\"',\n",
       " 'H M KING HIGH SCHOOL,KINGSVILLE,TX,KINGSVILLE ISD,,Transformation,\"2210 SOUTH BRAHMA BLVDKINGSVILLE, TX 78363(27.4926, -97.8558)\"',\n",
       " 'ALICE H S,ALICE,TX,ALICE ISD,,Transformation,\"1 COYOTE TRLALICE, TX 78332(27.7596, -98.0521)\"',\n",
       " 'ONE STOP MULTISERVICE,WESLACO,TX,ONE STOP MULTISERVICE CHARTER SCHOOL,,Transformation,\"615 SOUTH INTERNATIONALWESLACO, TX 78596(26.1538, -97.9584)\"',\n",
       " 'KASHMERE H S,HOUSTON,TX,HOUSTON ISD,,Transformation,\"6900 WILEYVALE STHOUSTON, TX 77028(29.822, -95.3151)\"',\n",
       " 'SOUTH PLAINS ACADEMY,LUBBOCK,TX,SOUTH PLAINS,,Transformation,\"4008 AVE RLUBBOCK, TX 79412(33.5576, -101.857)\"',\n",
       " 'TELLES ACADEMY,EL PASO,TX,EL PASO ISD,,Transformation,\"320 SOUTH CAMPBELL STEL PASO, TX 79901(31.757, -106.483)\"',\n",
       " 'PASO DEL NORTE ACADEMY,EL PASO,TX,PASO DEL NORTE,,Transformation,\"711 NORTH MESAEL PASO, TX 79902(31.7629, -106.491)\"',\n",
       " 'HOUSTON H S,SAN ANTONIO,TX,SAN ANTONIO ISD,,Transformation,\"4635 EAST HOUSTON STSAN ANTONIO, TX 78220(29.4241, -98.4026)\"',\n",
       " 'JUVENILE DETENTION CTR,EDINBURG,TX,EDINBURG CISD,,Transformation,\"3100 SOUTH HWY 281EDINBURG, TX 78539(26.2749, -98.1703)\"',\n",
       " 'SOUTHWEST PREPARATORY SCHOOL,SAN ANTONIO,TX,SOUTHWEST PREPARATORY SCHOOL,,Transformation,\"1258 AUSTIN HWYSAN ANTONIO, TX 78209(29.489, -98.4439)\"',\n",
       " 'ESTACADO H S,LUBBOCK,TX,LUBBOCK ISD,,Transformation,\"1504 EAST ITASCA STLUBBOCK, TX 79403(33.6084, -101.822)\"',\n",
       " 'PAUL A BROWN ALTERNATIVE CENTER,BEAUMONT,TX,BEAUMONT ISD,,Transformation,\"1900 POPE STBEAUMONT, TX 77703(30.1102, -94.1158)\"',\n",
       " 'RAVEN SCHOOL,NEW WAVERLY,TX,RAVEN SCHOOL,,Transformation,\"143 FOREST SERVICE RD 233NEW WAVERLY, TX 77358(30.5211, -95.4766)\"',\n",
       " 'NEW ASPIRATIONS,HOUSTON,TX,HOUSTON ISD,,Transformation,\"7055 BEECHNUTHOUSTON, TX 77074(29.691, -95.5082)\"',\n",
       " 'AZLEWAY CHARTER SCHOOL PINE MOUNTAIN,PALESTINE,TX,AZLEWAY CHARTER SCHOOL,,Turnaround,\"600 PR 8404PALESTINE, TX 75803(30.0692, -99.2247)\"',\n",
       " 'GEORGE I SANCHEZ H S,HOUSTON,TX,GEORGE I SANCHEZ CHARTER,,Transformation,\"6001 GULF FWY BLDG B3HOUSTON, TX 77023(29.7154, -95.3119)\"',\n",
       " 'JONES H S,HOUSTON,TX,HOUSTON ISD,,Transformation,\"7414 ST LO RDHOUSTON, TX 77033(29.6751, -95.3423)\"',\n",
       " 'MID-VALLEY ACADEMY (9-12),SAN BENITO,TX,MID-VALLEY ACADEMY,,Transformation,\"1785 WEST BUSINESS HWY 77SAN BENITO, TX 78586(26.1558, -97.6512)\"',\n",
       " 'SCHOOL-AGE PARENT CTR,EL PASO,TX,EL PASO ISD,,Transformation,\"1170 WALNUT STEL PASO, TX 79930(31.7819, -106.473)\"',\n",
       " 'FOCUS LEARNING ACADEMY,DALLAS,TX,FOCUS LEARNING ACADEMY,,Transformation,\"2524 WEST LEDBETTER DRDALLAS, TX 75233(32.6903, -96.8596)\"',\n",
       " 'FOX TECHNICAL H S,SAN ANTONIO,TX,SAN ANTONIO ISD,,Transformation,\"637 NORTH MAIN AVESAN ANTONIO, TX 78205(29.4334, -98.494)\"',\n",
       " 'H GRADY SPRUCE H S,DALLAS,TX,DALLAS ISD,,Transformation,\"9733 OLD SEAGOVILLE RDDALLAS, TX 75217(32.7087, -96.6544)\"',\n",
       " 'POSITIVE SOLUTIONS CHARTER,SAN ANTONIO,TX,POSITIVE SOLUTIONS CHARTER SCHOOL,,Transformation,\"1325 NORTH FLORES STE 100SAN ANTONIO, TX 78212(29.4387, -98.5034)\"',\n",
       " 'LA JOYA PALMVIEW H S,LA JOYA,TX,LA JOYA ISD,,Transformation,\"603 NORTH COYOTE DRLA JOYA, TX 78560(26.2358, -98.4771)\"',\n",
       " 'TRAVIS H S,AUSTIN,TX,AUSTIN ISD,,Transformation,\"1211 EAST OLTORF STAUSTIN, TX 78704(30.2347, -97.744)\"',\n",
       " 'CHILDREN OF THE SUN,RIO GRANDE CITY,TX,ONE STOP MULTISERVICE CHARTER SCHOOL,,Transformation,\"5324 EAST US HWY 83 STE 2RIO GRANDE CITY, TX 78582(26.3549, -98.7723)\"',\n",
       " 'SHARPSTOWN H S,HOUSTON,TX,HOUSTON ISD,,Transformation,\"7504 BISSONNET STHOUSTON, TX 77074(29.6841, -95.516)\"',\n",
       " 'AZLEWAY CHARTER SCHOOL,TYLER,TX,AZLEWAY CHARTER SCHOOL,,Transformation,\"15892 CR26TYLER, TX 75707(32.3484, -95.1425)\"',\n",
       " 'ACADEMY HIGH SCHOOL,BUDA,TX,HAYS CISD,,Transformation,\"4950 JACK C HAYS TRLBUDA, TX 78610(30.0348, -97.8879)\"',\n",
       " 'CONTEMPORARY LRN CTR H S,HOUSTON,TX,HOUSTON ISD,,Transformation,\"1906 CLEBURNE STHOUSTON, TX 77004(29.7305, -95.3745)\"',\n",
       " 'MID-VALLEY ACADEMY-MCALLEN,MCALLEN,TX,MID-VALLEY ACADEMY,,Transformation,\"200 NORTH 17TH STMCALLEN, TX 78501(26.206, -98.2375)\"',\n",
       " 'ODYSSEY ELEMENTARY,OGDEN,UT,OGDEN DISTRICT,$549444.00,Transformation,\"375 GODDARDOGDEN, UT 84403(41.2045, -111.972)\"',\n",
       " 'BLUFF SCHOOL,BLUFF,UT,SAN JUAN DISTRICT,$278779.00,Transformation,\"OLD MAIN HWYBLUFF, UT 84512(37.6288, -109.478)\"',\n",
       " 'JAMES MADISON ELEMENTARY,OGDEN,UT,OGDEN DISTRICT,$549444.00,Transformation,\"2563 MONROE BLVDOGDEN, UT 84401(41.2192, -111.959)\"',\n",
       " 'NORTHWEST MIDDLE,SALT LAKE CITY,UT,SALT LAKE DISTRICT,$806790.00,Transformation,\"1730 WEST 1700 NORTHSALT LAKE CITY, UT 84116(40.8057, -111.94)\"',\n",
       " 'DEE SCHOOL,OGDEN,UT,OGDEN DISTRICT,$549444.00,Transformation,\"550 - 22ND STOGDEN, UT 84401(41.2269, -111.966)\"',\n",
       " 'GLENDALE MIDDLE,SALT LAKE CITY,UT,SALT LAKE DISTRICT,$806790.00,Transformation,\"1430 ANDREW AVESALT LAKE CITY, UT 84104(40.7369, -111.93)\"',\n",
       " 'GRANGER HIGH,WEST VALLEY CITY,UT,GRANITE DISTRICT,$710934.00,Transformation,\"3690 SOUTH 3600 WESTWEST VALLEY CITY, UT 84119(40.6921, -111.977)\"',\n",
       " 'FRED D. THOMPSON MIDDLE,RICHMOND,VA,RICHMOND CITY PBLC SCHS,$501500.00,Transformation,\"7824 FOREST HILL AVERICHMOND, VA 23225(37.534, -77.5399)\"',\n",
       " 'LAKE TAYLOR MIDDLE,NORFOLK,VA,NORFOLK CITY PBLC SCHS,$135251.00,Transformation,\"1380 KEMPSVILLE RDNORFOLK, VA 23502(36.869, -76.2044)\"',\n",
       " 'FRIES MIDDLE,FRIES,VA,GRAYSON CO PBLC SCHS,$500000.00,Transformation,\"114 EAST MAIN STFRIES, VA 24330(36.7149, -80.9733)\"',\n",
       " 'T.C. WILLIAMS HIGH,ALEXANDRIA,VA,ALEXANDRIA CITY PBLC SCHS,$2.00,Transformation,\"3330 KING STALEXANDRIA, VA 22302(38.8248, -77.0857)\"',\n",
       " 'WESTSIDE ELEM.,ROANOKE,VA,ROANOKE CITY PBLC SCHS,$580100.00,Transformation,\"1441 WESTSIDE BLVD NWROANOKE, VA 24017(37.3009, -79.995)\"',\n",
       " 'PRINCE EDWARD COUNTY HIGH,FARMVILLE,VA,PRINCE EDWARD CO PBLC SCHS,$499586.00,Transformation,\"35 EAGLE DRFARMVILLE, VA 23901(37.2941, -78.3844)\"',\n",
       " 'CENTRAL HIGH,KING AND QUEEN C H,VA,KING AND QUEEN CO PBLC SCHS,$685661.00,Transformation,\"17024 THE TRAILKING AND QUEEN C H, VA 23085(37.6753, -76.8836)\"',\n",
       " 'LANGSTON FOCUS SCHOOL,DANVILLE,VA,DANVILLE CITY PBLC SCHS,$946198.00,Restart,\"228 CLEVELAND STDANVILLE, VA 24541(36.5835, -79.4056)\"',\n",
       " 'ARMSTRONG HIGH,RICHMOND,VA,RICHMOND CITY PBLC SCHS,$859600.00,Restart,\"2300 COOL LNRICHMOND, VA 23223(37.5524, -77.4031)\"',\n",
       " 'PEABODY MIDDLE,PETERSBURG,VA,PETERSBURG CITY PBLC SCHS,$460723.00,Transformation,\"725 WESLEY STPETERSBURG, VA 23803(37.2175, -77.4102)\"',\n",
       " 'NEW BRIDGE SCHOOL,RICHMOND,VA,HENRICO CO PBLC SCHS,$50000.00,Closure,\"5915 NINE MILE RDRICHMOND, VA 23223(37.551, -77.3434)\"',\n",
       " 'COLONIAL BEACH HIGH,COLONIAL BEACH,VA,COLONIAL BEACH PBLC SCHS,$571500.00,Transformation,\"100 FIRST STCOLONIAL BEACH, VA 22443(38.2601, -76.9667)\"',\n",
       " 'ELLEN W. CHAMBLISS ELEM.,WAKEFIELD,VA,SUSSEX CO PBLC SCHS,$400000.00,Restart,\"10415 HIGGINS STWAKEFIELD, VA 23888(36.9756, -76.9972)\"',\n",
       " 'THOMAS C. BOUSHALL MIDDLE,RICHMOND,VA,RICHMOND CITY PBLC SCHS,$613340.00,Restart,\"3400 HOPKINS RDRICHMOND, VA 23234(37.4709, -77.4686)\"',\n",
       " 'RUFFNER MIDDLE,NORFOLK,VA,NORFOLK CITY PBLC SCHS,$135542.00,Transformation,\"610 MAY AVENORFOLK, VA 23504(36.8474, -76.2767)\"',\n",
       " 'VA. RANDOLPH COMM. HIGH,GLEN ALLEN,VA,HENRICO CO PBLC SCHS,$50000.00,Closure,\"2204 MOUNTAIN RDGLEN ALLEN, VA 23060(37.6615, -77.483)\"',\n",
       " 'JAMES S. RUSSELL MIDDLE,LAWRENCEVILLE,VA,BRUNSWICK CO PBLC SCHS,$490820.00,Transformation,\"19400 CHRISTANNA HWYLAWRENCEVILLE, VA 23868(36.7802, -77.8766)\"',\n",
       " 'SUSSEX CENTRAL MIDDLE,SUSSEX,VA,SUSSEX CO PBLC SCHS,$529167.00,Restart,\"21356 SUSSEX DRSUSSEX, VA 23884(36.915, -77.2794)\"',\n",
       " 'MOUNT ABRAHAM UHSD #28,BRISTOL,VT,MOUNT ABRAHAM UHSD #28,$230110.00,Transformation,\"220 AIRPOROUTE DRBRISTOL, VT 5443(44.1355, -73.0934)\"',\n",
       " 'NORTHFIELD ELEMENTARY SCHOOL,NORTHFIELD,VT,NORTHFIELD SCHOOL DISTRICT,$215600.00,Transformation,\"10 CROSS STNORTHFIELD, VT 5663(44.1545, -72.6617)\"',\n",
       " 'H. O. WHEELER SCHOOL,BURLINGTON,VT,BURLINGTON SCHOOL DISTRICT,$368200.00,Transformation,\"6 ARCHIBALD STBURLINGTON, VT 5401(44.488, -73.2139)\"',\n",
       " 'LAMOILLE UHSD #18,HYDE PARK,VT,LAMOILLE UHSD #18,$242458.00,Transformation,\"736 VT ROUTE 15 WESTHYDE PARK, VT 5655(44.6072, -72.612)\"',\n",
       " 'WINOOSKI HIGH SCHOOL,WINOOSKI,VT,WINOOSKI SCHOOL DISTRICT,$166477.00,Transformation,\"80 NORMAND STWINOOSKI, VT 5404(44.5012, -73.181)\"',\n",
       " 'ST. JOHNSBURY SCHOOL,ST JOHNSBURY,VT,SAINT JOHNSBURY SCHOOL DISTRICT,$380045.00,Transformation,\"257 WESTERN AVEST JOHNSBURY, VT 5819(44.4166, -72.0247)\"',\n",
       " 'JOHNSON ELEMENTARY SCHOOL,JOHNSON,VT,JOHNSON SCHOOL DISTRICT,$192559.00,Transformation,\"57 COLLEGE HILLJOHNSON, VT 5656(44.637, -72.6748)\"',\n",
       " 'WINDSOR HIGH SCHOOL,WINDSOR,VT,WINDSOR SCHOOL DISTRICT,$257889.00,Transformation,\"19 ASCUTNEY STWINDSOR, VT 5089(43.4799, -72.3946)\"',\n",
       " 'RUTLAND SENIOR HIGH SCHOOL,RUTLAND,VT,RUTLAND CITY SCHOOL DISTRICT,$382364.00,Transformation,\"22 STRATTON RDRUTLAND, VT 5701(43.6176, -72.9546)\"',\n",
       " 'FAIR HAVEN UHSD #16,FAIR HAVEN,VT,FAIR HAVEN UHSD #16,$314781.00,Transformation,\"33 MECHANIC ST EXTENSIONFAIR HAVEN, VT 5743(43.6013, -73.2704)\"',\n",
       " 'STEWART,TACOMA,WA,TACOMA SCHOOL DISTRICT,$152512.00,Turnaround,\"5010 PACIFIC AVETACOMA, WA 98408(47.2109, -122.435)\"',\n",
       " 'SUNNYSIDE HIGH SCHOOL,SUNNYSIDE,WA,SUNNYSIDE SCHOOL DISTRICT,$162541.00,Transformation,\"1801 EAST EDISON AVESUNNYSIDE, WA 98944(46.3237, -119.997)\"',\n",
       " 'TULALIP ELEMENTARY,MARYSVILLE,WA,MARYSVILLE SCHOOL DISTRICT,$734480.00,Turnaround,\"7730 36TH AVE NWMARYSVILLE, WA 98271(48.0661, -122.281)\"',\n",
       " 'CASCADE MIDDLE SCHOOL,SEATTLE,WA,HIGHLINE SCHOOL DISTRICT,$730000.00,Transformation,\"11212 10TH AVE SWSEATTLE, WA 98146(47.5019, -122.347)\"',\n",
       " 'ADAMS ELEMENTARY SCHOOL,YAKIMA,WA,YAKIMA SCHOOL DISTRICT,$116293.00,Transformation,\"723 SOUTH 8TH STYAKIMA, WA 98901(46.5953, -120.491)\"',\n",
       " 'HAWTHORNE ELEMENTARY SCHOOL,SEATTLE,WA,SEATTLE PUBLIC SCHOOLS,$533531.00,Transformation,\"4100 39 AV SOUTHSEATTLE, WA 98118(47.5661, -122.284)\"',\n",
       " 'MARYSVILLE MIDDLE SCHOOL,MARYSVILLE,WA,MARYSVILLE SCHOOL DISTRICT,$109526.00,Transformation,\"4923 67TH ST NEMARYSVILLE, WA 98270(48.0567, -122.164)\"',\n",
       " 'GRANDVIEW MIDDLE SCHOOL,GRANDVIEW,WA,GRANDVIEW SCHOOL DISTRICT,$1055.00,Transformation,\"1401 WEST 2ND STGRANDVIEW, WA 98930(46.2549, -119.921)\"',\n",
       " 'WELLPINIT ELEMENTARY SCHOOL,WELLPINIT,WA,WELLPINIT SCHOOL DISTRICT,$178996.00,Transformation,\"6270 FORD WELLPINIT RDWELLPINIT, WA 99040(47.9041, -117.922)\"',\n",
       " 'JASON LEE,TACOMA,WA,TACOMA SCHOOL DISTRICT,$100573.00,Transformation,\"602 NORTH SPRAGUE AVETACOMA, WA 98403(47.2563, -122.465)\"',\n",
       " 'HIGH POINT ELEMENTARY SCHOOL,SEATTLE,WA,SEATTLE PUBLIC SCHOOLS,$452925.00,Transformation,\"6760 34 AV SWSEATTLE, WA 98126(47.5417, -122.375)\"',\n",
       " 'MONTICELLO MIDDLE SCHOOL,LONGVIEW,WA,LONGVIEW SCHOOL DISTRICT,$515546.00,Transformation,\"1225 28TH AVELONGVIEW, WA 98632(46.1383, -122.958)\"',\n",
       " 'STANTON ALTERNATIVE SCHOOL,YAKIMA,WA,YAKIMA SCHOOL DISTRICT,$945312.00,Transformation,\"901 WEST WHITMAN STYAKIMA, WA 98903(46.5672, -120.519)\"',\n",
       " 'ANGELO GIAUDRONE MIDDLE SCHOOL,TACOMA,WA,TACOMA SCHOOL DISTRICT,$138656.00,Turnaround,\"4902 SOUTH ALASKA STTACOMA, WA 98408(47.2118, -122.459)\"',\n",
       " 'HUNT,TACOMA,WA,TACOMA SCHOOL DISTRICT,$95320.00,Closure,\"6501 SOUTH 10TH STTACOMA, WA 98465(47.2527, -122.524)\"',\n",
       " 'CLEVELAND HIGH SCHOOL,SEATTLE,WA,SEATTLE PUBLIC SCHOOLS,$756677.00,Transformation,\"5511 15 AVE SOUTHSEATTLE, WA 98108(47.5522, -122.313)\"',\n",
       " 'CHINOOK MIDDLE SCHOOL,SEATAC,WA,HIGHLINE SCHOOL DISTRICT,$730000.00,Transformation,\"18650 42ND AVE SOUTHSEATAC, WA 98188(47.4354, -122.282)\"',\n",
       " 'WASHINGTON MIDDLE SCHOOL,YAKIMA,WA,YAKIMA SCHOOL DISTRICT,$115268.00,Transformation,\"510 SOUTH 9TH STYAKIMA, WA 98901(46.5986, -120.491)\"',\n",
       " 'FOSTER & WILLIAMS HIGH SCHOOL OF THE VISUAL ARTS,MILWAUKEE,WI,MILWAUKEE SCHOOL DISTRICT,$5000.00,Closure,\"6700 NORTH 80TH STMILWAUKEE, WI 53223(43.1399, -88.0105)\"',\n",
       " 'DUBOIS HIGH,MILWAUKEE,WI,MILWAUKEE SCHOOL DISTRICT,$5000.00,Closure,\"4141 NORTH 64TH STMILWAUKEE, WI 53216(43.0943, -87.9933)\"',\n",
       " 'CUSTER HIGH,MILWAUKEE,WI,MILWAUKEE SCHOOL DISTRICT,$650093.00,Restart,\"5075 NORTH SHERMAN BLVDMILWAUKEE, WI 53209(43.1092, -87.9672)\"',\n",
       " 'JAMES MADISON ACADEMIC CAMPUS,MILWAUKEE,WI,MILWAUKEE SCHOOL DISTRICT,$749320.00,Transformation,\"8135 WEST FLORIST AVEMILWAUKEE, WI 53218(43.1259, -88.0127)\"',\n",
       " 'VINCENT HIGH,MILWAUKEE,WI,MILWAUKEE SCHOOL DISTRICT,$928024.00,Transformation,\"7501 NORTH GRANVILLE RDMILWAUKEE, WI 53224(43.1546, -88.0321)\"',\n",
       " 'BAY VIEW HIGH,MILWAUKEE,WI,MILWAUKEE SCHOOL DISTRICT,$134909.00,Transformation,\"2751 SOUTH LENOX STMILWAUKEE, WI 53207(42.9944, -87.8988)\"',\n",
       " 'DOWNTOWN INSTITUTE OF ARTS & LETTERS (DIAL),MILWAUKEE,WI,MILWAUKEE SCHOOL DISTRICT,$5000.00,Closure,\"227 WEST PLACEEASANT STMILWAUKEE, WI 53212(43.0525, -87.9131)\"',\n",
       " 'SOUTH DIVISION HIGH,MILWAUKEE,WI,MILWAUKEE SCHOOL DISTRICT,$124643.00,Transformation,\"1515 WEST LAPHAM BLVDMILWAUKEE, WI 53204(43.0142, -87.9317)\"',\n",
       " 'MILWAUKEE AFRICAN AMERICAN IMMERSION HIGH,MILWAUKEE,WI,MILWAUKEE SCHOOL DISTRICT,$567905.00,Restart,\"1011 WEST CENTER STMILWAUKEE, WI 53206(43.0676, -87.9244)\"',\n",
       " 'WHS LAW EDUCATION & PUBLIC SERVICE,MILWAUKEE,WI,MILWAUKEE SCHOOL DISTRICT,$5000.00,Closure,\"2525 NORTH SHERMAN BLVDMILWAUKEE, WI 53210(43.0651, -87.9683)\"',\n",
       " 'BRADLEY TECHNOLOGY HIGH,MILWAUKEE,WI,MILWAUKEE SCHOOL DISTRICT,$1202.00,Transformation,\"700 SOUTH FOURTH STMILWAUKEE, WI 53204(43.0242, -87.9154)\"',\n",
       " 'HAMLIN PK-8,HAMLIN,WV,LINCOLN COUNTY SCHOOLS,$258600.00,Transformation,\"8130 COUROUTE STHAMLIN, WV 25523(38.2787, -82.1042)\"',\n",
       " 'RIVERSIDE HIGH SCHOOL,BELLE,WV,KANAWHA COUNTY SCHOOLS,$481900.00,Transformation,\"1 WARRIOR WAYBELLE, WV 25015(38.2134, -81.5182)\"',\n",
       " 'DODDRIDGE COUNTY ELEMENTARY SCHOOL,WEST UNION,WV,DODDRIDGE COUNTY SCHOOLS,$464200.00,Transformation,\"ROUTE 2 BOX 35-DWEST UNION, WV 26456(39.3027, -80.7765)\"',\n",
       " 'MOUNT VIEW HIGH SCHOOL,WELCH,WV,MCDOWELL COUNTY SCHOOLS,$450000.00,Transformation,\"950 MOUNT VIEW RDWELCH, WV 24801(37.4037, -81.5432)\"',\n",
       " 'WEST HAMLIN ELEMENTARY,WEST HAMLIN,WV,LINCOLN COUNTY SCHOOLS,$156660.00,Transformation,\"ROUTE 1 BOX 112AWEST HAMLIN, WV 25571(38.2813, -82.1979)\"',\n",
       " 'MALDEN ELEMENTARY SCHOOL,CHARLESTON,WV,KANAWHA COUNTY SCHOOLS,$217598.00,Transformation,\"4001 SALINAS DRCHARLESTON, WV 25306(38.301, -81.558)\"',\n",
       " 'MARTINSBURG NORTH MIDDLE SCHOOL,MARTINSBURG,WV,BERKELEY COUNTY SCHOOLS,$461690.00,Transformation,\"250 EAST RDMARTINSBURG, WV 25401(39.4724, -77.9491)\"',\n",
       " 'SANDY RIVER MIDDLE SCHOOL,AVONDALE,WV,MCDOWELL COUNTY SCHOOLS,$370000.00,Transformation,\"ROUTE 80AVONDALE, WV 24811(37.4021, -81.7854)\"',\n",
       " 'STONEWALL JACKSON MIDDLE SCHOOL,CHARLESTON,WV,KANAWHA COUNTY SCHOOLS,$241211.00,Transformation,\"812 PARK AVECHARLESTON, WV 25302(38.3671, -81.6506)\"',\n",
       " 'EAST BANK MIDDLE SCHOOL,EAST BANK,WV,KANAWHA COUNTY SCHOOLS,$314618.00,Transformation,\"FIRST AND BRANNENEAST BANK, WV 25067(38.2142, -81.4499)\"',\n",
       " 'FRANKLIN ELEMENTARY CENTER,PARKERSBURG,WV,WOOD COUNTY SCHOOLS,$389906.00,Transformation,\"1511 DIVISION ST EXTPARKERSBURG, WV 26101(39.2445, -81.5551)\"',\n",
       " 'GUYAN VALLEY MIDDLE,BRANCHLAND,WV,LINCOLN COUNTY SCHOOLS,$341250.00,Transformation,\"700 STATE ROUTE 10 NORTHBRANCHLAND, WV 25506(38.2487, -82.1908)\"',\n",
       " 'CEDAR GROVE MIDDLE SCHOOL,CEDAR GROVE,WV,KANAWHA COUNTY SCHOOLS,$211271.00,Transformation,\"1 JOHN STCEDAR GROVE, WV 25039(38.2174, -81.4285)\"',\n",
       " 'MOUNT HOPE HIGH SCHOOL,MOUNT HOPE,WV,FAYETTE COUNTY SCHOOLS,$342189.00,Transformation,\"110 HIGH SCHOOL DRMOUNT HOPE, WV 25880(37.8981, -81.1571)\"',\n",
       " 'GEARY ELEMENTARY SCHOOL,LEFT HAND,WV,ROANE COUNTY SCHOOLS,$260000.00,Transformation,\"9538 CLAY RDLEFT HAND, WV 25251(38.6188, -81.2463)\"',\n",
       " 'TRIUMPH HIGH SCHOOL,CHEYENNE,WY,LARAMIE COUNTY SCHOOL DISTRICT #1,$297300.00,Transformation,\"2201 MORRIE AVECHEYENNE, WY 82001(41.1423, -104.808)\"',\n",
       " 'HEM JUNIOR/SENIOR HIGH SCHOOL,HANNA,WY,CARBON COUNTY SCHOOL DISTRICT #2,$274000.00,Transformation,\"US HWY 72HANNA, WY 82327(41.8723, -106.548)\"',\n",
       " 'ROOSEVELT HIGH SCHOOL,CASPER,WY,NATRONA COUNTY SCHOOL DISTRICT #1,$431382.00,Transformation,\"140 EAST K STCASPER, WY 82601(42.861, -106.324)\"']"
      ]
     },
     "execution_count": 21,
     "metadata": {},
     "output_type": "execute_result"
    }
   ],
   "source": [
    "#records"
   ]
  },
  {
   "cell_type": "markdown",
   "metadata": {},
   "source": [
    "Look at Philadelphia school data"
   ]
  },
  {
   "cell_type": "code",
   "execution_count": 22,
   "metadata": {},
   "outputs": [
    {
     "name": "stdout",
     "output_type": "stream",
     "text": [
      "SAYRE WILLIAM L MS,PHILADELPHIA,PA,PHILADELPHIA CITY SD,$737032.00,Transformation,\"5800 WALNUT STPHILADELPHIA, PA 19139(39.9584, -75.2375)\"\n",
      "KING MARTIN LUTHER HS,PHILADELPHIA,PA,PHILADELPHIA CITY SD,$786964.00,Transformation,\"6100 STENTON AVEPHILADELPHIA, PA 19138(40.0577, -75.1622)\"\n",
      "DOUGLAS STEPHEN A SCH,PHILADELPHIA,PA,PHILADELPHIA CITY SD,$319320.00,Restart,\"2700 EAST HUNTINGDON STPHILADELPHIA, PA 19125(39.9767, -75.1168)\"\n",
      "LOCKE ALAIN SCH,PHILADELPHIA,PA,PHILADELPHIA CITY SD,$390938.00,Transformation,\"4550 HAVERFORD AVEPHILADELPHIA, PA 19139(39.9625, -75.2136)\"\n",
      "ALCORN JAMES SCH,PHILADELPHIA,PA,PHILADELPHIA CITY SD,$338726.00,Transformation,\"3200 DICKINSON STPHILADELPHIA, PA 19146(39.9354, -75.1973)\"\n",
      "GERMANTOWN HS,PHILADELPHIA,PA,PHILADELPHIA CITY SD,$798792.00,Transformation,\"40 EAST HIGH STPHILADELPHIA, PA 19144(40.0401, -75.1769)\"\n",
      "ROXBOROUGH HS,PHILADELPHIA,PA,PHILADELPHIA CITY SD,$641440.00,Transformation,\"6498 RIDGE AVEPHILADELPHIA, PA 19128(40.0381, -75.2228)\"\n",
      "UNIVERSITY CITY HS,PHILADELPHIA,PA,PHILADELPHIA CITY SD,$923999.00,Turnaround,\"3601 FILBEROUTE STPHILADELPHIA, PA 19104(39.957, -75.1941)\"\n",
      "SMEDLEY FRANKLIN SCH,PHILADELPHIA,PA,PHILADELPHIA CITY SD,$362773.00,Restart,\"1790 BRIDGE STPHILADELPHIA, PA 19124(40.0198, -75.0735)\"\n",
      "WEST PHILADELPHIA HS,PHILADELPHIA,PA,PHILADELPHIA CITY SD,$671142.00,Transformation,\"4700 WALNUT STPHILADELPHIA, PA 19139(39.9557, -75.2157)\"\n",
      "HARRITY WILLIAM F SCH,PHILADELPHIA,PA,PHILADELPHIA CITY SD,$980283.00,Restart,\"5601 CHRISTIAN STPHILADELPHIA, PA 19143(39.9485, -75.2355)\"\n",
      "FRANKFORD HS,PHILADELPHIA,PA,PHILADELPHIA CITY SD,$792001.00,Transformation,\"5000 OXFORD AVEPHILADELPHIA, PA 19124(40.0225, -75.0845)\"\n",
      "VAUX ROBERTS HS,PHILADELPHIA,PA,PHILADELPHIA CITY SD,$466665.00,Turnaround,\"2300 WEST MASTER STPHILADELPHIA, PA 19121(39.9763, -75.1735)\"\n",
      "CLEMENTE ROBERTO MS,PHILADELPHIA,PA,PHILADELPHIA CITY SD,$333327.00,Turnaround,\"122 WEST ERIE AVEPHILADELPHIA, PA 19140(40.0074, -75.1283)\"\n",
      "FELS SAMUEL HS,PHILADELPHIA,PA,PHILADELPHIA CITY SD,$974132.00,Transformation,\"901 DEVEREAUX AVEPHILADELPHIA, PA 19111(40.0417, -75.0883)\"\n",
      "ALLEN DR ETHEL SCH,PHILADELPHIA,PA,PHILADELPHIA CITY SD,$247020.00,Turnaround,\"3200 WEST LEHIGH AVEPHILADELPHIA, PA 19132(39.9977, -75.1836)\"\n",
      "FELTONVILLE INTERMEDIATE SCHOOL,PHILADELPHIA,PA,PHILADELPHIA CITY SD,$244855.00,Transformation,\"4901 RISING SUN AVEPHILADELPHIA, PA 19120(40.0246, -75.1231)\"\n",
      "SOUTH PHILADELPHIA HS,PHILADELPHIA,PA,PHILADELPHIA CITY SD,$579958.00,Transformation,\"2101 SOUTH BRD STPHILADELPHIA, PA 19148(39.9244, -75.1697)\"\n",
      "OLNEY HS WEST,PHILADELPHIA,PA,PHILADELPHIA CITY SD,$272245.00,Transformation,\"100 WEST DUNCANNON AVEPHILADELPHIA, PA 19120(40.0292, -75.1228)\"\n",
      "EDISON HS/FAREIRA SKILLS,PHILADELPHIA,PA,PHILADELPHIA CITY SD,$1.00,Transformation,\"151 WEST LUZERNE STPHILADELPHIA, PA 19140(40.0111, -75.1286)\"\n",
      "STETSON JOHN B MS,PHILADELPHIA,PA,PHILADELPHIA CITY SD,$888708.00,Restart,\"3200 B STPHILADELPHIA, PA 19134(39.9981, -75.1254)\"\n",
      "DAROFF SAMUEL SCH,PHILADELPHIA,PA,PHILADELPHIA CITY SD,$658247.00,Restart,\"5630 VINE STPHILADELPHIA, PA 19139(39.9657, -75.2326)\"\n",
      "BLUFORD GUION EL SCH,PHILADELPHIA,PA,PHILADELPHIA CITY SD,$907129.00,Restart,\"5801 MEDIA STPHILADELPHIA, PA 19131(39.9748, -75.2366)\"\n",
      "CLYMER GEORGE SCH,PHILADELPHIA,PA,PHILADELPHIA CITY SD,$392068.00,Transformation,\"1201 WEST RUSH STPHILADELPHIA, PA 19133(39.9956, -75.1504)\"\n",
      "MANN WILLIAM B SCH,PHILADELPHIA,PA,PHILADELPHIA CITY SD,$794021.00,Restart,\"5376 WEST BERKS STPHILADELPHIA, PA 19131(39.986, -75.2314)\"\n",
      "GRATZ SIMON HS,PHILADELPHIA,PA,PHILADELPHIA CITY SD,$508486.00,Transformation,\"1798 WEST HUNTING PARK AVEPHILADELPHIA, PA 19140(40.0146, -75.1566)\"\n",
      "LINCOLN HS,PHILADELPHIA,PA,PHILADELPHIA CITY SD,$14.00,Transformation,\"3201 RYAN AVEPHILADELPHIA, PA 19136(40.0403, -75.0433)\"\n"
     ]
    }
   ],
   "source": [
    "for record in records:\n",
    "    if \"PHILADELPHIA CITY SD\" in record:\n",
    "        print(record)"
   ]
  },
  {
   "cell_type": "code",
   "execution_count": 23,
   "metadata": {},
   "outputs": [
    {
     "data": {
      "text/plain": [
       "{9}"
      ]
     },
     "execution_count": 23,
     "metadata": {},
     "output_type": "execute_result"
    }
   ],
   "source": [
    "number_of_fields = set()\n",
    "for record in records:\n",
    "    if \"PHILADELPHIA CITY SD\" in record:\n",
    "        number_of_fields.add(len(record.split(\",\")))\n",
    "number_of_fields"
   ]
  },
  {
   "cell_type": "code",
   "execution_count": 24,
   "metadata": {},
   "outputs": [],
   "source": [
    "some_value = \"$14.00\""
   ]
  },
  {
   "cell_type": "markdown",
   "metadata": {},
   "source": [
    "Dictionary use {} and turn $ into real numbers"
   ]
  },
  {
   "cell_type": "code",
   "execution_count": 25,
   "metadata": {},
   "outputs": [
    {
     "ename": "NameError",
     "evalue": "name 'fields' is not defined",
     "output_type": "error",
     "traceback": [
      "\u001b[0;31m---------------------------------------------------------------------------\u001b[0m",
      "\u001b[0;31mNameError\u001b[0m                                 Traceback (most recent call last)",
      "\u001b[0;32m<ipython-input-25-40d474363423>\u001b[0m in \u001b[0;36m<module>\u001b[0;34m()\u001b[0m\n\u001b[1;32m      9\u001b[0m        \u001b[0mfields\u001b[0m \u001b[0;34m=\u001b[0m \u001b[0mrecord\u001b[0m\u001b[0;34m.\u001b[0m\u001b[0msplit\u001b[0m\u001b[0;34m(\u001b[0m\u001b[0;34m\",\"\u001b[0m\u001b[0;34m)\u001b[0m\u001b[0;34m\u001b[0m\u001b[0m\n\u001b[1;32m     10\u001b[0m \u001b[0;34m\u001b[0m\u001b[0m\n\u001b[0;32m---> 11\u001b[0;31m     \u001b[0mschool_name\u001b[0m \u001b[0;34m=\u001b[0m \u001b[0mfields\u001b[0m\u001b[0;34m[\u001b[0m\u001b[0;36m0\u001b[0m\u001b[0;34m]\u001b[0m\u001b[0;34m\u001b[0m\u001b[0m\n\u001b[0m\u001b[1;32m     12\u001b[0m     \u001b[0mamount\u001b[0m      \u001b[0;34m=\u001b[0m \u001b[0mfloat\u001b[0m\u001b[0;34m(\u001b[0m\u001b[0mfields\u001b[0m\u001b[0;34m[\u001b[0m\u001b[0;36m4\u001b[0m\u001b[0;34m]\u001b[0m\u001b[0;34m[\u001b[0m\u001b[0;36m1\u001b[0m\u001b[0;34m:\u001b[0m\u001b[0;34m]\u001b[0m\u001b[0;34m)\u001b[0m\u001b[0;34m\u001b[0m\u001b[0m\n\u001b[1;32m     13\u001b[0m     \u001b[0mmodel\u001b[0m       \u001b[0;34m=\u001b[0m \u001b[0mfields\u001b[0m\u001b[0;34m[\u001b[0m\u001b[0;36m5\u001b[0m\u001b[0;34m]\u001b[0m\u001b[0;34m\u001b[0m\u001b[0m\n",
      "\u001b[0;31mNameError\u001b[0m: name 'fields' is not defined"
     ]
    }
   ],
   "source": [
    "dataset = {\n",
    "    \"SCHOOL_NAME\": [], \n",
    "    \"AMOUNT\":      [],\n",
    "    \"MODEL\":       [] \n",
    "}\n",
    "\n",
    "for record in records:\n",
    "    if \"PHILADELPHIA CITY SD\" in record:\n",
    "    fields = record.split(\",\")\n",
    "    \n",
    "    school_name = fields[0]\n",
    "    amount      = float(fields[4][1:])\n",
    "    model       = fields[5]\n",
    "    \n",
    "    dataset[\"SCHOOL_NAME\"].append(school_name)\n",
    "    dataset[\"AMOUNT\"].append(amount)\n",
    "    dataset[\"MODEL\"].append(model)\n",
    "    \n",
    "dataset"
   ]
  },
  {
   "cell_type": "code",
   "execution_count": null,
   "metadata": {},
   "outputs": [],
   "source": [
    "max(dataset[\"AMOUNT\"])"
   ]
  },
  {
   "cell_type": "code",
   "execution_count": null,
   "metadata": {},
   "outputs": [],
   "source": [
    "min(dataset[\"AMOUNT\"])"
   ]
  },
  {
   "cell_type": "code",
   "execution_count": null,
   "metadata": {},
   "outputs": [],
   "source": [
    "sum(dataset[\"AMOUNT\"])"
   ]
  },
  {
   "cell_type": "code",
   "execution_count": null,
   "metadata": {},
   "outputs": [],
   "source": []
  }
 ],
 "metadata": {
  "kernelspec": {
   "display_name": "Python 3",
   "language": "python",
   "name": "python3"
  },
  "language_info": {
   "codemirror_mode": {
    "name": "ipython",
    "version": 3
   },
   "file_extension": ".py",
   "mimetype": "text/x-python",
   "name": "python",
   "nbconvert_exporter": "python",
   "pygments_lexer": "ipython3",
   "version": "3.6.8"
  }
 },
 "nbformat": 4,
 "nbformat_minor": 2
}
